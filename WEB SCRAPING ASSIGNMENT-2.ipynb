{
 "cells": [
  {
   "cell_type": "markdown",
   "metadata": {},
   "source": [
    "# Q1: Write a python pogram to scrape data for \"Data Analyst\" Job position in \"Banglore\" location. You have to scrape the job_title, job-location,company_name,experience_required. You have to scrape first 10 jobs data.\n",
    "\n",
    "This task will be done in following steps:\n",
    "\n",
    "1.first get the webpage https://www.naukri.com/\n",
    "2.Enter \"Data Analyst\" in \"Skill,Designations,Companies\" field and enter \"Banglore\" in \"enter the location\"field.\n",
    "3.Then click the search button.\n",
    "4.Then scarpe the data for the first 10 jobs data.\n",
    "5.Finally create a dataframe of the scraped data."
   ]
  },
  {
   "cell_type": "code",
   "execution_count": 1,
   "metadata": {},
   "outputs": [
    {
     "name": "stdout",
     "output_type": "stream",
     "text": [
      "Requirement already satisfied: selenium in c:\\users\\lenovo\\anaconda3\\lib\\site-packages (3.141.0)\n",
      "Requirement already satisfied: urllib3 in c:\\users\\lenovo\\anaconda3\\lib\\site-packages (from selenium) (1.25.11)\n"
     ]
    }
   ],
   "source": [
    "#lets first install the selenium library\n",
    "!pip install selenium"
   ]
  },
  {
   "cell_type": "code",
   "execution_count": 2,
   "metadata": {},
   "outputs": [],
   "source": [
    "#lets now import all the required libraries\n",
    "import selenium\n",
    "import pandas as pd\n",
    "from selenium import webdriver"
   ]
  },
  {
   "cell_type": "code",
   "execution_count": 3,
   "metadata": {},
   "outputs": [],
   "source": [
    "#lets first connect to the web driver\n",
    "driver= webdriver.Chrome(r\"c:\\chromedriver.exe\")"
   ]
  },
  {
   "cell_type": "code",
   "execution_count": 4,
   "metadata": {},
   "outputs": [],
   "source": [
    "driver.get('https://www.naukri.com/')"
   ]
  },
  {
   "cell_type": "code",
   "execution_count": 5,
   "metadata": {},
   "outputs": [],
   "source": [
    "#finding element for job search bar\n",
    "search_job= driver.find_element_by_id('qsb-keyword-sugg')\n",
    "search_job.send_keys(\"Data Analyst\")\n",
    "search_loc= driver.find_element_by_xpath(\"//input[@id='qsb-location-sugg']\")\n",
    "search_loc.send_keys(\"Banglore\")"
   ]
  },
  {
   "cell_type": "code",
   "execution_count": 6,
   "metadata": {},
   "outputs": [],
   "source": [
    "search_btn=driver.find_element_by_xpath(\"//div[@class='search-btn']/button\")\n",
    "search_btn.click()"
   ]
  },
  {
   "cell_type": "code",
   "execution_count": 7,
   "metadata": {},
   "outputs": [],
   "source": [
    "#specifying the url of the webpage to be scraped\n",
    "url=\"https://www.naukri.com/data-analyst-jobs-in-banglore?k=data%20analyst&l=banglore\""
   ]
  },
  {
   "cell_type": "code",
   "execution_count": 8,
   "metadata": {},
   "outputs": [],
   "source": [
    "#lets open the webpage through our web driver\n",
    "driver.get(url)"
   ]
  },
  {
   "cell_type": "markdown",
   "metadata": {},
   "source": [
    "Now we will see in the window opened by webdriver whether the webpage has opened or not, Lets check it.\n",
    "\n",
    "So, Now lets first create 4 empty lists, in this lists the data will be stored while scraping.We have created 4 empty lists for 4 features we have to extract.\n",
    "\n",
    "1.job_title 2.job_location 3.company_name 4.experience_required\n"
   ]
  },
  {
   "cell_type": "code",
   "execution_count": 9,
   "metadata": {},
   "outputs": [],
   "source": [
    "job_title=[]\n",
    "job_location=[]\n",
    "company_name=[]\n",
    "experience_required=[]"
   ]
  },
  {
   "cell_type": "markdown",
   "metadata": {},
   "source": [
    "First, we will extract all the tags where we have the job titles. Let me show you on the webpage in which tags the job titles are put."
   ]
  },
  {
   "cell_type": "code",
   "execution_count": 10,
   "metadata": {
    "scrolled": false
   },
   "outputs": [
    {
     "data": {
      "text/plain": [
       "[<selenium.webdriver.remote.webelement.WebElement (session=\"98b048a9783f4b6dfe8e199a1865fae3\", element=\"99768204-c17b-46f9-8db1-509db1dd451e\")>,\n",
       " <selenium.webdriver.remote.webelement.WebElement (session=\"98b048a9783f4b6dfe8e199a1865fae3\", element=\"6197f2ff-3269-4020-b1aa-d3fce3582a23\")>,\n",
       " <selenium.webdriver.remote.webelement.WebElement (session=\"98b048a9783f4b6dfe8e199a1865fae3\", element=\"19a8f6e5-80c7-4081-91d7-434e6c1894e9\")>,\n",
       " <selenium.webdriver.remote.webelement.WebElement (session=\"98b048a9783f4b6dfe8e199a1865fae3\", element=\"b34b2270-f026-4277-81ef-83506f6667d0\")>,\n",
       " <selenium.webdriver.remote.webelement.WebElement (session=\"98b048a9783f4b6dfe8e199a1865fae3\", element=\"51f895f6-8269-4265-8a5e-2db60d1ee67b\")>,\n",
       " <selenium.webdriver.remote.webelement.WebElement (session=\"98b048a9783f4b6dfe8e199a1865fae3\", element=\"e1486469-ee23-4e69-85ba-5e53c7b919bd\")>,\n",
       " <selenium.webdriver.remote.webelement.WebElement (session=\"98b048a9783f4b6dfe8e199a1865fae3\", element=\"865ac598-d198-4795-a7ef-a686b65c6653\")>,\n",
       " <selenium.webdriver.remote.webelement.WebElement (session=\"98b048a9783f4b6dfe8e199a1865fae3\", element=\"27bc2b32-769a-488a-8fc5-7078f3a9cd56\")>,\n",
       " <selenium.webdriver.remote.webelement.WebElement (session=\"98b048a9783f4b6dfe8e199a1865fae3\", element=\"5f89f729-07c3-4933-88af-644a30c61ec7\")>,\n",
       " <selenium.webdriver.remote.webelement.WebElement (session=\"98b048a9783f4b6dfe8e199a1865fae3\", element=\"45dd7b07-23e1-4030-89fd-02897065baae\")>]"
      ]
     },
     "execution_count": 10,
     "metadata": {},
     "output_type": "execute_result"
    }
   ],
   "source": [
    "#so lets extract all the tags having the job titles\n",
    "titles_tags=driver.find_elements_by_xpath(\"//a[@class='title fw500 ellipsis']\")\n",
    "titles_tags[0:10]"
   ]
  },
  {
   "cell_type": "markdown",
   "metadata": {},
   "source": [
    "Now we have all the tags in which there are the job titles\n",
    "\n",
    "Now we will extract the text from these tags one by one by looping over these tags"
   ]
  },
  {
   "cell_type": "code",
   "execution_count": 11,
   "metadata": {},
   "outputs": [
    {
     "data": {
      "text/plain": [
       "['Data Engineer/Data Analyst- Chennai',\n",
       " 'Azure Data Analyst',\n",
       " 'Data Analyst',\n",
       " 'Executive - Data Analyst',\n",
       " 'Data Analyst',\n",
       " 'Data Analyst - Alteryx, Tableau and SQL',\n",
       " 'Data Analyst',\n",
       " 'Data Analyst',\n",
       " 'Data Analyst',\n",
       " 'Data Analyst']"
      ]
     },
     "execution_count": 11,
     "metadata": {},
     "output_type": "execute_result"
    }
   ],
   "source": [
    "#Now the text of the job titles is insid the tags extracted above.\n",
    "\n",
    "#so we will run a loop to iterate over the tags extracted above and extract the text inside them\n",
    "\n",
    "for i in titles_tags:\n",
    "    title=i.text\n",
    "    job_title.append(title)\n",
    "job_title[0:10]"
   ]
  },
  {
   "cell_type": "markdown",
   "metadata": {},
   "source": [
    "Now we will extract all the html tags where we have the job location.Let me first show you in which tags the location names are put on the webpage."
   ]
  },
  {
   "cell_type": "code",
   "execution_count": 12,
   "metadata": {
    "scrolled": false
   },
   "outputs": [
    {
     "data": {
      "text/plain": [
       "[<selenium.webdriver.remote.webelement.WebElement (session=\"98b048a9783f4b6dfe8e199a1865fae3\", element=\"fa0e83f7-cc31-4edf-a196-ac46eabde29c\")>,\n",
       " <selenium.webdriver.remote.webelement.WebElement (session=\"98b048a9783f4b6dfe8e199a1865fae3\", element=\"8241e912-f4bd-4156-bdd0-f675e3bafd39\")>,\n",
       " <selenium.webdriver.remote.webelement.WebElement (session=\"98b048a9783f4b6dfe8e199a1865fae3\", element=\"64b82eba-874a-4588-8be1-7e452e94600a\")>,\n",
       " <selenium.webdriver.remote.webelement.WebElement (session=\"98b048a9783f4b6dfe8e199a1865fae3\", element=\"1cf931f3-fbe4-420f-a7c1-823a05fe2acf\")>,\n",
       " <selenium.webdriver.remote.webelement.WebElement (session=\"98b048a9783f4b6dfe8e199a1865fae3\", element=\"2aa96b93-3423-4bce-86f5-6d5f97c2f140\")>,\n",
       " <selenium.webdriver.remote.webelement.WebElement (session=\"98b048a9783f4b6dfe8e199a1865fae3\", element=\"dde7c7bd-9f87-410e-8023-5828c539cd42\")>,\n",
       " <selenium.webdriver.remote.webelement.WebElement (session=\"98b048a9783f4b6dfe8e199a1865fae3\", element=\"180cb69f-3c17-4284-b856-035b75dc78b8\")>,\n",
       " <selenium.webdriver.remote.webelement.WebElement (session=\"98b048a9783f4b6dfe8e199a1865fae3\", element=\"92f2a7bd-3115-4492-ac3b-7876af578705\")>,\n",
       " <selenium.webdriver.remote.webelement.WebElement (session=\"98b048a9783f4b6dfe8e199a1865fae3\", element=\"49df9c23-1d69-42cd-8830-61af8fdacbed\")>,\n",
       " <selenium.webdriver.remote.webelement.WebElement (session=\"98b048a9783f4b6dfe8e199a1865fae3\", element=\"dcab8867-1dad-4dc0-924f-c0a3500a627b\")>]"
      ]
     },
     "execution_count": 12,
     "metadata": {},
     "output_type": "execute_result"
    }
   ],
   "source": [
    "#so lets extract all the tags having locations\n",
    "location_tags=driver.find_elements_by_xpath(\"//li[@class='fleft grey-text br2 placeHolderLi location']\")\n",
    "location_tags[0:10]"
   ]
  },
  {
   "cell_type": "markdown",
   "metadata": {},
   "source": [
    "Now we have all the tags in which there is the data about the location of job\n",
    "\n",
    "Now we will extract the text(location) from these tags one by one by looping over these tags"
   ]
  },
  {
   "cell_type": "code",
   "execution_count": 13,
   "metadata": {},
   "outputs": [
    {
     "data": {
      "text/plain": [
       "['Hyderabad/Secunderabad, Pune, Chennai, Bangalore/Bengaluru',\n",
       " 'Bangalore/Bengaluru',\n",
       " 'Bangalore/Bengaluru(Devalapur)',\n",
       " 'Bangalore/Bengaluru',\n",
       " 'Bangalore/Bengaluru',\n",
       " 'Bangalore/Bengaluru',\n",
       " 'Bangalore/Bengaluru',\n",
       " 'Bangalore/Bengaluru',\n",
       " 'Bangalore/Bengaluru',\n",
       " 'Bangalore/Bengaluru']"
      ]
     },
     "execution_count": 13,
     "metadata": {},
     "output_type": "execute_result"
    }
   ],
   "source": [
    "for i in location_tags:\n",
    "    location=i.text\n",
    "    job_location.append(location)\n",
    "job_location[0:10]"
   ]
  },
  {
   "cell_type": "markdown",
   "metadata": {},
   "source": [
    "Now we will extract all the html tags where we have the company names.Let me first show you in which tags the company names are put on the webpage."
   ]
  },
  {
   "cell_type": "code",
   "execution_count": 14,
   "metadata": {},
   "outputs": [
    {
     "data": {
      "text/plain": [
       "[<selenium.webdriver.remote.webelement.WebElement (session=\"98b048a9783f4b6dfe8e199a1865fae3\", element=\"5eff9c98-c8fe-4245-9c91-0a8acde1d1b0\")>,\n",
       " <selenium.webdriver.remote.webelement.WebElement (session=\"98b048a9783f4b6dfe8e199a1865fae3\", element=\"75b75dd9-2981-487f-b8a0-005cd4874307\")>,\n",
       " <selenium.webdriver.remote.webelement.WebElement (session=\"98b048a9783f4b6dfe8e199a1865fae3\", element=\"bbf59e38-bcb8-44d0-a9dd-f3c2273805ad\")>,\n",
       " <selenium.webdriver.remote.webelement.WebElement (session=\"98b048a9783f4b6dfe8e199a1865fae3\", element=\"6ed7dbf6-8df6-4f2f-956d-fee08c68bf77\")>,\n",
       " <selenium.webdriver.remote.webelement.WebElement (session=\"98b048a9783f4b6dfe8e199a1865fae3\", element=\"8351bcc6-0fa1-40d8-b047-a5c817429b78\")>,\n",
       " <selenium.webdriver.remote.webelement.WebElement (session=\"98b048a9783f4b6dfe8e199a1865fae3\", element=\"841a8a18-f999-4ea8-9ce0-b076df200699\")>,\n",
       " <selenium.webdriver.remote.webelement.WebElement (session=\"98b048a9783f4b6dfe8e199a1865fae3\", element=\"12c3720a-c8a1-4717-ac7c-bc1124ccaf44\")>,\n",
       " <selenium.webdriver.remote.webelement.WebElement (session=\"98b048a9783f4b6dfe8e199a1865fae3\", element=\"b29a9a98-52e7-4276-bfa4-646ddbf6f6cf\")>,\n",
       " <selenium.webdriver.remote.webelement.WebElement (session=\"98b048a9783f4b6dfe8e199a1865fae3\", element=\"21d23361-b861-4359-bb7a-71d18fec4bdf\")>,\n",
       " <selenium.webdriver.remote.webelement.WebElement (session=\"98b048a9783f4b6dfe8e199a1865fae3\", element=\"d1cc4557-4e3a-4886-a6d9-d970f22d2b12\")>]"
      ]
     },
     "execution_count": 14,
     "metadata": {},
     "output_type": "execute_result"
    }
   ],
   "source": [
    "#so lets extract all the tags having company names\n",
    "companies_tags=driver.find_elements_by_xpath(\"//a[@class='subTitle ellipsis fleft']\")\n",
    "companies_tags[0:10]"
   ]
  },
  {
   "cell_type": "markdown",
   "metadata": {},
   "source": [
    "Now we have all the tags in which there are the company names\n",
    "\n",
    "Now we will extract the text from these tags one by one by looping over these tags"
   ]
  },
  {
   "cell_type": "code",
   "execution_count": 15,
   "metadata": {},
   "outputs": [
    {
     "data": {
      "text/plain": [
       "['Inflexion Analytix Private Limited',\n",
       " 'Capgemini Technology Services India Limited',\n",
       " 'Super India Tech Mark',\n",
       " 'Flipkart Internet Private Limited',\n",
       " 'CONDUENT BUSINESS SERVICES INDIA LLP',\n",
       " 'Schneider Electric',\n",
       " 'Myntra Designs Pvt. Ltd.',\n",
       " 'Myntra Designs Pvt. Ltd.',\n",
       " 'Myntra Designs Pvt. Ltd.',\n",
       " 'Myntra Designs Pvt. Ltd.']"
      ]
     },
     "execution_count": 15,
     "metadata": {},
     "output_type": "execute_result"
    }
   ],
   "source": [
    "for i in companies_tags:\n",
    "    company=i.text\n",
    "    company_name.append(company)\n",
    "company_name[0:10]"
   ]
  },
  {
   "cell_type": "markdown",
   "metadata": {},
   "source": [
    "Now we will extract all the html tags where we have the required experience.Let me first show you in which tags the company names are put on the webpage."
   ]
  },
  {
   "cell_type": "code",
   "execution_count": 16,
   "metadata": {},
   "outputs": [
    {
     "data": {
      "text/plain": [
       "[<selenium.webdriver.remote.webelement.WebElement (session=\"98b048a9783f4b6dfe8e199a1865fae3\", element=\"d88bd5c5-4761-4798-ad69-1eed21b5eec1\")>,\n",
       " <selenium.webdriver.remote.webelement.WebElement (session=\"98b048a9783f4b6dfe8e199a1865fae3\", element=\"8d8eb648-c926-47f8-8ef7-4b29464686d3\")>,\n",
       " <selenium.webdriver.remote.webelement.WebElement (session=\"98b048a9783f4b6dfe8e199a1865fae3\", element=\"a90ee886-e00f-4efb-925a-c82df9b80edd\")>,\n",
       " <selenium.webdriver.remote.webelement.WebElement (session=\"98b048a9783f4b6dfe8e199a1865fae3\", element=\"4d85f726-8e78-4572-8677-e50c38e3804f\")>,\n",
       " <selenium.webdriver.remote.webelement.WebElement (session=\"98b048a9783f4b6dfe8e199a1865fae3\", element=\"2e2079cf-6612-496c-aee9-b46225ca9aa9\")>,\n",
       " <selenium.webdriver.remote.webelement.WebElement (session=\"98b048a9783f4b6dfe8e199a1865fae3\", element=\"0faabc96-1dd3-4a78-b3fc-1115c3568ea2\")>,\n",
       " <selenium.webdriver.remote.webelement.WebElement (session=\"98b048a9783f4b6dfe8e199a1865fae3\", element=\"22180b18-5756-4dd1-80b6-ebc6646f61a5\")>,\n",
       " <selenium.webdriver.remote.webelement.WebElement (session=\"98b048a9783f4b6dfe8e199a1865fae3\", element=\"a46cf21d-69c1-4aeb-b18b-549de8c83a1f\")>,\n",
       " <selenium.webdriver.remote.webelement.WebElement (session=\"98b048a9783f4b6dfe8e199a1865fae3\", element=\"adc3f38a-9106-4329-a0fc-af7b80b40116\")>,\n",
       " <selenium.webdriver.remote.webelement.WebElement (session=\"98b048a9783f4b6dfe8e199a1865fae3\", element=\"dcabe6bd-b3fb-4020-a199-a6f2aa58be43\")>]"
      ]
     },
     "execution_count": 16,
     "metadata": {},
     "output_type": "execute_result"
    }
   ],
   "source": [
    "#so lets extract all the tags having experience required\n",
    "experience_tags=driver.find_elements_by_xpath(\"//li[@class='fleft grey-text br2 placeHolderLi experience']\")\n",
    "experience_tags[0:10]"
   ]
  },
  {
   "cell_type": "markdown",
   "metadata": {},
   "source": [
    "Now we have all the tags in which there are the required experience\n",
    "\n",
    "Now we will extract the text from these tags one by one by looping over these tags"
   ]
  },
  {
   "cell_type": "code",
   "execution_count": 17,
   "metadata": {},
   "outputs": [
    {
     "data": {
      "text/plain": [
       "['0-2 Yrs',\n",
       " '6-8 Yrs',\n",
       " '0-2 Yrs',\n",
       " '1-3 Yrs',\n",
       " '1-2 Yrs',\n",
       " '2-5 Yrs',\n",
       " '3-6 Yrs',\n",
       " '4-8 Yrs',\n",
       " '3-8 Yrs',\n",
       " '4-8 Yrs']"
      ]
     },
     "execution_count": 17,
     "metadata": {},
     "output_type": "execute_result"
    }
   ],
   "source": [
    "for i in experience_tags:\n",
    "    exp=i.text\n",
    "    experience_required.append(exp)\n",
    "experience_required[0:10]"
   ]
  },
  {
   "cell_type": "markdown",
   "metadata": {},
   "source": [
    "So,Now we have extracted the data required from the webpage and stored them in the 4 lists mentioned above. Now before creating a dataframe from these lists,Lets first check the length of each of the list. Because if the length of all of the lists are not equal, then a dataframe cannot be formed."
   ]
  },
  {
   "cell_type": "code",
   "execution_count": 18,
   "metadata": {},
   "outputs": [
    {
     "name": "stdout",
     "output_type": "stream",
     "text": [
      "20 20 20 20\n"
     ]
    }
   ],
   "source": [
    "print(len(job_title),len(job_location),len(company_name),len(experience_required))"
   ]
  },
  {
   "cell_type": "code",
   "execution_count": 19,
   "metadata": {},
   "outputs": [],
   "source": [
    "#import pandas as pd\n",
    "jobs=pd.DataFrame({})\n",
    "jobs['title']=job_title\n",
    "jobs['company']=job_location\n",
    "jobs['location']=company_name\n",
    "jobs['exp']=experience_required"
   ]
  },
  {
   "cell_type": "code",
   "execution_count": 20,
   "metadata": {},
   "outputs": [
    {
     "data": {
      "text/html": [
       "<div>\n",
       "<style scoped>\n",
       "    .dataframe tbody tr th:only-of-type {\n",
       "        vertical-align: middle;\n",
       "    }\n",
       "\n",
       "    .dataframe tbody tr th {\n",
       "        vertical-align: top;\n",
       "    }\n",
       "\n",
       "    .dataframe thead th {\n",
       "        text-align: right;\n",
       "    }\n",
       "</style>\n",
       "<table border=\"1\" class=\"dataframe\">\n",
       "  <thead>\n",
       "    <tr style=\"text-align: right;\">\n",
       "      <th></th>\n",
       "      <th>title</th>\n",
       "      <th>company</th>\n",
       "      <th>location</th>\n",
       "      <th>exp</th>\n",
       "    </tr>\n",
       "  </thead>\n",
       "  <tbody>\n",
       "    <tr>\n",
       "      <th>0</th>\n",
       "      <td>Data Engineer/Data Analyst- Chennai</td>\n",
       "      <td>Hyderabad/Secunderabad, Pune, Chennai, Bangalo...</td>\n",
       "      <td>Inflexion Analytix Private Limited</td>\n",
       "      <td>0-2 Yrs</td>\n",
       "    </tr>\n",
       "    <tr>\n",
       "      <th>1</th>\n",
       "      <td>Azure Data Analyst</td>\n",
       "      <td>Bangalore/Bengaluru</td>\n",
       "      <td>Capgemini Technology Services India Limited</td>\n",
       "      <td>6-8 Yrs</td>\n",
       "    </tr>\n",
       "    <tr>\n",
       "      <th>2</th>\n",
       "      <td>Data Analyst</td>\n",
       "      <td>Bangalore/Bengaluru(Devalapur)</td>\n",
       "      <td>Super India Tech Mark</td>\n",
       "      <td>0-2 Yrs</td>\n",
       "    </tr>\n",
       "    <tr>\n",
       "      <th>3</th>\n",
       "      <td>Executive - Data Analyst</td>\n",
       "      <td>Bangalore/Bengaluru</td>\n",
       "      <td>Flipkart Internet Private Limited</td>\n",
       "      <td>1-3 Yrs</td>\n",
       "    </tr>\n",
       "    <tr>\n",
       "      <th>4</th>\n",
       "      <td>Data Analyst</td>\n",
       "      <td>Bangalore/Bengaluru</td>\n",
       "      <td>CONDUENT BUSINESS SERVICES INDIA LLP</td>\n",
       "      <td>1-2 Yrs</td>\n",
       "    </tr>\n",
       "    <tr>\n",
       "      <th>5</th>\n",
       "      <td>Data Analyst - Alteryx, Tableau and SQL</td>\n",
       "      <td>Bangalore/Bengaluru</td>\n",
       "      <td>Schneider Electric</td>\n",
       "      <td>2-5 Yrs</td>\n",
       "    </tr>\n",
       "    <tr>\n",
       "      <th>6</th>\n",
       "      <td>Data Analyst</td>\n",
       "      <td>Bangalore/Bengaluru</td>\n",
       "      <td>Myntra Designs Pvt. Ltd.</td>\n",
       "      <td>3-6 Yrs</td>\n",
       "    </tr>\n",
       "    <tr>\n",
       "      <th>7</th>\n",
       "      <td>Data Analyst</td>\n",
       "      <td>Bangalore/Bengaluru</td>\n",
       "      <td>Myntra Designs Pvt. Ltd.</td>\n",
       "      <td>4-8 Yrs</td>\n",
       "    </tr>\n",
       "    <tr>\n",
       "      <th>8</th>\n",
       "      <td>Data Analyst</td>\n",
       "      <td>Bangalore/Bengaluru</td>\n",
       "      <td>Myntra Designs Pvt. Ltd.</td>\n",
       "      <td>3-8 Yrs</td>\n",
       "    </tr>\n",
       "    <tr>\n",
       "      <th>9</th>\n",
       "      <td>Data Analyst</td>\n",
       "      <td>Bangalore/Bengaluru</td>\n",
       "      <td>Myntra Designs Pvt. Ltd.</td>\n",
       "      <td>4-8 Yrs</td>\n",
       "    </tr>\n",
       "    <tr>\n",
       "      <th>10</th>\n",
       "      <td>Data Analyst</td>\n",
       "      <td>Bangalore/Bengaluru</td>\n",
       "      <td>Myntra Designs Pvt. Ltd.</td>\n",
       "      <td>4-8 Yrs</td>\n",
       "    </tr>\n",
       "    <tr>\n",
       "      <th>11</th>\n",
       "      <td>Data Analyst</td>\n",
       "      <td>Bangalore/Bengaluru(Ulsoor)</td>\n",
       "      <td>WEIWO Communication Pvt. Ltd.</td>\n",
       "      <td>5-8 Yrs</td>\n",
       "    </tr>\n",
       "    <tr>\n",
       "      <th>12</th>\n",
       "      <td>Senior Data Analyst</td>\n",
       "      <td>Bangalore/Bengaluru</td>\n",
       "      <td>Cerner Corporation</td>\n",
       "      <td>4-9 Yrs</td>\n",
       "    </tr>\n",
       "    <tr>\n",
       "      <th>13</th>\n",
       "      <td>Sr Manager I - Data Analyst (MINT)</td>\n",
       "      <td>Bangalore/Bengaluru</td>\n",
       "      <td>ExecBoardinAsia</td>\n",
       "      <td>11-15 Yrs</td>\n",
       "    </tr>\n",
       "    <tr>\n",
       "      <th>14</th>\n",
       "      <td>Data Analyst (SQL, Excel, R/Python, Dashboards...</td>\n",
       "      <td>Bangalore/Bengaluru</td>\n",
       "      <td>Flipkart Internet Private Limited</td>\n",
       "      <td>1-5 Yrs</td>\n",
       "    </tr>\n",
       "    <tr>\n",
       "      <th>15</th>\n",
       "      <td>Global Medical Data Analyst</td>\n",
       "      <td>Bangalore/Bengaluru</td>\n",
       "      <td>GlaxoSmithKline Pharmaceuticals Limited</td>\n",
       "      <td>5-8 Yrs</td>\n",
       "    </tr>\n",
       "    <tr>\n",
       "      <th>16</th>\n",
       "      <td>Inviting Business Analyst –Data Science and In...</td>\n",
       "      <td>Bangalore/Bengaluru</td>\n",
       "      <td>GENPACT India Private Limited</td>\n",
       "      <td>0-4 Yrs</td>\n",
       "    </tr>\n",
       "    <tr>\n",
       "      <th>17</th>\n",
       "      <td>Manager Data Analyst - Brand Accelerator</td>\n",
       "      <td>Bangalore/Bengaluru</td>\n",
       "      <td>Myntra Designs Pvt. Ltd.</td>\n",
       "      <td>2-6 Yrs</td>\n",
       "    </tr>\n",
       "    <tr>\n",
       "      <th>18</th>\n",
       "      <td>Data Analyst</td>\n",
       "      <td>Bangalore/Bengaluru</td>\n",
       "      <td>Luxoft</td>\n",
       "      <td>2-6 Yrs</td>\n",
       "    </tr>\n",
       "    <tr>\n",
       "      <th>19</th>\n",
       "      <td>Associate - Data Analyst ( Growth)</td>\n",
       "      <td>Bangalore/Bengaluru</td>\n",
       "      <td>Myntra Designs Pvt. Ltd.</td>\n",
       "      <td>2-5 Yrs</td>\n",
       "    </tr>\n",
       "  </tbody>\n",
       "</table>\n",
       "</div>"
      ],
      "text/plain": [
       "                                                title  \\\n",
       "0                 Data Engineer/Data Analyst- Chennai   \n",
       "1                                  Azure Data Analyst   \n",
       "2                                        Data Analyst   \n",
       "3                            Executive - Data Analyst   \n",
       "4                                        Data Analyst   \n",
       "5             Data Analyst - Alteryx, Tableau and SQL   \n",
       "6                                        Data Analyst   \n",
       "7                                        Data Analyst   \n",
       "8                                        Data Analyst   \n",
       "9                                        Data Analyst   \n",
       "10                                       Data Analyst   \n",
       "11                                       Data Analyst   \n",
       "12                                Senior Data Analyst   \n",
       "13                 Sr Manager I - Data Analyst (MINT)   \n",
       "14  Data Analyst (SQL, Excel, R/Python, Dashboards...   \n",
       "15                        Global Medical Data Analyst   \n",
       "16  Inviting Business Analyst –Data Science and In...   \n",
       "17           Manager Data Analyst - Brand Accelerator   \n",
       "18                                       Data Analyst   \n",
       "19                 Associate - Data Analyst ( Growth)   \n",
       "\n",
       "                                              company  \\\n",
       "0   Hyderabad/Secunderabad, Pune, Chennai, Bangalo...   \n",
       "1                                 Bangalore/Bengaluru   \n",
       "2                      Bangalore/Bengaluru(Devalapur)   \n",
       "3                                 Bangalore/Bengaluru   \n",
       "4                                 Bangalore/Bengaluru   \n",
       "5                                 Bangalore/Bengaluru   \n",
       "6                                 Bangalore/Bengaluru   \n",
       "7                                 Bangalore/Bengaluru   \n",
       "8                                 Bangalore/Bengaluru   \n",
       "9                                 Bangalore/Bengaluru   \n",
       "10                                Bangalore/Bengaluru   \n",
       "11                        Bangalore/Bengaluru(Ulsoor)   \n",
       "12                                Bangalore/Bengaluru   \n",
       "13                                Bangalore/Bengaluru   \n",
       "14                                Bangalore/Bengaluru   \n",
       "15                                Bangalore/Bengaluru   \n",
       "16                                Bangalore/Bengaluru   \n",
       "17                                Bangalore/Bengaluru   \n",
       "18                                Bangalore/Bengaluru   \n",
       "19                                Bangalore/Bengaluru   \n",
       "\n",
       "                                       location        exp  \n",
       "0            Inflexion Analytix Private Limited    0-2 Yrs  \n",
       "1   Capgemini Technology Services India Limited    6-8 Yrs  \n",
       "2                         Super India Tech Mark    0-2 Yrs  \n",
       "3             Flipkart Internet Private Limited    1-3 Yrs  \n",
       "4          CONDUENT BUSINESS SERVICES INDIA LLP    1-2 Yrs  \n",
       "5                            Schneider Electric    2-5 Yrs  \n",
       "6                      Myntra Designs Pvt. Ltd.    3-6 Yrs  \n",
       "7                      Myntra Designs Pvt. Ltd.    4-8 Yrs  \n",
       "8                      Myntra Designs Pvt. Ltd.    3-8 Yrs  \n",
       "9                      Myntra Designs Pvt. Ltd.    4-8 Yrs  \n",
       "10                     Myntra Designs Pvt. Ltd.    4-8 Yrs  \n",
       "11                WEIWO Communication Pvt. Ltd.    5-8 Yrs  \n",
       "12                           Cerner Corporation    4-9 Yrs  \n",
       "13                              ExecBoardinAsia  11-15 Yrs  \n",
       "14            Flipkart Internet Private Limited    1-5 Yrs  \n",
       "15      GlaxoSmithKline Pharmaceuticals Limited    5-8 Yrs  \n",
       "16                GENPACT India Private Limited    0-4 Yrs  \n",
       "17                     Myntra Designs Pvt. Ltd.    2-6 Yrs  \n",
       "18                                       Luxoft    2-6 Yrs  \n",
       "19                     Myntra Designs Pvt. Ltd.    2-5 Yrs  "
      ]
     },
     "execution_count": 20,
     "metadata": {},
     "output_type": "execute_result"
    }
   ],
   "source": [
    "jobs"
   ]
  },
  {
   "cell_type": "markdown",
   "metadata": {},
   "source": [
    "# Q2: Write a python pogram to scrape data for \"Data Scientist\" Job position in \"Banglore\" location. You have to scrape the job_title, job-location,company_name,full job-description. You have to scrape first 10 jobs data.\n",
    "\n",
    "This task will be done in following steps:\n",
    "\n",
    "1.first get the webpage https://www.naukri.com/\n",
    "2.Enter \"Data Scientist\" in \"Skill,Designations,Companies\" field and enter \"Banglore\" in \"enter the location\"field.\n",
    "3.Then click the search button.\n",
    "4.Then scarpe the data for the first 10 jobs data.\n",
    "5.Finally create a dataframe of the scraped data."
   ]
  },
  {
   "cell_type": "code",
   "execution_count": 21,
   "metadata": {},
   "outputs": [],
   "source": [
    "driver.get('https://www.naukri.com/')"
   ]
  },
  {
   "cell_type": "code",
   "execution_count": 22,
   "metadata": {},
   "outputs": [],
   "source": [
    "#finding element for job search bar\n",
    "search_job= driver.find_element_by_id('qsb-keyword-sugg')\n",
    "search_job.send_keys(\"Data Scientist\")\n",
    "search_loc= driver.find_element_by_xpath(\"//input[@id='qsb-location-sugg']\")\n",
    "search_loc.send_keys(\"Banglore\")"
   ]
  },
  {
   "cell_type": "code",
   "execution_count": 23,
   "metadata": {},
   "outputs": [],
   "source": [
    "search_btn=driver.find_element_by_xpath(\"//div[@class='search-btn']/button\")\n",
    "search_btn.click()"
   ]
  },
  {
   "cell_type": "code",
   "execution_count": 24,
   "metadata": {},
   "outputs": [],
   "source": [
    "#specifying the url of the webpage to be scraped\n",
    "url=\"https://www.naukri.com/data-scientist-jobs-in-banglore?k=data%20scientist&l=banglore\""
   ]
  },
  {
   "cell_type": "code",
   "execution_count": 25,
   "metadata": {},
   "outputs": [],
   "source": [
    "#lets open the webpage through our web driver\n",
    "driver.get(url)"
   ]
  },
  {
   "cell_type": "markdown",
   "metadata": {},
   "source": [
    "Now we will see in the window opened by webdriver whether the webpage has opened or not, Lets check it.\n",
    "\n",
    "So, Now lets first create 4 empty lists, in this lists the data will be stored while scraping.We have created 4 empty lists for 4 features we have to extract.\n",
    "\n",
    "1.job_title 2.job_location 3.company_name 4.full job-description\n"
   ]
  },
  {
   "cell_type": "code",
   "execution_count": 26,
   "metadata": {},
   "outputs": [],
   "source": [
    "job_title=[]\n",
    "job_location=[]\n",
    "company_name=[]\n",
    "job_description=[]"
   ]
  },
  {
   "cell_type": "markdown",
   "metadata": {},
   "source": [
    "First, we will extract all the tags where we have the job titles. Let me show you on the webpage in which tags the job titles are put."
   ]
  },
  {
   "cell_type": "code",
   "execution_count": 27,
   "metadata": {},
   "outputs": [
    {
     "data": {
      "text/plain": [
       "[<selenium.webdriver.remote.webelement.WebElement (session=\"98b048a9783f4b6dfe8e199a1865fae3\", element=\"82892422-093c-46f3-84ed-0dd8c87915c3\")>,\n",
       " <selenium.webdriver.remote.webelement.WebElement (session=\"98b048a9783f4b6dfe8e199a1865fae3\", element=\"395ea419-9670-40e1-a14c-a36a1d0d66f4\")>,\n",
       " <selenium.webdriver.remote.webelement.WebElement (session=\"98b048a9783f4b6dfe8e199a1865fae3\", element=\"2c7281d5-dd10-4662-9f65-15162c77e51c\")>,\n",
       " <selenium.webdriver.remote.webelement.WebElement (session=\"98b048a9783f4b6dfe8e199a1865fae3\", element=\"5480a450-b3cd-41db-9b84-42fe58059a9a\")>,\n",
       " <selenium.webdriver.remote.webelement.WebElement (session=\"98b048a9783f4b6dfe8e199a1865fae3\", element=\"121eedb9-316f-41ff-8d58-00745b1ae54d\")>,\n",
       " <selenium.webdriver.remote.webelement.WebElement (session=\"98b048a9783f4b6dfe8e199a1865fae3\", element=\"a500912a-6f54-4b4b-bca6-7ab1ba742b2b\")>,\n",
       " <selenium.webdriver.remote.webelement.WebElement (session=\"98b048a9783f4b6dfe8e199a1865fae3\", element=\"13b9ddf2-7d57-4fab-84f2-a7b93cd1c834\")>,\n",
       " <selenium.webdriver.remote.webelement.WebElement (session=\"98b048a9783f4b6dfe8e199a1865fae3\", element=\"02599d8f-106a-486d-9861-6a9ae5c61124\")>,\n",
       " <selenium.webdriver.remote.webelement.WebElement (session=\"98b048a9783f4b6dfe8e199a1865fae3\", element=\"6428b5ef-ec69-48d6-a94c-e817a9c7ec8e\")>,\n",
       " <selenium.webdriver.remote.webelement.WebElement (session=\"98b048a9783f4b6dfe8e199a1865fae3\", element=\"6efcddd8-db54-4113-ab4f-2744e495e210\")>]"
      ]
     },
     "execution_count": 27,
     "metadata": {},
     "output_type": "execute_result"
    }
   ],
   "source": [
    "#so lets extract all the tags having the job titles\n",
    "titles_tags=driver.find_elements_by_xpath(\"//a[@class='title fw500 ellipsis']\")\n",
    "titles_tags[0:10]"
   ]
  },
  {
   "cell_type": "markdown",
   "metadata": {},
   "source": [
    "Now we have all the tags in which there are the job titles\n",
    "\n",
    "Now we will extract the text from these tags one by one by looping over these tags"
   ]
  },
  {
   "cell_type": "code",
   "execution_count": 28,
   "metadata": {},
   "outputs": [
    {
     "data": {
      "text/plain": [
       "['Data Scientist',\n",
       " 'Data Scientist - Machine Learning',\n",
       " 'Data Scientist - IBM Garage',\n",
       " 'GAMMA Lead Data Scientist',\n",
       " 'DBCG IND - GAMMA Senior Data Scientist',\n",
       " 'Data Scientist/Senior Data Scientist',\n",
       " 'Senior Data Scientist | CES IT LTD | CMMI Level 5',\n",
       " 'Data Scientist',\n",
       " 'Associate Data Scientist - CRM & Loyalty',\n",
       " 'Data Scientist - Business Analytics']"
      ]
     },
     "execution_count": 28,
     "metadata": {},
     "output_type": "execute_result"
    }
   ],
   "source": [
    "#Now the text of the job titles is insid the tags extracted above.\n",
    "\n",
    "#so we will run a loop to iterate over the tags extracted above and extract the text inside them\n",
    "\n",
    "for i in titles_tags:\n",
    "    title=i.text\n",
    "    job_title.append(title)\n",
    "job_title[0:10]"
   ]
  },
  {
   "cell_type": "markdown",
   "metadata": {},
   "source": [
    "Now we will extract all the html tags where we have the location of the job data.Let me first show you in which tags this data is put on the webpage."
   ]
  },
  {
   "cell_type": "code",
   "execution_count": 29,
   "metadata": {},
   "outputs": [
    {
     "data": {
      "text/plain": [
       "[<selenium.webdriver.remote.webelement.WebElement (session=\"98b048a9783f4b6dfe8e199a1865fae3\", element=\"ed0e96cd-04a3-4780-815d-e3d524151b32\")>,\n",
       " <selenium.webdriver.remote.webelement.WebElement (session=\"98b048a9783f4b6dfe8e199a1865fae3\", element=\"9c88b90e-5943-4258-9649-d9cd2eab895d\")>,\n",
       " <selenium.webdriver.remote.webelement.WebElement (session=\"98b048a9783f4b6dfe8e199a1865fae3\", element=\"d31803b7-0b78-420c-8f21-03cf3ceedbf7\")>,\n",
       " <selenium.webdriver.remote.webelement.WebElement (session=\"98b048a9783f4b6dfe8e199a1865fae3\", element=\"cd9f6dcd-9c00-4f4a-a75a-2fa6feecb33c\")>,\n",
       " <selenium.webdriver.remote.webelement.WebElement (session=\"98b048a9783f4b6dfe8e199a1865fae3\", element=\"14c01cc3-e89e-407c-b465-d11e13329284\")>,\n",
       " <selenium.webdriver.remote.webelement.WebElement (session=\"98b048a9783f4b6dfe8e199a1865fae3\", element=\"67835420-af49-4113-a01d-8461bbd4377a\")>,\n",
       " <selenium.webdriver.remote.webelement.WebElement (session=\"98b048a9783f4b6dfe8e199a1865fae3\", element=\"510843fc-a941-4950-94c7-0349a8109ac2\")>,\n",
       " <selenium.webdriver.remote.webelement.WebElement (session=\"98b048a9783f4b6dfe8e199a1865fae3\", element=\"98e9be17-dbbe-4e00-b929-e4a4e328d80f\")>,\n",
       " <selenium.webdriver.remote.webelement.WebElement (session=\"98b048a9783f4b6dfe8e199a1865fae3\", element=\"d41d40e0-4b0a-479e-aa89-6427dc463e4e\")>,\n",
       " <selenium.webdriver.remote.webelement.WebElement (session=\"98b048a9783f4b6dfe8e199a1865fae3\", element=\"71a334f3-91ca-4b80-92f4-f5f27b37dba7\")>]"
      ]
     },
     "execution_count": 29,
     "metadata": {},
     "output_type": "execute_result"
    }
   ],
   "source": [
    "locations_tags=driver.find_elements_by_xpath(\"//li[@class='fleft grey-text br2 placeHolderLi location']/span[1]\")\n",
    "locations_tags[0:10]"
   ]
  },
  {
   "cell_type": "markdown",
   "metadata": {},
   "source": [
    "Now we have all the tags in which there is the data about the location of job\n",
    "\n",
    "Now we will extract the text(location) from these tags one by one by looping over these tags"
   ]
  },
  {
   "cell_type": "code",
   "execution_count": 30,
   "metadata": {},
   "outputs": [
    {
     "data": {
      "text/plain": [
       "['Bangalore/Bengaluru',\n",
       " 'Bangalore/Bengaluru',\n",
       " 'Noida, Hyderabad/Secunderabad, Bangalore/Bengaluru',\n",
       " 'Mumbai, New Delhi, Chennai, Bangalore/Bengaluru',\n",
       " 'Mumbai, New Delhi, Chennai, Bangalore/Bengaluru',\n",
       " 'Hyderabad/Secunderabad, Pune, Chennai, Bangalore/Bengaluru, Mumbai (All Areas)',\n",
       " 'Kolkata, Mumbai, Hyderabad/Secunderabad, Pune, Chennai, Bangalore/Bengaluru, Delhi / NCR',\n",
       " 'Bangalore/Bengaluru',\n",
       " 'Bangalore/Bengaluru',\n",
       " 'Bangalore/Bengaluru']"
      ]
     },
     "execution_count": 30,
     "metadata": {},
     "output_type": "execute_result"
    }
   ],
   "source": [
    "for i in locations_tags:\n",
    "    location=i.text\n",
    "    job_location.append(location)\n",
    "job_location[0:10]"
   ]
  },
  {
   "cell_type": "markdown",
   "metadata": {},
   "source": [
    "Now we will extract all the html tags where we have the company names.Let me first show you in which tags the company names are put on the webpage."
   ]
  },
  {
   "cell_type": "code",
   "execution_count": 31,
   "metadata": {},
   "outputs": [
    {
     "data": {
      "text/plain": [
       "[<selenium.webdriver.remote.webelement.WebElement (session=\"98b048a9783f4b6dfe8e199a1865fae3\", element=\"155b76ca-1f01-4cff-8e3a-7e31be8fab61\")>,\n",
       " <selenium.webdriver.remote.webelement.WebElement (session=\"98b048a9783f4b6dfe8e199a1865fae3\", element=\"33110495-165b-48f5-a3c2-ca12302883b9\")>,\n",
       " <selenium.webdriver.remote.webelement.WebElement (session=\"98b048a9783f4b6dfe8e199a1865fae3\", element=\"82692892-2c0c-4ec0-866a-e2079ccafcc2\")>,\n",
       " <selenium.webdriver.remote.webelement.WebElement (session=\"98b048a9783f4b6dfe8e199a1865fae3\", element=\"c4917cf3-f372-46da-975e-78302f86760f\")>,\n",
       " <selenium.webdriver.remote.webelement.WebElement (session=\"98b048a9783f4b6dfe8e199a1865fae3\", element=\"9c4598d3-31fb-4cd5-aa27-fa7f54028981\")>,\n",
       " <selenium.webdriver.remote.webelement.WebElement (session=\"98b048a9783f4b6dfe8e199a1865fae3\", element=\"5f8b9f41-9add-4e6f-adb9-75054479a5cb\")>,\n",
       " <selenium.webdriver.remote.webelement.WebElement (session=\"98b048a9783f4b6dfe8e199a1865fae3\", element=\"d0c185de-21c9-4265-bbea-dff15bd55ca0\")>,\n",
       " <selenium.webdriver.remote.webelement.WebElement (session=\"98b048a9783f4b6dfe8e199a1865fae3\", element=\"169bd4be-d747-4c9e-8d52-7c76b3242f69\")>,\n",
       " <selenium.webdriver.remote.webelement.WebElement (session=\"98b048a9783f4b6dfe8e199a1865fae3\", element=\"f465f681-98c3-4ad6-a6ad-07dfc340b899\")>,\n",
       " <selenium.webdriver.remote.webelement.WebElement (session=\"98b048a9783f4b6dfe8e199a1865fae3\", element=\"71665032-69f0-453f-9148-a7a81b252b9e\")>]"
      ]
     },
     "execution_count": 31,
     "metadata": {},
     "output_type": "execute_result"
    }
   ],
   "source": [
    "#so lets extract all the tags having company names\n",
    "companies_tags=driver.find_elements_by_xpath(\"//a[@class='subTitle ellipsis fleft']\")\n",
    "companies_tags[0:10]"
   ]
  },
  {
   "cell_type": "markdown",
   "metadata": {},
   "source": [
    "Now we have all the tags in which there are the company names\n",
    "\n",
    "Now we will extract the text from these tags one by one by looping over these tags"
   ]
  },
  {
   "cell_type": "code",
   "execution_count": 32,
   "metadata": {},
   "outputs": [
    {
     "data": {
      "text/plain": [
       "['CronJ IT Technologies Private Limited',\n",
       " 'AugmatrixGo',\n",
       " 'IBM India Pvt. Limited',\n",
       " 'Boston Consulting Group',\n",
       " 'Boston Consulting Group',\n",
       " 'GANIT BUSINESS SOLUTIONS PRIVATE LIMITED',\n",
       " 'CES Ltd.',\n",
       " 'Schneider Electric India Pvt. Ltd.',\n",
       " 'Shell India Markets Private Limited',\n",
       " 'Philips India Limited']"
      ]
     },
     "execution_count": 32,
     "metadata": {},
     "output_type": "execute_result"
    }
   ],
   "source": [
    "for i in companies_tags:\n",
    "    company=i.text\n",
    "    company_name.append(company)\n",
    "company_name[0:10]"
   ]
  },
  {
   "cell_type": "markdown",
   "metadata": {},
   "source": [
    "Now we will extract all the html tags where we have the full job description.Let me first show you in which tags the company names are put on the webpage."
   ]
  },
  {
   "cell_type": "code",
   "execution_count": 33,
   "metadata": {},
   "outputs": [
    {
     "data": {
      "text/plain": [
       "[<selenium.webdriver.remote.webelement.WebElement (session=\"98b048a9783f4b6dfe8e199a1865fae3\", element=\"43936cc0-78c1-48da-8e06-ff9167d6fda7\")>,\n",
       " <selenium.webdriver.remote.webelement.WebElement (session=\"98b048a9783f4b6dfe8e199a1865fae3\", element=\"6a1ded6c-644d-436a-bd3d-4f849d3dc75b\")>,\n",
       " <selenium.webdriver.remote.webelement.WebElement (session=\"98b048a9783f4b6dfe8e199a1865fae3\", element=\"85e9df70-6d95-4042-9e6b-98b7782180bc\")>,\n",
       " <selenium.webdriver.remote.webelement.WebElement (session=\"98b048a9783f4b6dfe8e199a1865fae3\", element=\"0522e015-430a-467b-a4a2-a32c4216ac1d\")>,\n",
       " <selenium.webdriver.remote.webelement.WebElement (session=\"98b048a9783f4b6dfe8e199a1865fae3\", element=\"f5403064-3a5e-4633-8a44-82f945d8e5cd\")>,\n",
       " <selenium.webdriver.remote.webelement.WebElement (session=\"98b048a9783f4b6dfe8e199a1865fae3\", element=\"a137588f-4ea5-47e4-b354-59a5bf3c5d59\")>,\n",
       " <selenium.webdriver.remote.webelement.WebElement (session=\"98b048a9783f4b6dfe8e199a1865fae3\", element=\"4a3a3caa-04a4-454b-b1b0-90edd849d5c2\")>,\n",
       " <selenium.webdriver.remote.webelement.WebElement (session=\"98b048a9783f4b6dfe8e199a1865fae3\", element=\"0d21744f-89f3-4ede-a082-2f49bcfa8abe\")>,\n",
       " <selenium.webdriver.remote.webelement.WebElement (session=\"98b048a9783f4b6dfe8e199a1865fae3\", element=\"9fecea92-c537-4b79-b531-5a07dbbe8619\")>,\n",
       " <selenium.webdriver.remote.webelement.WebElement (session=\"98b048a9783f4b6dfe8e199a1865fae3\", element=\"80f2003e-840e-4eb9-bd06-c3b079372b33\")>]"
      ]
     },
     "execution_count": 33,
     "metadata": {},
     "output_type": "execute_result"
    }
   ],
   "source": [
    "#so lets extract all the tags having job description\n",
    "description_tags=driver.find_elements_by_xpath(\"//div[@class='job-description fs12 grey-text']\")\n",
    "description_tags[0:10]"
   ]
  },
  {
   "cell_type": "markdown",
   "metadata": {},
   "source": [
    "Now we have all the tags in which there are the full job description\n",
    "\n",
    "Now we will extract the text from these tags one by one by looping over these tags"
   ]
  },
  {
   "cell_type": "code",
   "execution_count": 34,
   "metadata": {},
   "outputs": [
    {
     "data": {
      "text/plain": [
       "['Flexibility in working independently and do needful research whenever requiredGood Know...',\n",
       " 'BTech / MTech degree in from reputed institutes like IIT / NIT / BITSSkills Required : ...',\n",
       " 'Required Technical and Professional ExpertisePreferred Technical and Professional Exper...',\n",
       " 'Practice Area Profile BCG GAMMA combines innovative skills in computer science, artific...',\n",
       " 'What Youll Do We re looking for a passionate and talented Senior Data Scientist to join...',\n",
       " 'Bachelors / Masters degree in Engineering / Technology or MBA from Tier-1 B School orMi...',\n",
       " 'Logical and Analytical skills must be really strongShould have experience with atleast ...',\n",
       " 'In-depth understanding and modeling experience in supervised, unsupervised, reinforceme...',\n",
       " 'The RoleGeneral Position DefinitionThis role will drive analytics and insights for the ...',\n",
       " 'Experience in the areas of analytics, exposure to emerging digital technologies/ landsc...']"
      ]
     },
     "execution_count": 34,
     "metadata": {},
     "output_type": "execute_result"
    }
   ],
   "source": [
    "for i in description_tags:\n",
    "    descr=i.text\n",
    "    job_description.append(descr)\n",
    "job_description[0:10]"
   ]
  },
  {
   "cell_type": "markdown",
   "metadata": {},
   "source": [
    "So,Now we have extracted the data required from the webpage and stored them in the 4 lists mentioned above. Now before creating a dataframe from these lists,Lets first check the length of each of the list. Because if the length of all of the lists are not equal, then a dataframe cannot be formed."
   ]
  },
  {
   "cell_type": "code",
   "execution_count": 35,
   "metadata": {},
   "outputs": [
    {
     "name": "stdout",
     "output_type": "stream",
     "text": [
      "20 20 20 20\n"
     ]
    }
   ],
   "source": [
    "print(len(job_title),len(job_location),len(company_name),len(job_description))"
   ]
  },
  {
   "cell_type": "code",
   "execution_count": 36,
   "metadata": {},
   "outputs": [],
   "source": [
    "#import pandas as pd\n",
    "jobs=pd.DataFrame({})\n",
    "jobs['title']=job_title\n",
    "jobs['location']=job_location\n",
    "jobs['company']=company_name\n",
    "jobs['descr']=job_description"
   ]
  },
  {
   "cell_type": "code",
   "execution_count": 37,
   "metadata": {},
   "outputs": [
    {
     "data": {
      "text/html": [
       "<div>\n",
       "<style scoped>\n",
       "    .dataframe tbody tr th:only-of-type {\n",
       "        vertical-align: middle;\n",
       "    }\n",
       "\n",
       "    .dataframe tbody tr th {\n",
       "        vertical-align: top;\n",
       "    }\n",
       "\n",
       "    .dataframe thead th {\n",
       "        text-align: right;\n",
       "    }\n",
       "</style>\n",
       "<table border=\"1\" class=\"dataframe\">\n",
       "  <thead>\n",
       "    <tr style=\"text-align: right;\">\n",
       "      <th></th>\n",
       "      <th>title</th>\n",
       "      <th>location</th>\n",
       "      <th>company</th>\n",
       "      <th>descr</th>\n",
       "    </tr>\n",
       "  </thead>\n",
       "  <tbody>\n",
       "    <tr>\n",
       "      <th>0</th>\n",
       "      <td>Data Scientist</td>\n",
       "      <td>Bangalore/Bengaluru</td>\n",
       "      <td>CronJ IT Technologies Private Limited</td>\n",
       "      <td>Flexibility in working independently and do ne...</td>\n",
       "    </tr>\n",
       "    <tr>\n",
       "      <th>1</th>\n",
       "      <td>Data Scientist - Machine Learning</td>\n",
       "      <td>Bangalore/Bengaluru</td>\n",
       "      <td>AugmatrixGo</td>\n",
       "      <td>BTech / MTech degree in from reputed institute...</td>\n",
       "    </tr>\n",
       "    <tr>\n",
       "      <th>2</th>\n",
       "      <td>Data Scientist - IBM Garage</td>\n",
       "      <td>Noida, Hyderabad/Secunderabad, Bangalore/Benga...</td>\n",
       "      <td>IBM India Pvt. Limited</td>\n",
       "      <td>Required Technical and Professional ExpertiseP...</td>\n",
       "    </tr>\n",
       "    <tr>\n",
       "      <th>3</th>\n",
       "      <td>GAMMA Lead Data Scientist</td>\n",
       "      <td>Mumbai, New Delhi, Chennai, Bangalore/Bengaluru</td>\n",
       "      <td>Boston Consulting Group</td>\n",
       "      <td>Practice Area Profile BCG GAMMA combines innov...</td>\n",
       "    </tr>\n",
       "    <tr>\n",
       "      <th>4</th>\n",
       "      <td>DBCG IND - GAMMA Senior Data Scientist</td>\n",
       "      <td>Mumbai, New Delhi, Chennai, Bangalore/Bengaluru</td>\n",
       "      <td>Boston Consulting Group</td>\n",
       "      <td>What Youll Do We re looking for a passionate a...</td>\n",
       "    </tr>\n",
       "    <tr>\n",
       "      <th>5</th>\n",
       "      <td>Data Scientist/Senior Data Scientist</td>\n",
       "      <td>Hyderabad/Secunderabad, Pune, Chennai, Bangalo...</td>\n",
       "      <td>GANIT BUSINESS SOLUTIONS PRIVATE LIMITED</td>\n",
       "      <td>Bachelors / Masters degree in Engineering / Te...</td>\n",
       "    </tr>\n",
       "    <tr>\n",
       "      <th>6</th>\n",
       "      <td>Senior Data Scientist | CES IT LTD | CMMI Level 5</td>\n",
       "      <td>Kolkata, Mumbai, Hyderabad/Secunderabad, Pune,...</td>\n",
       "      <td>CES Ltd.</td>\n",
       "      <td>Logical and Analytical skills must be really s...</td>\n",
       "    </tr>\n",
       "    <tr>\n",
       "      <th>7</th>\n",
       "      <td>Data Scientist</td>\n",
       "      <td>Bangalore/Bengaluru</td>\n",
       "      <td>Schneider Electric India Pvt. Ltd.</td>\n",
       "      <td>In-depth understanding and modeling experience...</td>\n",
       "    </tr>\n",
       "    <tr>\n",
       "      <th>8</th>\n",
       "      <td>Associate Data Scientist - CRM &amp; Loyalty</td>\n",
       "      <td>Bangalore/Bengaluru</td>\n",
       "      <td>Shell India Markets Private Limited</td>\n",
       "      <td>The RoleGeneral Position DefinitionThis role w...</td>\n",
       "    </tr>\n",
       "    <tr>\n",
       "      <th>9</th>\n",
       "      <td>Data Scientist - Business Analytics</td>\n",
       "      <td>Bangalore/Bengaluru</td>\n",
       "      <td>Philips India Limited</td>\n",
       "      <td>Experience in the areas of analytics, exposure...</td>\n",
       "    </tr>\n",
       "    <tr>\n",
       "      <th>10</th>\n",
       "      <td>Data Scientist</td>\n",
       "      <td>Bangalore/Bengaluru</td>\n",
       "      <td>IBM India Pvt. Limited</td>\n",
       "      <td>Minimum 6-8 years of experience inmodeling and...</td>\n",
       "    </tr>\n",
       "    <tr>\n",
       "      <th>11</th>\n",
       "      <td>Data Scientist</td>\n",
       "      <td>Bangalore/Bengaluru</td>\n",
       "      <td>NetApp</td>\n",
       "      <td>A bachelor s degree in engineering or science ...</td>\n",
       "    </tr>\n",
       "    <tr>\n",
       "      <th>12</th>\n",
       "      <td>Data Scientist</td>\n",
       "      <td>Bangalore/Bengaluru(Sector 1 HSR Layout)</td>\n",
       "      <td>Redcan IT Services LLP</td>\n",
       "      <td>We offer an entire range of solutions - Freshe...</td>\n",
       "    </tr>\n",
       "    <tr>\n",
       "      <th>13</th>\n",
       "      <td>Jr. Data Scientist</td>\n",
       "      <td>Bangalore/Bengaluru</td>\n",
       "      <td>Multi Recruit</td>\n",
       "      <td>Proficient in R and Python Work experience 1 y...</td>\n",
       "    </tr>\n",
       "    <tr>\n",
       "      <th>14</th>\n",
       "      <td>Data Scientist - BFSI</td>\n",
       "      <td>Pune, Chennai, Bangalore/Bengaluru, Delhi / NCR</td>\n",
       "      <td>Black Turtle India Pvt Ltd</td>\n",
       "      <td>The ideal Manager candidate should have a good...</td>\n",
       "    </tr>\n",
       "    <tr>\n",
       "      <th>15</th>\n",
       "      <td>Senior Data Scientist/Manager Data Scientist</td>\n",
       "      <td>Noida, Gurgaon/Gurugram, Bangalore/Bengaluru</td>\n",
       "      <td>Novitas Infotech</td>\n",
       "      <td>You should be comfortable managing work plans,...</td>\n",
       "    </tr>\n",
       "    <tr>\n",
       "      <th>16</th>\n",
       "      <td>Excellent Opportunity Of Data Scientist For CM...</td>\n",
       "      <td>Hyderabad/Secunderabad, Pune, Bangalore/Bengal...</td>\n",
       "      <td>Skyleaf Consultants</td>\n",
       "      <td>Roles and Responsibilities Hi All, Greetings f...</td>\n",
       "    </tr>\n",
       "    <tr>\n",
       "      <th>17</th>\n",
       "      <td>Job Opening For the Position Data Scientist</td>\n",
       "      <td>Bangalore/Bengaluru</td>\n",
       "      <td>Pluto seven business solutions (p) limited</td>\n",
       "      <td>Company Background:Pluto7 is a Google Premier ...</td>\n",
       "    </tr>\n",
       "    <tr>\n",
       "      <th>18</th>\n",
       "      <td>Data Scientist</td>\n",
       "      <td>Bangalore/Bengaluru</td>\n",
       "      <td>Walmart Labs</td>\n",
       "      <td>Bachelor s degree in Engineering / Analytics o...</td>\n",
       "    </tr>\n",
       "    <tr>\n",
       "      <th>19</th>\n",
       "      <td>Job Opening For the Position Data Scientist</td>\n",
       "      <td>Bangalore/Bengaluru</td>\n",
       "      <td>Pluto seven business solutions (p) limited</td>\n",
       "      <td>Company Background:Pluto7 is a Google Premier ...</td>\n",
       "    </tr>\n",
       "  </tbody>\n",
       "</table>\n",
       "</div>"
      ],
      "text/plain": [
       "                                                title  \\\n",
       "0                                      Data Scientist   \n",
       "1                   Data Scientist - Machine Learning   \n",
       "2                         Data Scientist - IBM Garage   \n",
       "3                           GAMMA Lead Data Scientist   \n",
       "4              DBCG IND - GAMMA Senior Data Scientist   \n",
       "5                Data Scientist/Senior Data Scientist   \n",
       "6   Senior Data Scientist | CES IT LTD | CMMI Level 5   \n",
       "7                                      Data Scientist   \n",
       "8            Associate Data Scientist - CRM & Loyalty   \n",
       "9                 Data Scientist - Business Analytics   \n",
       "10                                     Data Scientist   \n",
       "11                                     Data Scientist   \n",
       "12                                     Data Scientist   \n",
       "13                                 Jr. Data Scientist   \n",
       "14                              Data Scientist - BFSI   \n",
       "15       Senior Data Scientist/Manager Data Scientist   \n",
       "16  Excellent Opportunity Of Data Scientist For CM...   \n",
       "17        Job Opening For the Position Data Scientist   \n",
       "18                                     Data Scientist   \n",
       "19        Job Opening For the Position Data Scientist   \n",
       "\n",
       "                                             location  \\\n",
       "0                                 Bangalore/Bengaluru   \n",
       "1                                 Bangalore/Bengaluru   \n",
       "2   Noida, Hyderabad/Secunderabad, Bangalore/Benga...   \n",
       "3     Mumbai, New Delhi, Chennai, Bangalore/Bengaluru   \n",
       "4     Mumbai, New Delhi, Chennai, Bangalore/Bengaluru   \n",
       "5   Hyderabad/Secunderabad, Pune, Chennai, Bangalo...   \n",
       "6   Kolkata, Mumbai, Hyderabad/Secunderabad, Pune,...   \n",
       "7                                 Bangalore/Bengaluru   \n",
       "8                                 Bangalore/Bengaluru   \n",
       "9                                 Bangalore/Bengaluru   \n",
       "10                                Bangalore/Bengaluru   \n",
       "11                                Bangalore/Bengaluru   \n",
       "12           Bangalore/Bengaluru(Sector 1 HSR Layout)   \n",
       "13                                Bangalore/Bengaluru   \n",
       "14    Pune, Chennai, Bangalore/Bengaluru, Delhi / NCR   \n",
       "15       Noida, Gurgaon/Gurugram, Bangalore/Bengaluru   \n",
       "16  Hyderabad/Secunderabad, Pune, Bangalore/Bengal...   \n",
       "17                                Bangalore/Bengaluru   \n",
       "18                                Bangalore/Bengaluru   \n",
       "19                                Bangalore/Bengaluru   \n",
       "\n",
       "                                       company  \\\n",
       "0        CronJ IT Technologies Private Limited   \n",
       "1                                  AugmatrixGo   \n",
       "2                       IBM India Pvt. Limited   \n",
       "3                      Boston Consulting Group   \n",
       "4                      Boston Consulting Group   \n",
       "5     GANIT BUSINESS SOLUTIONS PRIVATE LIMITED   \n",
       "6                                     CES Ltd.   \n",
       "7           Schneider Electric India Pvt. Ltd.   \n",
       "8          Shell India Markets Private Limited   \n",
       "9                        Philips India Limited   \n",
       "10                      IBM India Pvt. Limited   \n",
       "11                                      NetApp   \n",
       "12                      Redcan IT Services LLP   \n",
       "13                               Multi Recruit   \n",
       "14                  Black Turtle India Pvt Ltd   \n",
       "15                            Novitas Infotech   \n",
       "16                         Skyleaf Consultants   \n",
       "17  Pluto seven business solutions (p) limited   \n",
       "18                                Walmart Labs   \n",
       "19  Pluto seven business solutions (p) limited   \n",
       "\n",
       "                                                descr  \n",
       "0   Flexibility in working independently and do ne...  \n",
       "1   BTech / MTech degree in from reputed institute...  \n",
       "2   Required Technical and Professional ExpertiseP...  \n",
       "3   Practice Area Profile BCG GAMMA combines innov...  \n",
       "4   What Youll Do We re looking for a passionate a...  \n",
       "5   Bachelors / Masters degree in Engineering / Te...  \n",
       "6   Logical and Analytical skills must be really s...  \n",
       "7   In-depth understanding and modeling experience...  \n",
       "8   The RoleGeneral Position DefinitionThis role w...  \n",
       "9   Experience in the areas of analytics, exposure...  \n",
       "10  Minimum 6-8 years of experience inmodeling and...  \n",
       "11  A bachelor s degree in engineering or science ...  \n",
       "12  We offer an entire range of solutions - Freshe...  \n",
       "13  Proficient in R and Python Work experience 1 y...  \n",
       "14  The ideal Manager candidate should have a good...  \n",
       "15  You should be comfortable managing work plans,...  \n",
       "16  Roles and Responsibilities Hi All, Greetings f...  \n",
       "17  Company Background:Pluto7 is a Google Premier ...  \n",
       "18  Bachelor s degree in Engineering / Analytics o...  \n",
       "19  Company Background:Pluto7 is a Google Premier ...  "
      ]
     },
     "execution_count": 37,
     "metadata": {},
     "output_type": "execute_result"
    }
   ],
   "source": [
    "jobs"
   ]
  },
  {
   "cell_type": "markdown",
   "metadata": {},
   "source": [
    "# Q3:In this question you have to scrape data using the filters available on the webpage as shown in image.\n",
    "\n",
    "You have to use the location and salary filter.\n",
    "You have to scrape data for\"Data Scientist\"designation for first 10 job results.\n",
    "You have to scrape the job title,job_location,company_name,experience required.\n",
    "The location filter to be used is \"Delhi/NCR\"\n",
    "The salary filter to be used is \"3-6\"lakhs\n",
    "The task will be done as shown in the below steps:\n",
    "1.first get the webpage https://www.naukri.com/\n",
    "2.Enter \"Data Scientist\" in \"Skill,Designations,Companies\" field and enter \"Delhi/NCR\" in \"enter the location\"field.\n",
    "3.Then click the search button.\n",
    "4.Then apply the location filter and salary filter by checking the respective boxes.\n",
    "5.Then scarpe the data for the first 10 jobs data.\n",
    "6.Finally create a dataframe of the scraped data."
   ]
  },
  {
   "cell_type": "code",
   "execution_count": 38,
   "metadata": {},
   "outputs": [],
   "source": [
    "driver.get('https://www.naukri.com/')"
   ]
  },
  {
   "cell_type": "code",
   "execution_count": 39,
   "metadata": {},
   "outputs": [],
   "source": [
    "#finding element for job search bar\n",
    "search_job= driver.find_element_by_id('qsb-keyword-sugg')\n",
    "search_job.send_keys(\"Data Scientist\")"
   ]
  },
  {
   "cell_type": "code",
   "execution_count": 40,
   "metadata": {},
   "outputs": [],
   "source": [
    "search_btn=driver.find_element_by_xpath(\"//div[@class='search-btn']/button\")\n",
    "search_btn.click()"
   ]
  },
  {
   "cell_type": "code",
   "execution_count": 41,
   "metadata": {},
   "outputs": [
    {
     "ename": "ElementNotInteractableException",
     "evalue": "Message: element not interactable\n  (Session info: chrome=89.0.4389.114)\n",
     "output_type": "error",
     "traceback": [
      "\u001b[1;31m---------------------------------------------------------------------------\u001b[0m",
      "\u001b[1;31mElementNotInteractableException\u001b[0m           Traceback (most recent call last)",
      "\u001b[1;32m<ipython-input-41-3c8ecda5a1bc>\u001b[0m in \u001b[0;36m<module>\u001b[1;34m\u001b[0m\n\u001b[0;32m      1\u001b[0m \u001b[1;31m#finding element for location search bar\u001b[0m\u001b[1;33m\u001b[0m\u001b[1;33m\u001b[0m\u001b[1;33m\u001b[0m\u001b[0m\n\u001b[0;32m      2\u001b[0m \u001b[0msearch_loc\u001b[0m\u001b[1;33m=\u001b[0m \u001b[0mdriver\u001b[0m\u001b[1;33m.\u001b[0m\u001b[0mfind_element_by_xpath\u001b[0m\u001b[1;33m(\u001b[0m\u001b[1;34m\"//div[@class='mt-8 chckBoxCont']\"\u001b[0m\u001b[1;33m)\u001b[0m\u001b[1;33m\u001b[0m\u001b[1;33m\u001b[0m\u001b[0m\n\u001b[1;32m----> 3\u001b[1;33m \u001b[0msearch_loc\u001b[0m\u001b[1;33m.\u001b[0m\u001b[0msend_keys\u001b[0m\u001b[1;33m(\u001b[0m\u001b[1;34m\"Dlhi/NCR\"\u001b[0m\u001b[1;33m)\u001b[0m\u001b[1;33m\u001b[0m\u001b[1;33m\u001b[0m\u001b[0m\n\u001b[0m",
      "\u001b[1;32m~\\anaconda3\\lib\\site-packages\\selenium\\webdriver\\remote\\webelement.py\u001b[0m in \u001b[0;36msend_keys\u001b[1;34m(self, *value)\u001b[0m\n\u001b[0;32m    475\u001b[0m                 \u001b[0mvalue\u001b[0m \u001b[1;33m=\u001b[0m \u001b[0mself\u001b[0m\u001b[1;33m.\u001b[0m\u001b[0m_upload\u001b[0m\u001b[1;33m(\u001b[0m\u001b[0mlocal_file\u001b[0m\u001b[1;33m)\u001b[0m\u001b[1;33m\u001b[0m\u001b[1;33m\u001b[0m\u001b[0m\n\u001b[0;32m    476\u001b[0m \u001b[1;33m\u001b[0m\u001b[0m\n\u001b[1;32m--> 477\u001b[1;33m         self._execute(Command.SEND_KEYS_TO_ELEMENT,\n\u001b[0m\u001b[0;32m    478\u001b[0m                       {'text': \"\".join(keys_to_typing(value)),\n\u001b[0;32m    479\u001b[0m                        'value': keys_to_typing(value)})\n",
      "\u001b[1;32m~\\anaconda3\\lib\\site-packages\\selenium\\webdriver\\remote\\webelement.py\u001b[0m in \u001b[0;36m_execute\u001b[1;34m(self, command, params)\u001b[0m\n\u001b[0;32m    631\u001b[0m             \u001b[0mparams\u001b[0m \u001b[1;33m=\u001b[0m \u001b[1;33m{\u001b[0m\u001b[1;33m}\u001b[0m\u001b[1;33m\u001b[0m\u001b[1;33m\u001b[0m\u001b[0m\n\u001b[0;32m    632\u001b[0m         \u001b[0mparams\u001b[0m\u001b[1;33m[\u001b[0m\u001b[1;34m'id'\u001b[0m\u001b[1;33m]\u001b[0m \u001b[1;33m=\u001b[0m \u001b[0mself\u001b[0m\u001b[1;33m.\u001b[0m\u001b[0m_id\u001b[0m\u001b[1;33m\u001b[0m\u001b[1;33m\u001b[0m\u001b[0m\n\u001b[1;32m--> 633\u001b[1;33m         \u001b[1;32mreturn\u001b[0m \u001b[0mself\u001b[0m\u001b[1;33m.\u001b[0m\u001b[0m_parent\u001b[0m\u001b[1;33m.\u001b[0m\u001b[0mexecute\u001b[0m\u001b[1;33m(\u001b[0m\u001b[0mcommand\u001b[0m\u001b[1;33m,\u001b[0m \u001b[0mparams\u001b[0m\u001b[1;33m)\u001b[0m\u001b[1;33m\u001b[0m\u001b[1;33m\u001b[0m\u001b[0m\n\u001b[0m\u001b[0;32m    634\u001b[0m \u001b[1;33m\u001b[0m\u001b[0m\n\u001b[0;32m    635\u001b[0m     \u001b[1;32mdef\u001b[0m \u001b[0mfind_element\u001b[0m\u001b[1;33m(\u001b[0m\u001b[0mself\u001b[0m\u001b[1;33m,\u001b[0m \u001b[0mby\u001b[0m\u001b[1;33m=\u001b[0m\u001b[0mBy\u001b[0m\u001b[1;33m.\u001b[0m\u001b[0mID\u001b[0m\u001b[1;33m,\u001b[0m \u001b[0mvalue\u001b[0m\u001b[1;33m=\u001b[0m\u001b[1;32mNone\u001b[0m\u001b[1;33m)\u001b[0m\u001b[1;33m:\u001b[0m\u001b[1;33m\u001b[0m\u001b[1;33m\u001b[0m\u001b[0m\n",
      "\u001b[1;32m~\\anaconda3\\lib\\site-packages\\selenium\\webdriver\\remote\\webdriver.py\u001b[0m in \u001b[0;36mexecute\u001b[1;34m(self, driver_command, params)\u001b[0m\n\u001b[0;32m    319\u001b[0m         \u001b[0mresponse\u001b[0m \u001b[1;33m=\u001b[0m \u001b[0mself\u001b[0m\u001b[1;33m.\u001b[0m\u001b[0mcommand_executor\u001b[0m\u001b[1;33m.\u001b[0m\u001b[0mexecute\u001b[0m\u001b[1;33m(\u001b[0m\u001b[0mdriver_command\u001b[0m\u001b[1;33m,\u001b[0m \u001b[0mparams\u001b[0m\u001b[1;33m)\u001b[0m\u001b[1;33m\u001b[0m\u001b[1;33m\u001b[0m\u001b[0m\n\u001b[0;32m    320\u001b[0m         \u001b[1;32mif\u001b[0m \u001b[0mresponse\u001b[0m\u001b[1;33m:\u001b[0m\u001b[1;33m\u001b[0m\u001b[1;33m\u001b[0m\u001b[0m\n\u001b[1;32m--> 321\u001b[1;33m             \u001b[0mself\u001b[0m\u001b[1;33m.\u001b[0m\u001b[0merror_handler\u001b[0m\u001b[1;33m.\u001b[0m\u001b[0mcheck_response\u001b[0m\u001b[1;33m(\u001b[0m\u001b[0mresponse\u001b[0m\u001b[1;33m)\u001b[0m\u001b[1;33m\u001b[0m\u001b[1;33m\u001b[0m\u001b[0m\n\u001b[0m\u001b[0;32m    322\u001b[0m             response['value'] = self._unwrap_value(\n\u001b[0;32m    323\u001b[0m                 response.get('value', None))\n",
      "\u001b[1;32m~\\anaconda3\\lib\\site-packages\\selenium\\webdriver\\remote\\errorhandler.py\u001b[0m in \u001b[0;36mcheck_response\u001b[1;34m(self, response)\u001b[0m\n\u001b[0;32m    240\u001b[0m                 \u001b[0malert_text\u001b[0m \u001b[1;33m=\u001b[0m \u001b[0mvalue\u001b[0m\u001b[1;33m[\u001b[0m\u001b[1;34m'alert'\u001b[0m\u001b[1;33m]\u001b[0m\u001b[1;33m.\u001b[0m\u001b[0mget\u001b[0m\u001b[1;33m(\u001b[0m\u001b[1;34m'text'\u001b[0m\u001b[1;33m)\u001b[0m\u001b[1;33m\u001b[0m\u001b[1;33m\u001b[0m\u001b[0m\n\u001b[0;32m    241\u001b[0m             \u001b[1;32mraise\u001b[0m \u001b[0mexception_class\u001b[0m\u001b[1;33m(\u001b[0m\u001b[0mmessage\u001b[0m\u001b[1;33m,\u001b[0m \u001b[0mscreen\u001b[0m\u001b[1;33m,\u001b[0m \u001b[0mstacktrace\u001b[0m\u001b[1;33m,\u001b[0m \u001b[0malert_text\u001b[0m\u001b[1;33m)\u001b[0m\u001b[1;33m\u001b[0m\u001b[1;33m\u001b[0m\u001b[0m\n\u001b[1;32m--> 242\u001b[1;33m         \u001b[1;32mraise\u001b[0m \u001b[0mexception_class\u001b[0m\u001b[1;33m(\u001b[0m\u001b[0mmessage\u001b[0m\u001b[1;33m,\u001b[0m \u001b[0mscreen\u001b[0m\u001b[1;33m,\u001b[0m \u001b[0mstacktrace\u001b[0m\u001b[1;33m)\u001b[0m\u001b[1;33m\u001b[0m\u001b[1;33m\u001b[0m\u001b[0m\n\u001b[0m\u001b[0;32m    243\u001b[0m \u001b[1;33m\u001b[0m\u001b[0m\n\u001b[0;32m    244\u001b[0m     \u001b[1;32mdef\u001b[0m \u001b[0m_value_or_default\u001b[0m\u001b[1;33m(\u001b[0m\u001b[0mself\u001b[0m\u001b[1;33m,\u001b[0m \u001b[0mobj\u001b[0m\u001b[1;33m,\u001b[0m \u001b[0mkey\u001b[0m\u001b[1;33m,\u001b[0m \u001b[0mdefault\u001b[0m\u001b[1;33m)\u001b[0m\u001b[1;33m:\u001b[0m\u001b[1;33m\u001b[0m\u001b[1;33m\u001b[0m\u001b[0m\n",
      "\u001b[1;31mElementNotInteractableException\u001b[0m: Message: element not interactable\n  (Session info: chrome=89.0.4389.114)\n"
     ]
    }
   ],
   "source": [
    "#finding element for location search bar\n",
    "search_loc= driver.find_element_by_xpath(\"//div[@class='mt-8 chckBoxCont']\")\n",
    "search_loc.send_keys(\"Dlhi/NCR\")  \n"
   ]
  },
  {
   "cell_type": "code",
   "execution_count": 42,
   "metadata": {},
   "outputs": [
    {
     "ename": "InvalidSelectorException",
     "evalue": "Message: invalid selector: Unable to locate an element with the xpath expression //div[@class='filterOptns']/mt-8 chckBoxCont because of the following error:\nSyntaxError: Failed to execute 'evaluate' on 'Document': The string '//div[@class='filterOptns']/mt-8 chckBoxCont' is not a valid XPath expression.\n  (Session info: chrome=89.0.4389.114)\n",
     "output_type": "error",
     "traceback": [
      "\u001b[1;31m---------------------------------------------------------------------------\u001b[0m",
      "\u001b[1;31mInvalidSelectorException\u001b[0m                  Traceback (most recent call last)",
      "\u001b[1;32m<ipython-input-42-f4c44865883f>\u001b[0m in \u001b[0;36m<module>\u001b[1;34m\u001b[0m\n\u001b[1;32m----> 1\u001b[1;33m \u001b[0msearch_sal\u001b[0m\u001b[1;33m=\u001b[0m \u001b[0mdriver\u001b[0m\u001b[1;33m.\u001b[0m\u001b[0mfind_element_by_xpath\u001b[0m\u001b[1;33m(\u001b[0m\u001b[1;34m\"//div[@class='filterOptns']/mt-8 chckBoxCont\"\u001b[0m\u001b[1;33m)\u001b[0m\u001b[1;33m\u001b[0m\u001b[1;33m\u001b[0m\u001b[0m\n\u001b[0m\u001b[0;32m      2\u001b[0m \u001b[0msearch_sal\u001b[0m\u001b[1;33m.\u001b[0m\u001b[0msend_keys\u001b[0m\u001b[1;33m(\u001b[0m\u001b[1;34m'3-6 Lakhs'\u001b[0m\u001b[1;33m)\u001b[0m\u001b[1;33m\u001b[0m\u001b[1;33m\u001b[0m\u001b[0m\n",
      "\u001b[1;32m~\\anaconda3\\lib\\site-packages\\selenium\\webdriver\\remote\\webdriver.py\u001b[0m in \u001b[0;36mfind_element_by_xpath\u001b[1;34m(self, xpath)\u001b[0m\n\u001b[0;32m    392\u001b[0m             \u001b[0melement\u001b[0m \u001b[1;33m=\u001b[0m \u001b[0mdriver\u001b[0m\u001b[1;33m.\u001b[0m\u001b[0mfind_element_by_xpath\u001b[0m\u001b[1;33m(\u001b[0m\u001b[1;34m'//div/td[1]'\u001b[0m\u001b[1;33m)\u001b[0m\u001b[1;33m\u001b[0m\u001b[1;33m\u001b[0m\u001b[0m\n\u001b[0;32m    393\u001b[0m         \"\"\"\n\u001b[1;32m--> 394\u001b[1;33m         \u001b[1;32mreturn\u001b[0m \u001b[0mself\u001b[0m\u001b[1;33m.\u001b[0m\u001b[0mfind_element\u001b[0m\u001b[1;33m(\u001b[0m\u001b[0mby\u001b[0m\u001b[1;33m=\u001b[0m\u001b[0mBy\u001b[0m\u001b[1;33m.\u001b[0m\u001b[0mXPATH\u001b[0m\u001b[1;33m,\u001b[0m \u001b[0mvalue\u001b[0m\u001b[1;33m=\u001b[0m\u001b[0mxpath\u001b[0m\u001b[1;33m)\u001b[0m\u001b[1;33m\u001b[0m\u001b[1;33m\u001b[0m\u001b[0m\n\u001b[0m\u001b[0;32m    395\u001b[0m \u001b[1;33m\u001b[0m\u001b[0m\n\u001b[0;32m    396\u001b[0m     \u001b[1;32mdef\u001b[0m \u001b[0mfind_elements_by_xpath\u001b[0m\u001b[1;33m(\u001b[0m\u001b[0mself\u001b[0m\u001b[1;33m,\u001b[0m \u001b[0mxpath\u001b[0m\u001b[1;33m)\u001b[0m\u001b[1;33m:\u001b[0m\u001b[1;33m\u001b[0m\u001b[1;33m\u001b[0m\u001b[0m\n",
      "\u001b[1;32m~\\anaconda3\\lib\\site-packages\\selenium\\webdriver\\remote\\webdriver.py\u001b[0m in \u001b[0;36mfind_element\u001b[1;34m(self, by, value)\u001b[0m\n\u001b[0;32m    974\u001b[0m                 \u001b[0mby\u001b[0m \u001b[1;33m=\u001b[0m \u001b[0mBy\u001b[0m\u001b[1;33m.\u001b[0m\u001b[0mCSS_SELECTOR\u001b[0m\u001b[1;33m\u001b[0m\u001b[1;33m\u001b[0m\u001b[0m\n\u001b[0;32m    975\u001b[0m                 \u001b[0mvalue\u001b[0m \u001b[1;33m=\u001b[0m \u001b[1;34m'[name=\"%s\"]'\u001b[0m \u001b[1;33m%\u001b[0m \u001b[0mvalue\u001b[0m\u001b[1;33m\u001b[0m\u001b[1;33m\u001b[0m\u001b[0m\n\u001b[1;32m--> 976\u001b[1;33m         return self.execute(Command.FIND_ELEMENT, {\n\u001b[0m\u001b[0;32m    977\u001b[0m             \u001b[1;34m'using'\u001b[0m\u001b[1;33m:\u001b[0m \u001b[0mby\u001b[0m\u001b[1;33m,\u001b[0m\u001b[1;33m\u001b[0m\u001b[1;33m\u001b[0m\u001b[0m\n\u001b[0;32m    978\u001b[0m             'value': value})['value']\n",
      "\u001b[1;32m~\\anaconda3\\lib\\site-packages\\selenium\\webdriver\\remote\\webdriver.py\u001b[0m in \u001b[0;36mexecute\u001b[1;34m(self, driver_command, params)\u001b[0m\n\u001b[0;32m    319\u001b[0m         \u001b[0mresponse\u001b[0m \u001b[1;33m=\u001b[0m \u001b[0mself\u001b[0m\u001b[1;33m.\u001b[0m\u001b[0mcommand_executor\u001b[0m\u001b[1;33m.\u001b[0m\u001b[0mexecute\u001b[0m\u001b[1;33m(\u001b[0m\u001b[0mdriver_command\u001b[0m\u001b[1;33m,\u001b[0m \u001b[0mparams\u001b[0m\u001b[1;33m)\u001b[0m\u001b[1;33m\u001b[0m\u001b[1;33m\u001b[0m\u001b[0m\n\u001b[0;32m    320\u001b[0m         \u001b[1;32mif\u001b[0m \u001b[0mresponse\u001b[0m\u001b[1;33m:\u001b[0m\u001b[1;33m\u001b[0m\u001b[1;33m\u001b[0m\u001b[0m\n\u001b[1;32m--> 321\u001b[1;33m             \u001b[0mself\u001b[0m\u001b[1;33m.\u001b[0m\u001b[0merror_handler\u001b[0m\u001b[1;33m.\u001b[0m\u001b[0mcheck_response\u001b[0m\u001b[1;33m(\u001b[0m\u001b[0mresponse\u001b[0m\u001b[1;33m)\u001b[0m\u001b[1;33m\u001b[0m\u001b[1;33m\u001b[0m\u001b[0m\n\u001b[0m\u001b[0;32m    322\u001b[0m             response['value'] = self._unwrap_value(\n\u001b[0;32m    323\u001b[0m                 response.get('value', None))\n",
      "\u001b[1;32m~\\anaconda3\\lib\\site-packages\\selenium\\webdriver\\remote\\errorhandler.py\u001b[0m in \u001b[0;36mcheck_response\u001b[1;34m(self, response)\u001b[0m\n\u001b[0;32m    240\u001b[0m                 \u001b[0malert_text\u001b[0m \u001b[1;33m=\u001b[0m \u001b[0mvalue\u001b[0m\u001b[1;33m[\u001b[0m\u001b[1;34m'alert'\u001b[0m\u001b[1;33m]\u001b[0m\u001b[1;33m.\u001b[0m\u001b[0mget\u001b[0m\u001b[1;33m(\u001b[0m\u001b[1;34m'text'\u001b[0m\u001b[1;33m)\u001b[0m\u001b[1;33m\u001b[0m\u001b[1;33m\u001b[0m\u001b[0m\n\u001b[0;32m    241\u001b[0m             \u001b[1;32mraise\u001b[0m \u001b[0mexception_class\u001b[0m\u001b[1;33m(\u001b[0m\u001b[0mmessage\u001b[0m\u001b[1;33m,\u001b[0m \u001b[0mscreen\u001b[0m\u001b[1;33m,\u001b[0m \u001b[0mstacktrace\u001b[0m\u001b[1;33m,\u001b[0m \u001b[0malert_text\u001b[0m\u001b[1;33m)\u001b[0m\u001b[1;33m\u001b[0m\u001b[1;33m\u001b[0m\u001b[0m\n\u001b[1;32m--> 242\u001b[1;33m         \u001b[1;32mraise\u001b[0m \u001b[0mexception_class\u001b[0m\u001b[1;33m(\u001b[0m\u001b[0mmessage\u001b[0m\u001b[1;33m,\u001b[0m \u001b[0mscreen\u001b[0m\u001b[1;33m,\u001b[0m \u001b[0mstacktrace\u001b[0m\u001b[1;33m)\u001b[0m\u001b[1;33m\u001b[0m\u001b[1;33m\u001b[0m\u001b[0m\n\u001b[0m\u001b[0;32m    243\u001b[0m \u001b[1;33m\u001b[0m\u001b[0m\n\u001b[0;32m    244\u001b[0m     \u001b[1;32mdef\u001b[0m \u001b[0m_value_or_default\u001b[0m\u001b[1;33m(\u001b[0m\u001b[0mself\u001b[0m\u001b[1;33m,\u001b[0m \u001b[0mobj\u001b[0m\u001b[1;33m,\u001b[0m \u001b[0mkey\u001b[0m\u001b[1;33m,\u001b[0m \u001b[0mdefault\u001b[0m\u001b[1;33m)\u001b[0m\u001b[1;33m:\u001b[0m\u001b[1;33m\u001b[0m\u001b[1;33m\u001b[0m\u001b[0m\n",
      "\u001b[1;31mInvalidSelectorException\u001b[0m: Message: invalid selector: Unable to locate an element with the xpath expression //div[@class='filterOptns']/mt-8 chckBoxCont because of the following error:\nSyntaxError: Failed to execute 'evaluate' on 'Document': The string '//div[@class='filterOptns']/mt-8 chckBoxCont' is not a valid XPath expression.\n  (Session info: chrome=89.0.4389.114)\n"
     ]
    }
   ],
   "source": [
    "search_sal= driver.find_element_by_xpath(\"//div[@class='filterOptns']/mt-8 chckBoxCont\")\n",
    "search_sal.send_keys('3-6 Lakhs')"
   ]
  },
  {
   "cell_type": "code",
   "execution_count": 43,
   "metadata": {},
   "outputs": [
    {
     "ename": "ElementNotInteractableException",
     "evalue": "Message: element not interactable\n  (Session info: chrome=89.0.4389.114)\n",
     "output_type": "error",
     "traceback": [
      "\u001b[1;31m---------------------------------------------------------------------------\u001b[0m",
      "\u001b[1;31mElementNotInteractableException\u001b[0m           Traceback (most recent call last)",
      "\u001b[1;32m<ipython-input-43-a875bdb4cfac>\u001b[0m in \u001b[0;36m<module>\u001b[1;34m\u001b[0m\n\u001b[0;32m      1\u001b[0m \u001b[0msearch_sal\u001b[0m\u001b[1;33m=\u001b[0m \u001b[0mdriver\u001b[0m\u001b[1;33m.\u001b[0m\u001b[0mfind_element_by_xpath\u001b[0m\u001b[1;33m(\u001b[0m\u001b[1;34m\"//div[@class='mt-8 chckBoxCont']\"\u001b[0m\u001b[1;33m)\u001b[0m\u001b[1;33m\u001b[0m\u001b[1;33m\u001b[0m\u001b[0m\n\u001b[1;32m----> 2\u001b[1;33m \u001b[0msearch_sal\u001b[0m\u001b[1;33m.\u001b[0m\u001b[0msend_keys\u001b[0m\u001b[1;33m(\u001b[0m\u001b[1;34m'3-6 Lakhs'\u001b[0m\u001b[1;33m)\u001b[0m\u001b[1;33m\u001b[0m\u001b[1;33m\u001b[0m\u001b[0m\n\u001b[0m",
      "\u001b[1;32m~\\anaconda3\\lib\\site-packages\\selenium\\webdriver\\remote\\webelement.py\u001b[0m in \u001b[0;36msend_keys\u001b[1;34m(self, *value)\u001b[0m\n\u001b[0;32m    475\u001b[0m                 \u001b[0mvalue\u001b[0m \u001b[1;33m=\u001b[0m \u001b[0mself\u001b[0m\u001b[1;33m.\u001b[0m\u001b[0m_upload\u001b[0m\u001b[1;33m(\u001b[0m\u001b[0mlocal_file\u001b[0m\u001b[1;33m)\u001b[0m\u001b[1;33m\u001b[0m\u001b[1;33m\u001b[0m\u001b[0m\n\u001b[0;32m    476\u001b[0m \u001b[1;33m\u001b[0m\u001b[0m\n\u001b[1;32m--> 477\u001b[1;33m         self._execute(Command.SEND_KEYS_TO_ELEMENT,\n\u001b[0m\u001b[0;32m    478\u001b[0m                       {'text': \"\".join(keys_to_typing(value)),\n\u001b[0;32m    479\u001b[0m                        'value': keys_to_typing(value)})\n",
      "\u001b[1;32m~\\anaconda3\\lib\\site-packages\\selenium\\webdriver\\remote\\webelement.py\u001b[0m in \u001b[0;36m_execute\u001b[1;34m(self, command, params)\u001b[0m\n\u001b[0;32m    631\u001b[0m             \u001b[0mparams\u001b[0m \u001b[1;33m=\u001b[0m \u001b[1;33m{\u001b[0m\u001b[1;33m}\u001b[0m\u001b[1;33m\u001b[0m\u001b[1;33m\u001b[0m\u001b[0m\n\u001b[0;32m    632\u001b[0m         \u001b[0mparams\u001b[0m\u001b[1;33m[\u001b[0m\u001b[1;34m'id'\u001b[0m\u001b[1;33m]\u001b[0m \u001b[1;33m=\u001b[0m \u001b[0mself\u001b[0m\u001b[1;33m.\u001b[0m\u001b[0m_id\u001b[0m\u001b[1;33m\u001b[0m\u001b[1;33m\u001b[0m\u001b[0m\n\u001b[1;32m--> 633\u001b[1;33m         \u001b[1;32mreturn\u001b[0m \u001b[0mself\u001b[0m\u001b[1;33m.\u001b[0m\u001b[0m_parent\u001b[0m\u001b[1;33m.\u001b[0m\u001b[0mexecute\u001b[0m\u001b[1;33m(\u001b[0m\u001b[0mcommand\u001b[0m\u001b[1;33m,\u001b[0m \u001b[0mparams\u001b[0m\u001b[1;33m)\u001b[0m\u001b[1;33m\u001b[0m\u001b[1;33m\u001b[0m\u001b[0m\n\u001b[0m\u001b[0;32m    634\u001b[0m \u001b[1;33m\u001b[0m\u001b[0m\n\u001b[0;32m    635\u001b[0m     \u001b[1;32mdef\u001b[0m \u001b[0mfind_element\u001b[0m\u001b[1;33m(\u001b[0m\u001b[0mself\u001b[0m\u001b[1;33m,\u001b[0m \u001b[0mby\u001b[0m\u001b[1;33m=\u001b[0m\u001b[0mBy\u001b[0m\u001b[1;33m.\u001b[0m\u001b[0mID\u001b[0m\u001b[1;33m,\u001b[0m \u001b[0mvalue\u001b[0m\u001b[1;33m=\u001b[0m\u001b[1;32mNone\u001b[0m\u001b[1;33m)\u001b[0m\u001b[1;33m:\u001b[0m\u001b[1;33m\u001b[0m\u001b[1;33m\u001b[0m\u001b[0m\n",
      "\u001b[1;32m~\\anaconda3\\lib\\site-packages\\selenium\\webdriver\\remote\\webdriver.py\u001b[0m in \u001b[0;36mexecute\u001b[1;34m(self, driver_command, params)\u001b[0m\n\u001b[0;32m    319\u001b[0m         \u001b[0mresponse\u001b[0m \u001b[1;33m=\u001b[0m \u001b[0mself\u001b[0m\u001b[1;33m.\u001b[0m\u001b[0mcommand_executor\u001b[0m\u001b[1;33m.\u001b[0m\u001b[0mexecute\u001b[0m\u001b[1;33m(\u001b[0m\u001b[0mdriver_command\u001b[0m\u001b[1;33m,\u001b[0m \u001b[0mparams\u001b[0m\u001b[1;33m)\u001b[0m\u001b[1;33m\u001b[0m\u001b[1;33m\u001b[0m\u001b[0m\n\u001b[0;32m    320\u001b[0m         \u001b[1;32mif\u001b[0m \u001b[0mresponse\u001b[0m\u001b[1;33m:\u001b[0m\u001b[1;33m\u001b[0m\u001b[1;33m\u001b[0m\u001b[0m\n\u001b[1;32m--> 321\u001b[1;33m             \u001b[0mself\u001b[0m\u001b[1;33m.\u001b[0m\u001b[0merror_handler\u001b[0m\u001b[1;33m.\u001b[0m\u001b[0mcheck_response\u001b[0m\u001b[1;33m(\u001b[0m\u001b[0mresponse\u001b[0m\u001b[1;33m)\u001b[0m\u001b[1;33m\u001b[0m\u001b[1;33m\u001b[0m\u001b[0m\n\u001b[0m\u001b[0;32m    322\u001b[0m             response['value'] = self._unwrap_value(\n\u001b[0;32m    323\u001b[0m                 response.get('value', None))\n",
      "\u001b[1;32m~\\anaconda3\\lib\\site-packages\\selenium\\webdriver\\remote\\errorhandler.py\u001b[0m in \u001b[0;36mcheck_response\u001b[1;34m(self, response)\u001b[0m\n\u001b[0;32m    240\u001b[0m                 \u001b[0malert_text\u001b[0m \u001b[1;33m=\u001b[0m \u001b[0mvalue\u001b[0m\u001b[1;33m[\u001b[0m\u001b[1;34m'alert'\u001b[0m\u001b[1;33m]\u001b[0m\u001b[1;33m.\u001b[0m\u001b[0mget\u001b[0m\u001b[1;33m(\u001b[0m\u001b[1;34m'text'\u001b[0m\u001b[1;33m)\u001b[0m\u001b[1;33m\u001b[0m\u001b[1;33m\u001b[0m\u001b[0m\n\u001b[0;32m    241\u001b[0m             \u001b[1;32mraise\u001b[0m \u001b[0mexception_class\u001b[0m\u001b[1;33m(\u001b[0m\u001b[0mmessage\u001b[0m\u001b[1;33m,\u001b[0m \u001b[0mscreen\u001b[0m\u001b[1;33m,\u001b[0m \u001b[0mstacktrace\u001b[0m\u001b[1;33m,\u001b[0m \u001b[0malert_text\u001b[0m\u001b[1;33m)\u001b[0m\u001b[1;33m\u001b[0m\u001b[1;33m\u001b[0m\u001b[0m\n\u001b[1;32m--> 242\u001b[1;33m         \u001b[1;32mraise\u001b[0m \u001b[0mexception_class\u001b[0m\u001b[1;33m(\u001b[0m\u001b[0mmessage\u001b[0m\u001b[1;33m,\u001b[0m \u001b[0mscreen\u001b[0m\u001b[1;33m,\u001b[0m \u001b[0mstacktrace\u001b[0m\u001b[1;33m)\u001b[0m\u001b[1;33m\u001b[0m\u001b[1;33m\u001b[0m\u001b[0m\n\u001b[0m\u001b[0;32m    243\u001b[0m \u001b[1;33m\u001b[0m\u001b[0m\n\u001b[0;32m    244\u001b[0m     \u001b[1;32mdef\u001b[0m \u001b[0m_value_or_default\u001b[0m\u001b[1;33m(\u001b[0m\u001b[0mself\u001b[0m\u001b[1;33m,\u001b[0m \u001b[0mobj\u001b[0m\u001b[1;33m,\u001b[0m \u001b[0mkey\u001b[0m\u001b[1;33m,\u001b[0m \u001b[0mdefault\u001b[0m\u001b[1;33m)\u001b[0m\u001b[1;33m:\u001b[0m\u001b[1;33m\u001b[0m\u001b[1;33m\u001b[0m\u001b[0m\n",
      "\u001b[1;31mElementNotInteractableException\u001b[0m: Message: element not interactable\n  (Session info: chrome=89.0.4389.114)\n"
     ]
    }
   ],
   "source": [
    "search_sal= driver.find_element_by_xpath(\"//div[@class='mt-8 chckBoxCont']\")\n",
    "search_sal.send_keys('3-6 Lakhs')"
   ]
  },
  {
   "cell_type": "code",
   "execution_count": 44,
   "metadata": {},
   "outputs": [
    {
     "ename": "ElementNotInteractableException",
     "evalue": "Message: element not interactable\n  (Session info: chrome=89.0.4389.114)\n",
     "output_type": "error",
     "traceback": [
      "\u001b[1;31m---------------------------------------------------------------------------\u001b[0m",
      "\u001b[1;31mElementNotInteractableException\u001b[0m           Traceback (most recent call last)",
      "\u001b[1;32m<ipython-input-44-f4c36c01def6>\u001b[0m in \u001b[0;36m<module>\u001b[1;34m\u001b[0m\n\u001b[0;32m      2\u001b[0m \u001b[0msearch_sal\u001b[0m\u001b[1;33m=\u001b[0m \u001b[0mdriver\u001b[0m\u001b[1;33m.\u001b[0m\u001b[0mfind_element_by_xpath\u001b[0m\u001b[1;33m(\u001b[0m\u001b[1;34m\"//div[@class='filters']\"\u001b[0m\u001b[1;33m)\u001b[0m\u001b[1;33m\u001b[0m\u001b[1;33m\u001b[0m\u001b[0m\n\u001b[0;32m      3\u001b[0m \u001b[0msearch_sal\u001b[0m\u001b[1;33m=\u001b[0m \u001b[0mdriver\u001b[0m\u001b[1;33m.\u001b[0m\u001b[0mfind_element_by_xpath\u001b[0m\u001b[1;33m(\u001b[0m\u001b[1;34m\"//div[@class='filterContainer bgWhite br4']\"\u001b[0m\u001b[1;33m)\u001b[0m\u001b[1;33m\u001b[0m\u001b[1;33m\u001b[0m\u001b[0m\n\u001b[1;32m----> 4\u001b[1;33m \u001b[0msearch_sal\u001b[0m\u001b[1;33m.\u001b[0m\u001b[0msend_keys\u001b[0m\u001b[1;33m(\u001b[0m\u001b[1;34m\"3-6 Lakhs\"\u001b[0m\u001b[1;33m)\u001b[0m\u001b[1;33m\u001b[0m\u001b[1;33m\u001b[0m\u001b[0m\n\u001b[0m",
      "\u001b[1;32m~\\anaconda3\\lib\\site-packages\\selenium\\webdriver\\remote\\webelement.py\u001b[0m in \u001b[0;36msend_keys\u001b[1;34m(self, *value)\u001b[0m\n\u001b[0;32m    475\u001b[0m                 \u001b[0mvalue\u001b[0m \u001b[1;33m=\u001b[0m \u001b[0mself\u001b[0m\u001b[1;33m.\u001b[0m\u001b[0m_upload\u001b[0m\u001b[1;33m(\u001b[0m\u001b[0mlocal_file\u001b[0m\u001b[1;33m)\u001b[0m\u001b[1;33m\u001b[0m\u001b[1;33m\u001b[0m\u001b[0m\n\u001b[0;32m    476\u001b[0m \u001b[1;33m\u001b[0m\u001b[0m\n\u001b[1;32m--> 477\u001b[1;33m         self._execute(Command.SEND_KEYS_TO_ELEMENT,\n\u001b[0m\u001b[0;32m    478\u001b[0m                       {'text': \"\".join(keys_to_typing(value)),\n\u001b[0;32m    479\u001b[0m                        'value': keys_to_typing(value)})\n",
      "\u001b[1;32m~\\anaconda3\\lib\\site-packages\\selenium\\webdriver\\remote\\webelement.py\u001b[0m in \u001b[0;36m_execute\u001b[1;34m(self, command, params)\u001b[0m\n\u001b[0;32m    631\u001b[0m             \u001b[0mparams\u001b[0m \u001b[1;33m=\u001b[0m \u001b[1;33m{\u001b[0m\u001b[1;33m}\u001b[0m\u001b[1;33m\u001b[0m\u001b[1;33m\u001b[0m\u001b[0m\n\u001b[0;32m    632\u001b[0m         \u001b[0mparams\u001b[0m\u001b[1;33m[\u001b[0m\u001b[1;34m'id'\u001b[0m\u001b[1;33m]\u001b[0m \u001b[1;33m=\u001b[0m \u001b[0mself\u001b[0m\u001b[1;33m.\u001b[0m\u001b[0m_id\u001b[0m\u001b[1;33m\u001b[0m\u001b[1;33m\u001b[0m\u001b[0m\n\u001b[1;32m--> 633\u001b[1;33m         \u001b[1;32mreturn\u001b[0m \u001b[0mself\u001b[0m\u001b[1;33m.\u001b[0m\u001b[0m_parent\u001b[0m\u001b[1;33m.\u001b[0m\u001b[0mexecute\u001b[0m\u001b[1;33m(\u001b[0m\u001b[0mcommand\u001b[0m\u001b[1;33m,\u001b[0m \u001b[0mparams\u001b[0m\u001b[1;33m)\u001b[0m\u001b[1;33m\u001b[0m\u001b[1;33m\u001b[0m\u001b[0m\n\u001b[0m\u001b[0;32m    634\u001b[0m \u001b[1;33m\u001b[0m\u001b[0m\n\u001b[0;32m    635\u001b[0m     \u001b[1;32mdef\u001b[0m \u001b[0mfind_element\u001b[0m\u001b[1;33m(\u001b[0m\u001b[0mself\u001b[0m\u001b[1;33m,\u001b[0m \u001b[0mby\u001b[0m\u001b[1;33m=\u001b[0m\u001b[0mBy\u001b[0m\u001b[1;33m.\u001b[0m\u001b[0mID\u001b[0m\u001b[1;33m,\u001b[0m \u001b[0mvalue\u001b[0m\u001b[1;33m=\u001b[0m\u001b[1;32mNone\u001b[0m\u001b[1;33m)\u001b[0m\u001b[1;33m:\u001b[0m\u001b[1;33m\u001b[0m\u001b[1;33m\u001b[0m\u001b[0m\n",
      "\u001b[1;32m~\\anaconda3\\lib\\site-packages\\selenium\\webdriver\\remote\\webdriver.py\u001b[0m in \u001b[0;36mexecute\u001b[1;34m(self, driver_command, params)\u001b[0m\n\u001b[0;32m    319\u001b[0m         \u001b[0mresponse\u001b[0m \u001b[1;33m=\u001b[0m \u001b[0mself\u001b[0m\u001b[1;33m.\u001b[0m\u001b[0mcommand_executor\u001b[0m\u001b[1;33m.\u001b[0m\u001b[0mexecute\u001b[0m\u001b[1;33m(\u001b[0m\u001b[0mdriver_command\u001b[0m\u001b[1;33m,\u001b[0m \u001b[0mparams\u001b[0m\u001b[1;33m)\u001b[0m\u001b[1;33m\u001b[0m\u001b[1;33m\u001b[0m\u001b[0m\n\u001b[0;32m    320\u001b[0m         \u001b[1;32mif\u001b[0m \u001b[0mresponse\u001b[0m\u001b[1;33m:\u001b[0m\u001b[1;33m\u001b[0m\u001b[1;33m\u001b[0m\u001b[0m\n\u001b[1;32m--> 321\u001b[1;33m             \u001b[0mself\u001b[0m\u001b[1;33m.\u001b[0m\u001b[0merror_handler\u001b[0m\u001b[1;33m.\u001b[0m\u001b[0mcheck_response\u001b[0m\u001b[1;33m(\u001b[0m\u001b[0mresponse\u001b[0m\u001b[1;33m)\u001b[0m\u001b[1;33m\u001b[0m\u001b[1;33m\u001b[0m\u001b[0m\n\u001b[0m\u001b[0;32m    322\u001b[0m             response['value'] = self._unwrap_value(\n\u001b[0;32m    323\u001b[0m                 response.get('value', None))\n",
      "\u001b[1;32m~\\anaconda3\\lib\\site-packages\\selenium\\webdriver\\remote\\errorhandler.py\u001b[0m in \u001b[0;36mcheck_response\u001b[1;34m(self, response)\u001b[0m\n\u001b[0;32m    240\u001b[0m                 \u001b[0malert_text\u001b[0m \u001b[1;33m=\u001b[0m \u001b[0mvalue\u001b[0m\u001b[1;33m[\u001b[0m\u001b[1;34m'alert'\u001b[0m\u001b[1;33m]\u001b[0m\u001b[1;33m.\u001b[0m\u001b[0mget\u001b[0m\u001b[1;33m(\u001b[0m\u001b[1;34m'text'\u001b[0m\u001b[1;33m)\u001b[0m\u001b[1;33m\u001b[0m\u001b[1;33m\u001b[0m\u001b[0m\n\u001b[0;32m    241\u001b[0m             \u001b[1;32mraise\u001b[0m \u001b[0mexception_class\u001b[0m\u001b[1;33m(\u001b[0m\u001b[0mmessage\u001b[0m\u001b[1;33m,\u001b[0m \u001b[0mscreen\u001b[0m\u001b[1;33m,\u001b[0m \u001b[0mstacktrace\u001b[0m\u001b[1;33m,\u001b[0m \u001b[0malert_text\u001b[0m\u001b[1;33m)\u001b[0m\u001b[1;33m\u001b[0m\u001b[1;33m\u001b[0m\u001b[0m\n\u001b[1;32m--> 242\u001b[1;33m         \u001b[1;32mraise\u001b[0m \u001b[0mexception_class\u001b[0m\u001b[1;33m(\u001b[0m\u001b[0mmessage\u001b[0m\u001b[1;33m,\u001b[0m \u001b[0mscreen\u001b[0m\u001b[1;33m,\u001b[0m \u001b[0mstacktrace\u001b[0m\u001b[1;33m)\u001b[0m\u001b[1;33m\u001b[0m\u001b[1;33m\u001b[0m\u001b[0m\n\u001b[0m\u001b[0;32m    243\u001b[0m \u001b[1;33m\u001b[0m\u001b[0m\n\u001b[0;32m    244\u001b[0m     \u001b[1;32mdef\u001b[0m \u001b[0m_value_or_default\u001b[0m\u001b[1;33m(\u001b[0m\u001b[0mself\u001b[0m\u001b[1;33m,\u001b[0m \u001b[0mobj\u001b[0m\u001b[1;33m,\u001b[0m \u001b[0mkey\u001b[0m\u001b[1;33m,\u001b[0m \u001b[0mdefault\u001b[0m\u001b[1;33m)\u001b[0m\u001b[1;33m:\u001b[0m\u001b[1;33m\u001b[0m\u001b[1;33m\u001b[0m\u001b[0m\n",
      "\u001b[1;31mElementNotInteractableException\u001b[0m: Message: element not interactable\n  (Session info: chrome=89.0.4389.114)\n"
     ]
    }
   ],
   "source": [
    "search_sal= driver.find_element_by_xpath(\"//span[@class='fw500 pl-8']\")\n",
    "search_sal= driver.find_element_by_xpath(\"//div[@class='filters']\")\n",
    "search_sal= driver.find_element_by_xpath(\"//div[@class='filterContainer bgWhite br4']\")\n",
    "search_sal.send_keys(\"3-6 Lakhs\")"
   ]
  },
  {
   "cell_type": "markdown",
   "metadata": {},
   "source": [
    "# Q4:Write a python program to scrape data for first 10 job results for Data scientist Designation in Noida location. You have to scrape company_name, No. of days ago when job was posted, Rating of the company.\n",
    "This task will be done in following steps:\n",
    "1. first get the webpage https://www.glassdoor.co.in/index.htm\n",
    "2. Enter “Data Scientist” in “Job Title,Keyword,Company” field and enter “Noida” in “location” field.\n",
    "3. Then click the search button.\n",
    "4. Then scrape the data for the first 10 jobs results you get in the above shown page.\n",
    "5. Finally create a dataframe of the scraped data."
   ]
  },
  {
   "cell_type": "code",
   "execution_count": 45,
   "metadata": {},
   "outputs": [],
   "source": [
    "#lets now import all the required libraries\n",
    "import selenium\n",
    "import pandas as pd\n",
    "from selenium import webdriver"
   ]
  },
  {
   "cell_type": "code",
   "execution_count": 46,
   "metadata": {},
   "outputs": [],
   "source": [
    "#lets first connect to the web driver\n",
    "driver= webdriver.Chrome(r\"c:\\chromedriver.exe\")"
   ]
  },
  {
   "cell_type": "code",
   "execution_count": 47,
   "metadata": {},
   "outputs": [],
   "source": [
    "driver.get('https://www.glassdoor.co.in/index.htm')"
   ]
  },
  {
   "cell_type": "code",
   "execution_count": 48,
   "metadata": {},
   "outputs": [],
   "source": [
    "#specifying the url of the webpage to be scraped\n",
    "url=\"https://www.glassdoor.co.in/Job/noida-data-scientist-jobs-SRCH_IL.0,5_IC4477468_KO6,20.htm\""
   ]
  },
  {
   "cell_type": "code",
   "execution_count": 49,
   "metadata": {},
   "outputs": [],
   "source": [
    "#lets open the webpage through our web driver\n",
    "driver.get(url)"
   ]
  },
  {
   "cell_type": "markdown",
   "metadata": {},
   "source": [
    "Now we will see in the window opened by webdriver whether the webpage has opened or not, Lets check it.\n",
    "\n",
    "So, Now lets first create 4 empty lists, in this lists the data will be stored while scraping.We have created 3 empty lists for 3 features we have to extract.\n",
    "\n",
    "1.company_names 2.job_posted 3.company_rating"
   ]
  },
  {
   "cell_type": "code",
   "execution_count": 52,
   "metadata": {},
   "outputs": [],
   "source": [
    "company_names=[]\n",
    "job_posted=[]\n",
    "company_rating=[]"
   ]
  },
  {
   "cell_type": "markdown",
   "metadata": {},
   "source": [
    "Now we will extract all the html tags where we have the company names.Let me first show you in which tags the company names are put on the webpage."
   ]
  },
  {
   "cell_type": "code",
   "execution_count": 53,
   "metadata": {},
   "outputs": [
    {
     "data": {
      "text/plain": [
       "[<selenium.webdriver.remote.webelement.WebElement (session=\"4a866dcb979ac1de01e3759c7ee56eae\", element=\"00c5451e-a770-4bda-8440-20329ee6e916\")>,\n",
       " <selenium.webdriver.remote.webelement.WebElement (session=\"4a866dcb979ac1de01e3759c7ee56eae\", element=\"43896c59-5df8-4e1b-9df8-5c9a1fa7c78a\")>,\n",
       " <selenium.webdriver.remote.webelement.WebElement (session=\"4a866dcb979ac1de01e3759c7ee56eae\", element=\"8d9ab65e-3fe8-4784-8b4c-e3572e323ac0\")>,\n",
       " <selenium.webdriver.remote.webelement.WebElement (session=\"4a866dcb979ac1de01e3759c7ee56eae\", element=\"0a433b67-12a6-48d9-ab6e-dfe7cf5d2e95\")>,\n",
       " <selenium.webdriver.remote.webelement.WebElement (session=\"4a866dcb979ac1de01e3759c7ee56eae\", element=\"d7d97e5d-9723-4187-a4c8-22c2e1f32bba\")>,\n",
       " <selenium.webdriver.remote.webelement.WebElement (session=\"4a866dcb979ac1de01e3759c7ee56eae\", element=\"97b44ad8-c9eb-4a03-8349-12a1950218dc\")>,\n",
       " <selenium.webdriver.remote.webelement.WebElement (session=\"4a866dcb979ac1de01e3759c7ee56eae\", element=\"5e9f0b82-238e-4b8e-8f07-c2aae04b6ec6\")>,\n",
       " <selenium.webdriver.remote.webelement.WebElement (session=\"4a866dcb979ac1de01e3759c7ee56eae\", element=\"76699c58-f9b8-4cb3-b104-fef408e9242c\")>,\n",
       " <selenium.webdriver.remote.webelement.WebElement (session=\"4a866dcb979ac1de01e3759c7ee56eae\", element=\"26a91dac-c4b6-4433-b4e6-9c78245efc00\")>,\n",
       " <selenium.webdriver.remote.webelement.WebElement (session=\"4a866dcb979ac1de01e3759c7ee56eae\", element=\"a9660a5a-c6e6-4ebc-a3b6-cebb9c7a1467\")>]"
      ]
     },
     "execution_count": 53,
     "metadata": {},
     "output_type": "execute_result"
    }
   ],
   "source": [
    "#so lets extract all the tags having company names\n",
    "companies_tags=driver.find_elements_by_xpath(\"//div[@class='d-flex justify-content-between align-items-start']\")\n",
    "companies_tags[0:10]"
   ]
  },
  {
   "cell_type": "markdown",
   "metadata": {},
   "source": [
    "Now we have all the tags in which there are the company names\n",
    "\n",
    "Now we will extract the text from these tags one by one by looping over these tags"
   ]
  },
  {
   "cell_type": "code",
   "execution_count": 54,
   "metadata": {},
   "outputs": [
    {
     "data": {
      "text/plain": [
       "['Biz2Credit Inc',\n",
       " 'Salasar New Age Technologies',\n",
       " 'Techlive',\n",
       " 'Salasar New Age Technologies',\n",
       " 'Adobe',\n",
       " '',\n",
       " 'SearchUrCollege',\n",
       " 'Asquero',\n",
       " 'WishFin',\n",
       " 'Microsoft']"
      ]
     },
     "execution_count": 54,
     "metadata": {},
     "output_type": "execute_result"
    }
   ],
   "source": [
    "#Now the text of the company names is inside the tags extracted above.\n",
    "\n",
    "#so we will run a loop to iterate over the tags extracted above and extract the text inside them\n",
    "\n",
    "\n",
    "for i in companies_tags:\n",
    "    company=i.text\n",
    "    company_names.append(company)\n",
    "company_names[0:10]"
   ]
  },
  {
   "cell_type": "markdown",
   "metadata": {},
   "source": [
    "Now we will extract all the html tags where we have the No. of days ago when job was posted .Let me first show you in which tags the jobs are put on the webpage."
   ]
  },
  {
   "cell_type": "code",
   "execution_count": 55,
   "metadata": {},
   "outputs": [
    {
     "data": {
      "text/plain": [
       "[<selenium.webdriver.remote.webelement.WebElement (session=\"4a866dcb979ac1de01e3759c7ee56eae\", element=\"52194516-cbf9-4e5d-8333-9eb763c082a4\")>,\n",
       " <selenium.webdriver.remote.webelement.WebElement (session=\"4a866dcb979ac1de01e3759c7ee56eae\", element=\"818c5bb3-7d7b-4526-9f24-8be1f56a17dd\")>,\n",
       " <selenium.webdriver.remote.webelement.WebElement (session=\"4a866dcb979ac1de01e3759c7ee56eae\", element=\"27e5d154-5eaf-43a5-8655-b741a176380f\")>,\n",
       " <selenium.webdriver.remote.webelement.WebElement (session=\"4a866dcb979ac1de01e3759c7ee56eae\", element=\"4971363a-9fce-4a2e-adb1-73c459aedcff\")>,\n",
       " <selenium.webdriver.remote.webelement.WebElement (session=\"4a866dcb979ac1de01e3759c7ee56eae\", element=\"20c0ebf0-22bd-4794-90eb-fa3270c3df48\")>,\n",
       " <selenium.webdriver.remote.webelement.WebElement (session=\"4a866dcb979ac1de01e3759c7ee56eae\", element=\"799b0fec-8c9d-4e32-ae1e-43d58d863ed3\")>,\n",
       " <selenium.webdriver.remote.webelement.WebElement (session=\"4a866dcb979ac1de01e3759c7ee56eae\", element=\"5fbd1d56-a85c-43d0-b8f2-af6089243c0b\")>,\n",
       " <selenium.webdriver.remote.webelement.WebElement (session=\"4a866dcb979ac1de01e3759c7ee56eae\", element=\"404c612a-4e44-473c-a475-1e66f3ef58c1\")>,\n",
       " <selenium.webdriver.remote.webelement.WebElement (session=\"4a866dcb979ac1de01e3759c7ee56eae\", element=\"369e097d-4808-471b-86bf-9d6db32c775e\")>,\n",
       " <selenium.webdriver.remote.webelement.WebElement (session=\"4a866dcb979ac1de01e3759c7ee56eae\", element=\"7d7ff253-a55c-4017-9776-ceefdd2ee637\")>]"
      ]
     },
     "execution_count": 55,
     "metadata": {},
     "output_type": "execute_result"
    }
   ],
   "source": [
    "#so lets extract all the tags having data of days ago job was posted\n",
    "days_tags=driver.find_elements_by_xpath(\"//div[@class='d-flex align-items-end pl-std css-mi55ob']\")\n",
    "days_tags[0:10]"
   ]
  },
  {
   "cell_type": "code",
   "execution_count": 56,
   "metadata": {},
   "outputs": [
    {
     "data": {
      "text/plain": [
       "['30d+', '30d+', '30d+', '30d+', '12d', '30d+', '30d+', '14d', '30d+', '30d+']"
      ]
     },
     "execution_count": 56,
     "metadata": {},
     "output_type": "execute_result"
    }
   ],
   "source": [
    "for i in days_tags:\n",
    "    Days=i.text\n",
    "    job_posted.append(Days)\n",
    "job_posted[0:10]"
   ]
  },
  {
   "cell_type": "markdown",
   "metadata": {},
   "source": [
    "Rating of the company"
   ]
  },
  {
   "cell_type": "code",
   "execution_count": 57,
   "metadata": {},
   "outputs": [
    {
     "data": {
      "text/plain": [
       "[<selenium.webdriver.remote.webelement.WebElement (session=\"4a866dcb979ac1de01e3759c7ee56eae\", element=\"58ff00f3-834e-475a-a6a5-352372b977a5\")>,\n",
       " <selenium.webdriver.remote.webelement.WebElement (session=\"4a866dcb979ac1de01e3759c7ee56eae\", element=\"1dda22ed-78cb-4430-a017-497851589588\")>,\n",
       " <selenium.webdriver.remote.webelement.WebElement (session=\"4a866dcb979ac1de01e3759c7ee56eae\", element=\"0e9503d3-ab77-4c13-8dd2-c57f7119ed4c\")>,\n",
       " <selenium.webdriver.remote.webelement.WebElement (session=\"4a866dcb979ac1de01e3759c7ee56eae\", element=\"f92ad009-bab5-410c-b735-932db8ec6d35\")>,\n",
       " <selenium.webdriver.remote.webelement.WebElement (session=\"4a866dcb979ac1de01e3759c7ee56eae\", element=\"45b8845a-5614-4e02-9e6c-0b9b3390e49e\")>,\n",
       " <selenium.webdriver.remote.webelement.WebElement (session=\"4a866dcb979ac1de01e3759c7ee56eae\", element=\"c1e96975-fdaa-4e0f-a953-53c9d0f91b8c\")>,\n",
       " <selenium.webdriver.remote.webelement.WebElement (session=\"4a866dcb979ac1de01e3759c7ee56eae\", element=\"b2a07229-94ed-49c3-9ff4-eab3b92132b7\")>,\n",
       " <selenium.webdriver.remote.webelement.WebElement (session=\"4a866dcb979ac1de01e3759c7ee56eae\", element=\"be055c3d-2a91-4227-8fdd-5cbce48ce2a2\")>,\n",
       " <selenium.webdriver.remote.webelement.WebElement (session=\"4a866dcb979ac1de01e3759c7ee56eae\", element=\"e1d6ea6e-7a2c-4bc2-a59a-f110e339ee03\")>,\n",
       " <selenium.webdriver.remote.webelement.WebElement (session=\"4a866dcb979ac1de01e3759c7ee56eae\", element=\"8a2f1db3-251d-4109-8256-d23f69981d40\")>]"
      ]
     },
     "execution_count": 57,
     "metadata": {},
     "output_type": "execute_result"
    }
   ],
   "source": [
    "#so lets extract all the tags having Rating of the company\n",
    "rating_tags=driver.find_elements_by_xpath(\"//span[@class='css-19pjha7 e1cjmv6j1']\")\n",
    "rating_tags[0:10]"
   ]
  },
  {
   "cell_type": "code",
   "execution_count": 58,
   "metadata": {},
   "outputs": [
    {
     "data": {
      "text/plain": [
       "['3.8', '5.0', '4.4', '4.0', '5.0', '3.8', '4.4', '3.0', '3.0', '5.0']"
      ]
     },
     "execution_count": 58,
     "metadata": {},
     "output_type": "execute_result"
    }
   ],
   "source": [
    "for i in rating_tags:\n",
    "    Rating=i.text\n",
    "    company_rating.append(Rating)\n",
    "company_rating[0:10]"
   ]
  },
  {
   "cell_type": "markdown",
   "metadata": {},
   "source": [
    "So,Now we have extracted the data required from the webpage and stored them in the 3 lists mentioned above. Now before creating a dataframe from these lists,Lets first check the length of each of the list. Because if the length of all of the lists are not equal, then a dataframe cannot be formed."
   ]
  },
  {
   "cell_type": "code",
   "execution_count": 59,
   "metadata": {},
   "outputs": [
    {
     "name": "stdout",
     "output_type": "stream",
     "text": [
      "30 30 20\n"
     ]
    }
   ],
   "source": [
    "print(len(company_names),len(job_posted),len(company_rating))"
   ]
  },
  {
   "cell_type": "markdown",
   "metadata": {},
   "source": [
    "# Q5:"
   ]
  },
  {
   "cell_type": "code",
   "execution_count": 60,
   "metadata": {},
   "outputs": [],
   "source": [
    "#lets now import all the required libraries\n",
    "import selenium\n",
    "import pandas as pd\n",
    "from selenium import webdriver"
   ]
  },
  {
   "cell_type": "code",
   "execution_count": 61,
   "metadata": {},
   "outputs": [],
   "source": [
    "#lets first connect to the web driver\n",
    "driver= webdriver.Chrome(r\"c:\\chromedriver.exe\")"
   ]
  },
  {
   "cell_type": "code",
   "execution_count": 62,
   "metadata": {},
   "outputs": [],
   "source": [
    "driver.get('https://www.glassdoor.co.in/Salaries/index.htm')"
   ]
  },
  {
   "cell_type": "code",
   "execution_count": 63,
   "metadata": {},
   "outputs": [],
   "source": [
    "#specifying the url of the webpage to be scraped\n",
    "url=\"https://www.glassdoor.co.in/Salaries/new-delhi-data-scientist-salary-SRCH_IL.0,9_IM1083_KO10,24.htm?clickSource=searchBtn\""
   ]
  },
  {
   "cell_type": "code",
   "execution_count": 64,
   "metadata": {},
   "outputs": [],
   "source": [
    "#lets open the webpage through our web driver\n",
    "driver.get(url)"
   ]
  },
  {
   "cell_type": "code",
   "execution_count": 65,
   "metadata": {},
   "outputs": [],
   "source": [
    "Company_name=[]\n",
    "Number_of_salaries=[]\n",
    "Average_salary=[]\n",
    "Min_salary=[]\n",
    "Max_Salary=[]"
   ]
  },
  {
   "cell_type": "code",
   "execution_count": 66,
   "metadata": {},
   "outputs": [
    {
     "data": {
      "text/plain": [
       "[<selenium.webdriver.remote.webelement.WebElement (session=\"c2ae8b7f7c1c08c46c7eb49fdbd80746\", element=\"53e2934b-368b-4e9c-b3a6-4afa4f0f7aab\")>,\n",
       " <selenium.webdriver.remote.webelement.WebElement (session=\"c2ae8b7f7c1c08c46c7eb49fdbd80746\", element=\"9229d277-42ef-4603-9671-8e54106a63d1\")>,\n",
       " <selenium.webdriver.remote.webelement.WebElement (session=\"c2ae8b7f7c1c08c46c7eb49fdbd80746\", element=\"a8e2a1b8-78df-4938-8c4c-c27452458ad8\")>,\n",
       " <selenium.webdriver.remote.webelement.WebElement (session=\"c2ae8b7f7c1c08c46c7eb49fdbd80746\", element=\"e018375b-3900-4ec6-97b1-f0e4e3a06aec\")>,\n",
       " <selenium.webdriver.remote.webelement.WebElement (session=\"c2ae8b7f7c1c08c46c7eb49fdbd80746\", element=\"5d91cc85-c951-4b52-a8df-1ee03200a09d\")>,\n",
       " <selenium.webdriver.remote.webelement.WebElement (session=\"c2ae8b7f7c1c08c46c7eb49fdbd80746\", element=\"935edafa-326e-4c7f-bbf0-01595e7a60ce\")>,\n",
       " <selenium.webdriver.remote.webelement.WebElement (session=\"c2ae8b7f7c1c08c46c7eb49fdbd80746\", element=\"6dbcdbe9-8628-4cb3-bbab-44528b02791f\")>,\n",
       " <selenium.webdriver.remote.webelement.WebElement (session=\"c2ae8b7f7c1c08c46c7eb49fdbd80746\", element=\"9cd5ef7a-4cfc-4348-b7bd-0bcff227d4c4\")>,\n",
       " <selenium.webdriver.remote.webelement.WebElement (session=\"c2ae8b7f7c1c08c46c7eb49fdbd80746\", element=\"fd407485-81d6-45ae-beef-bf51ed3800fa\")>,\n",
       " <selenium.webdriver.remote.webelement.WebElement (session=\"c2ae8b7f7c1c08c46c7eb49fdbd80746\", element=\"fc4eb512-1516-4397-83b7-381ef2923f50\")>]"
      ]
     },
     "execution_count": 66,
     "metadata": {},
     "output_type": "execute_result"
    }
   ],
   "source": [
    "#so lets extract all the tags having the company tags\n",
    "company_tags=driver.find_elements_by_xpath(\"//p[@class='m-0 ']\")\n",
    "company_tags[0:10]"
   ]
  },
  {
   "cell_type": "code",
   "execution_count": 67,
   "metadata": {},
   "outputs": [
    {
     "data": {
      "text/plain": [
       "['Tata Consultancy Services',\n",
       " 'Accenture',\n",
       " 'Delhivery',\n",
       " 'IBM',\n",
       " 'Ericsson-Worldwide',\n",
       " 'UnitedHealth Group',\n",
       " 'Valiance Solutions',\n",
       " 'Innovaccer',\n",
       " 'ZS Associates',\n",
       " 'EXL Service']"
      ]
     },
     "execution_count": 67,
     "metadata": {},
     "output_type": "execute_result"
    }
   ],
   "source": [
    "for i in company_tags:\n",
    "    company=i.text\n",
    "    Company_name.append(company)\n",
    "Company_name[0:10]"
   ]
  },
  {
   "cell_type": "markdown",
   "metadata": {},
   "source": [
    "Number_of_salaries"
   ]
  },
  {
   "cell_type": "code",
   "execution_count": 68,
   "metadata": {},
   "outputs": [
    {
     "data": {
      "text/plain": [
       "[<selenium.webdriver.remote.webelement.WebElement (session=\"c2ae8b7f7c1c08c46c7eb49fdbd80746\", element=\"27b8cdd4-3d49-41f6-b1ff-e6ac2acf987a\")>,\n",
       " <selenium.webdriver.remote.webelement.WebElement (session=\"c2ae8b7f7c1c08c46c7eb49fdbd80746\", element=\"871590fc-a012-419d-a13b-eb4bfe960898\")>,\n",
       " <selenium.webdriver.remote.webelement.WebElement (session=\"c2ae8b7f7c1c08c46c7eb49fdbd80746\", element=\"ce15c47b-5288-426b-8645-1d38c99f37eb\")>,\n",
       " <selenium.webdriver.remote.webelement.WebElement (session=\"c2ae8b7f7c1c08c46c7eb49fdbd80746\", element=\"862f5d9b-16c8-481f-a43c-a3644b8e40c8\")>,\n",
       " <selenium.webdriver.remote.webelement.WebElement (session=\"c2ae8b7f7c1c08c46c7eb49fdbd80746\", element=\"a5ad9075-7e7b-41b5-9ad5-6c0e939d2a0a\")>,\n",
       " <selenium.webdriver.remote.webelement.WebElement (session=\"c2ae8b7f7c1c08c46c7eb49fdbd80746\", element=\"dfbd9f8e-6169-4570-81f9-a8797ad1261a\")>,\n",
       " <selenium.webdriver.remote.webelement.WebElement (session=\"c2ae8b7f7c1c08c46c7eb49fdbd80746\", element=\"eebd208e-9280-4d98-8b07-88b303f780f4\")>,\n",
       " <selenium.webdriver.remote.webelement.WebElement (session=\"c2ae8b7f7c1c08c46c7eb49fdbd80746\", element=\"ee2c802e-4de7-4409-97a8-719b95980880\")>,\n",
       " <selenium.webdriver.remote.webelement.WebElement (session=\"c2ae8b7f7c1c08c46c7eb49fdbd80746\", element=\"53f3fb44-4ceb-4095-b4c4-96f0c35e53d9\")>,\n",
       " <selenium.webdriver.remote.webelement.WebElement (session=\"c2ae8b7f7c1c08c46c7eb49fdbd80746\", element=\"aab703b0-b44e-4fd6-8267-12e8f70a6752\")>]"
      ]
     },
     "execution_count": 68,
     "metadata": {},
     "output_type": "execute_result"
    }
   ],
   "source": [
    "#so lets extract all the tags having the number of salaries\n",
    "nmbr_tags=driver.find_elements_by_xpath(\"//p[@class='css-1uyte9r css-1kuy7z7 m-0 ']\")\n",
    "nmbr_tags[0:10]"
   ]
  },
  {
   "cell_type": "code",
   "execution_count": 69,
   "metadata": {},
   "outputs": [
    {
     "data": {
      "text/plain": [
       "['14 salaries',\n",
       " '14 salaries',\n",
       " '14 salaries',\n",
       " '13 salaries',\n",
       " '12 salaries',\n",
       " '10 salaries',\n",
       " '9 salaries',\n",
       " '8 salaries',\n",
       " '7 salaries',\n",
       " '7 salaries']"
      ]
     },
     "execution_count": 69,
     "metadata": {},
     "output_type": "execute_result"
    }
   ],
   "source": [
    "for i in nmbr_tags:\n",
    "    sal=i.text\n",
    "    Number_of_salaries.append(sal)\n",
    "Number_of_salaries[0:10]"
   ]
  },
  {
   "cell_type": "markdown",
   "metadata": {},
   "source": [
    "Average_salary"
   ]
  },
  {
   "cell_type": "code",
   "execution_count": 70,
   "metadata": {},
   "outputs": [
    {
     "data": {
      "text/plain": [
       "[<selenium.webdriver.remote.webelement.WebElement (session=\"c2ae8b7f7c1c08c46c7eb49fdbd80746\", element=\"d2ff82b9-e4a7-4d00-9756-8ebe7e8c5963\")>,\n",
       " <selenium.webdriver.remote.webelement.WebElement (session=\"c2ae8b7f7c1c08c46c7eb49fdbd80746\", element=\"ff4c957c-94aa-43fa-8f1c-52a0582dbe24\")>,\n",
       " <selenium.webdriver.remote.webelement.WebElement (session=\"c2ae8b7f7c1c08c46c7eb49fdbd80746\", element=\"e7ec69f4-032a-4293-a527-e52f97f0ba44\")>,\n",
       " <selenium.webdriver.remote.webelement.WebElement (session=\"c2ae8b7f7c1c08c46c7eb49fdbd80746\", element=\"c7fa5fca-2328-4d36-a797-3930a53c6079\")>,\n",
       " <selenium.webdriver.remote.webelement.WebElement (session=\"c2ae8b7f7c1c08c46c7eb49fdbd80746\", element=\"3e5b472d-b42f-429c-b265-7b66afcafea1\")>,\n",
       " <selenium.webdriver.remote.webelement.WebElement (session=\"c2ae8b7f7c1c08c46c7eb49fdbd80746\", element=\"71a8133a-4633-409d-b7e0-0e4083ff35b1\")>,\n",
       " <selenium.webdriver.remote.webelement.WebElement (session=\"c2ae8b7f7c1c08c46c7eb49fdbd80746\", element=\"63550781-6bce-45c0-88c8-2053b1acefc8\")>,\n",
       " <selenium.webdriver.remote.webelement.WebElement (session=\"c2ae8b7f7c1c08c46c7eb49fdbd80746\", element=\"91804fee-37b2-4f51-be51-47acb2a8a458\")>,\n",
       " <selenium.webdriver.remote.webelement.WebElement (session=\"c2ae8b7f7c1c08c46c7eb49fdbd80746\", element=\"e4036fc7-4b5e-40c8-b1b9-9f5453ece74a\")>,\n",
       " <selenium.webdriver.remote.webelement.WebElement (session=\"c2ae8b7f7c1c08c46c7eb49fdbd80746\", element=\"1f9e90d7-7ab4-452f-b5ac-d686b6e885a1\")>]"
      ]
     },
     "execution_count": 70,
     "metadata": {},
     "output_type": "execute_result"
    }
   ],
   "source": [
    "#so lets extract all the tags having the Average salary\n",
    "avrg_tags=driver.find_elements_by_xpath(\"//div[@class='col-2 d-none d-md-flex flex-row justify-content-end']\")\n",
    "avrg_tags[0:10]"
   ]
  },
  {
   "cell_type": "code",
   "execution_count": 71,
   "metadata": {},
   "outputs": [
    {
     "data": {
      "text/plain": [
       "['₹ 5,97,967\\n/yr',\n",
       " '₹ 11,12,243\\n/yr',\n",
       " '₹ 12,12,741\\n/yr',\n",
       " '₹ 7,37,972\\n/yr',\n",
       " '₹ 7,15,984\\n/yr',\n",
       " '₹ 13,41,900\\n/yr',\n",
       " '₹ 7,90,812\\n/yr',\n",
       " '₹ 11,81,047\\n/yr',\n",
       " '₹ 9,89,924\\n/yr',\n",
       " '₹ 11,73,127\\n/yr']"
      ]
     },
     "execution_count": 71,
     "metadata": {},
     "output_type": "execute_result"
    }
   ],
   "source": [
    "for i in avrg_tags:\n",
    "    avrg=i.text\n",
    "    Average_salary.append(avrg)\n",
    "Average_salary[0:10]"
   ]
  },
  {
   "cell_type": "markdown",
   "metadata": {},
   "source": [
    "Min_salary"
   ]
  },
  {
   "cell_type": "code",
   "execution_count": 72,
   "metadata": {},
   "outputs": [
    {
     "data": {
      "text/plain": [
       "[<selenium.webdriver.remote.webelement.WebElement (session=\"c2ae8b7f7c1c08c46c7eb49fdbd80746\", element=\"0089c01c-f553-4f7d-8436-0d07cdf98792\")>,\n",
       " <selenium.webdriver.remote.webelement.WebElement (session=\"c2ae8b7f7c1c08c46c7eb49fdbd80746\", element=\"080a3846-eab0-4a7f-8e66-2caec26c79cf\")>,\n",
       " <selenium.webdriver.remote.webelement.WebElement (session=\"c2ae8b7f7c1c08c46c7eb49fdbd80746\", element=\"1c655e90-19ae-4115-9caa-205f70b88a77\")>,\n",
       " <selenium.webdriver.remote.webelement.WebElement (session=\"c2ae8b7f7c1c08c46c7eb49fdbd80746\", element=\"0fe8c691-69c7-4341-accb-2a2e3ab58a1b\")>,\n",
       " <selenium.webdriver.remote.webelement.WebElement (session=\"c2ae8b7f7c1c08c46c7eb49fdbd80746\", element=\"4583396f-e522-4b10-8093-be8c0fc22749\")>,\n",
       " <selenium.webdriver.remote.webelement.WebElement (session=\"c2ae8b7f7c1c08c46c7eb49fdbd80746\", element=\"62838231-64ca-4402-9123-da99137aeca5\")>,\n",
       " <selenium.webdriver.remote.webelement.WebElement (session=\"c2ae8b7f7c1c08c46c7eb49fdbd80746\", element=\"41739ac3-80d7-4932-b8eb-dd951893cf93\")>,\n",
       " <selenium.webdriver.remote.webelement.WebElement (session=\"c2ae8b7f7c1c08c46c7eb49fdbd80746\", element=\"be7aa454-7df3-4aac-a92a-5e7b24d3e026\")>,\n",
       " <selenium.webdriver.remote.webelement.WebElement (session=\"c2ae8b7f7c1c08c46c7eb49fdbd80746\", element=\"1c961e67-9b6b-4e56-b11d-3370f4b7ba27\")>,\n",
       " <selenium.webdriver.remote.webelement.WebElement (session=\"c2ae8b7f7c1c08c46c7eb49fdbd80746\", element=\"3f4a9897-be3f-415f-acd1-ed560294b2f0\")>]"
      ]
     },
     "execution_count": 72,
     "metadata": {},
     "output_type": "execute_result"
    }
   ],
   "source": [
    "#so lets extract all the tags having the minimum salary\n",
    "min_tags=driver.find_elements_by_xpath(\"//div[@class='common__RangeBarStyle__values d-flex justify-content-between ']\")\n",
    "min_tags[0:10]"
   ]
  },
  {
   "cell_type": "code",
   "execution_count": 73,
   "metadata": {},
   "outputs": [
    {
     "data": {
      "text/plain": [
       "['₹333K\\n₹1,080K',\n",
       " '₹560K\\n₹2,147K',\n",
       " '₹436K\\n₹11,274K',\n",
       " '₹569K\\n₹2,648K',\n",
       " '₹350K\\n₹1,565K',\n",
       " '₹1,037K\\n₹1,500K',\n",
       " '₹487K\\n₹1,421K',\n",
       " '₹602K\\n₹1,644K',\n",
       " '₹196K\\n₹1,755K',\n",
       " '₹558K\\n₹1,500K']"
      ]
     },
     "execution_count": 73,
     "metadata": {},
     "output_type": "execute_result"
    }
   ],
   "source": [
    "for i in min_tags:\n",
    "    minimum=i.text\n",
    "    Min_salary.append(minimum)\n",
    "Min_salary[0:10]"
   ]
  },
  {
   "cell_type": "markdown",
   "metadata": {},
   "source": [
    "Maximum Salary"
   ]
  },
  {
   "cell_type": "code",
   "execution_count": 74,
   "metadata": {},
   "outputs": [
    {
     "data": {
      "text/plain": [
       "[]"
      ]
     },
     "execution_count": 74,
     "metadata": {},
     "output_type": "execute_result"
    }
   ],
   "source": [
    "#so lets extract all the tags having the maximum salary\n",
    "max_tags=driver.find_elements_by_xpath(\"//div[@class='common__RangeBarStyle__values d-flex justify-content-between']\")\n",
    "max_tags[0:10]"
   ]
  },
  {
   "cell_type": "markdown",
   "metadata": {},
   "source": [
    "# Q6:"
   ]
  },
  {
   "cell_type": "code",
   "execution_count": 75,
   "metadata": {},
   "outputs": [],
   "source": [
    "#lets now import all the required libraries\n",
    "import selenium\n",
    "import pandas as pd\n",
    "from selenium import webdriver"
   ]
  },
  {
   "cell_type": "code",
   "execution_count": 76,
   "metadata": {},
   "outputs": [],
   "source": [
    "#lets first connect to the web driver\n",
    "driver= webdriver.Chrome(r\"c:\\chromedriver.exe\")"
   ]
  },
  {
   "cell_type": "code",
   "execution_count": 77,
   "metadata": {},
   "outputs": [],
   "source": [
    "driver.get('https://www.flipkart.com/')"
   ]
  },
  {
   "cell_type": "code",
   "execution_count": 78,
   "metadata": {},
   "outputs": [],
   "source": [
    "#specifying the url of the webpage to be scraped\n",
    "url=\"https://www.flipkart.com/search?q=sunglasses&otracker=search&otracker1=search&marketplace=FLIPKART&as-show=on&as=off\""
   ]
  },
  {
   "cell_type": "code",
   "execution_count": 79,
   "metadata": {},
   "outputs": [],
   "source": [
    "#lets open the webpage through our web driver\n",
    "driver.get(url)"
   ]
  },
  {
   "cell_type": "code",
   "execution_count": 80,
   "metadata": {},
   "outputs": [],
   "source": [
    "Brand=[]\n",
    "Product_Description=[]\n",
    "Price=[]\n",
    "Discount=[]"
   ]
  },
  {
   "cell_type": "code",
   "execution_count": 81,
   "metadata": {},
   "outputs": [
    {
     "data": {
      "text/plain": [
       "[<selenium.webdriver.remote.webelement.WebElement (session=\"03d18b840cb8e1c31ff64d6976d0da9b\", element=\"936172f9-d2e6-4efe-ac72-8e248fa7a50d\")>,\n",
       " <selenium.webdriver.remote.webelement.WebElement (session=\"03d18b840cb8e1c31ff64d6976d0da9b\", element=\"4812fd4d-3540-4550-ad19-6461244d4e54\")>,\n",
       " <selenium.webdriver.remote.webelement.WebElement (session=\"03d18b840cb8e1c31ff64d6976d0da9b\", element=\"8492b8cd-1131-4cd9-b3d4-d9412dc3bd06\")>,\n",
       " <selenium.webdriver.remote.webelement.WebElement (session=\"03d18b840cb8e1c31ff64d6976d0da9b\", element=\"96135d91-21f9-4261-8b8b-4e3971bb2a67\")>,\n",
       " <selenium.webdriver.remote.webelement.WebElement (session=\"03d18b840cb8e1c31ff64d6976d0da9b\", element=\"1cb8d361-b242-43e0-a459-3b9b8fe696a4\")>,\n",
       " <selenium.webdriver.remote.webelement.WebElement (session=\"03d18b840cb8e1c31ff64d6976d0da9b\", element=\"92f3024f-70d5-4ead-b890-2fd179e48006\")>,\n",
       " <selenium.webdriver.remote.webelement.WebElement (session=\"03d18b840cb8e1c31ff64d6976d0da9b\", element=\"b4519d70-d694-4a67-a7d0-ce7f82a1e61d\")>,\n",
       " <selenium.webdriver.remote.webelement.WebElement (session=\"03d18b840cb8e1c31ff64d6976d0da9b\", element=\"f8735ac4-f9f2-4eed-af22-c01f19006d94\")>,\n",
       " <selenium.webdriver.remote.webelement.WebElement (session=\"03d18b840cb8e1c31ff64d6976d0da9b\", element=\"29b21116-0be5-4881-a3b5-ead1c44573d0\")>,\n",
       " <selenium.webdriver.remote.webelement.WebElement (session=\"03d18b840cb8e1c31ff64d6976d0da9b\", element=\"f1aa3b41-dc4e-4130-b87f-178f0889c79d\")>,\n",
       " <selenium.webdriver.remote.webelement.WebElement (session=\"03d18b840cb8e1c31ff64d6976d0da9b\", element=\"20421666-d8df-4427-9ebe-6d7a081bbd4b\")>,\n",
       " <selenium.webdriver.remote.webelement.WebElement (session=\"03d18b840cb8e1c31ff64d6976d0da9b\", element=\"8574b02a-7081-473d-9765-e3c8d235aac1\")>,\n",
       " <selenium.webdriver.remote.webelement.WebElement (session=\"03d18b840cb8e1c31ff64d6976d0da9b\", element=\"f0a43371-e4cf-4b40-a0ee-04529f907b5b\")>,\n",
       " <selenium.webdriver.remote.webelement.WebElement (session=\"03d18b840cb8e1c31ff64d6976d0da9b\", element=\"de74cd4f-ee76-4b27-87b3-1c0b2d9f9399\")>,\n",
       " <selenium.webdriver.remote.webelement.WebElement (session=\"03d18b840cb8e1c31ff64d6976d0da9b\", element=\"5602f66b-a58b-49f4-8e0b-3898844e2c7b\")>,\n",
       " <selenium.webdriver.remote.webelement.WebElement (session=\"03d18b840cb8e1c31ff64d6976d0da9b\", element=\"fe5f6526-c96e-4ff7-9e1b-761744c2fc9f\")>,\n",
       " <selenium.webdriver.remote.webelement.WebElement (session=\"03d18b840cb8e1c31ff64d6976d0da9b\", element=\"bd2e7610-1076-495d-86ed-293eb6f6a09b\")>,\n",
       " <selenium.webdriver.remote.webelement.WebElement (session=\"03d18b840cb8e1c31ff64d6976d0da9b\", element=\"e49d895e-1da8-4d8b-b557-1d9852fbe8da\")>,\n",
       " <selenium.webdriver.remote.webelement.WebElement (session=\"03d18b840cb8e1c31ff64d6976d0da9b\", element=\"a0bb6399-f77f-4126-a594-6f53e6fcfe35\")>,\n",
       " <selenium.webdriver.remote.webelement.WebElement (session=\"03d18b840cb8e1c31ff64d6976d0da9b\", element=\"65735df0-4c07-4f9d-b0cd-e6bef8c6cde7\")>,\n",
       " <selenium.webdriver.remote.webelement.WebElement (session=\"03d18b840cb8e1c31ff64d6976d0da9b\", element=\"e36866e5-b122-4049-b583-289f4ea7afd4\")>,\n",
       " <selenium.webdriver.remote.webelement.WebElement (session=\"03d18b840cb8e1c31ff64d6976d0da9b\", element=\"c30e4a28-7296-40b0-a9b9-dfa36a99dc6c\")>,\n",
       " <selenium.webdriver.remote.webelement.WebElement (session=\"03d18b840cb8e1c31ff64d6976d0da9b\", element=\"1777e89f-0fc5-481e-887e-90e655c3fd2a\")>,\n",
       " <selenium.webdriver.remote.webelement.WebElement (session=\"03d18b840cb8e1c31ff64d6976d0da9b\", element=\"ecfee59e-b851-4d1d-8e5d-ae0ccaf02a70\")>,\n",
       " <selenium.webdriver.remote.webelement.WebElement (session=\"03d18b840cb8e1c31ff64d6976d0da9b\", element=\"6aff6ece-44a0-40c5-b0d5-fb59ded8466e\")>,\n",
       " <selenium.webdriver.remote.webelement.WebElement (session=\"03d18b840cb8e1c31ff64d6976d0da9b\", element=\"bd7de4bf-e52f-4193-9783-847910b2b9cd\")>,\n",
       " <selenium.webdriver.remote.webelement.WebElement (session=\"03d18b840cb8e1c31ff64d6976d0da9b\", element=\"31e22dbf-1eab-4daf-b402-4aedf353f6cb\")>,\n",
       " <selenium.webdriver.remote.webelement.WebElement (session=\"03d18b840cb8e1c31ff64d6976d0da9b\", element=\"11c080ae-49f2-4714-b25b-d5a0488c635d\")>,\n",
       " <selenium.webdriver.remote.webelement.WebElement (session=\"03d18b840cb8e1c31ff64d6976d0da9b\", element=\"0c12e418-fb48-4c60-a771-480c79fc6484\")>,\n",
       " <selenium.webdriver.remote.webelement.WebElement (session=\"03d18b840cb8e1c31ff64d6976d0da9b\", element=\"ac1d51f4-19db-43f4-8b3a-4c8651d4a578\")>,\n",
       " <selenium.webdriver.remote.webelement.WebElement (session=\"03d18b840cb8e1c31ff64d6976d0da9b\", element=\"c629ee99-fd35-4dd8-bdb8-dd51681e681f\")>,\n",
       " <selenium.webdriver.remote.webelement.WebElement (session=\"03d18b840cb8e1c31ff64d6976d0da9b\", element=\"9539f6dc-f168-478e-878d-d3586e97babf\")>,\n",
       " <selenium.webdriver.remote.webelement.WebElement (session=\"03d18b840cb8e1c31ff64d6976d0da9b\", element=\"d05424a5-2c2e-4df3-8d12-25d7cbf853ec\")>,\n",
       " <selenium.webdriver.remote.webelement.WebElement (session=\"03d18b840cb8e1c31ff64d6976d0da9b\", element=\"233a973c-362c-47ef-8b74-8040264c14a8\")>,\n",
       " <selenium.webdriver.remote.webelement.WebElement (session=\"03d18b840cb8e1c31ff64d6976d0da9b\", element=\"ec670ff4-2514-48ed-9400-e66939588286\")>,\n",
       " <selenium.webdriver.remote.webelement.WebElement (session=\"03d18b840cb8e1c31ff64d6976d0da9b\", element=\"6c70d50d-e838-4e2a-8689-ba999fd394bb\")>,\n",
       " <selenium.webdriver.remote.webelement.WebElement (session=\"03d18b840cb8e1c31ff64d6976d0da9b\", element=\"19b8e35f-ac76-421c-a3b6-51ce3292be2d\")>,\n",
       " <selenium.webdriver.remote.webelement.WebElement (session=\"03d18b840cb8e1c31ff64d6976d0da9b\", element=\"43f4f238-ecbc-46b2-b303-d5f50fc9b86d\")>,\n",
       " <selenium.webdriver.remote.webelement.WebElement (session=\"03d18b840cb8e1c31ff64d6976d0da9b\", element=\"62ed7c15-b785-4d32-b964-42656e1d6bf0\")>,\n",
       " <selenium.webdriver.remote.webelement.WebElement (session=\"03d18b840cb8e1c31ff64d6976d0da9b\", element=\"5e456c34-9d1f-4f24-9038-30eba5008b8a\")>]"
      ]
     },
     "execution_count": 81,
     "metadata": {},
     "output_type": "execute_result"
    }
   ],
   "source": [
    "#so lets extract all the tags having the brand tags\n",
    "brnd_tags=driver.find_elements_by_xpath(\"//div[@class='_2WkVRV']\")\n",
    "brnd_tags[0:100]"
   ]
  },
  {
   "cell_type": "code",
   "execution_count": 82,
   "metadata": {},
   "outputs": [
    {
     "data": {
      "text/plain": [
       "['shadz',\n",
       " 'hipe',\n",
       " 'PIRASO',\n",
       " 'Fastrack',\n",
       " 'Fastrack',\n",
       " 'PIRASO',\n",
       " 'Silver Kartz',\n",
       " 'Fastrack',\n",
       " 'Fastrack',\n",
       " 'ROZZETTA CRAFT',\n",
       " 'ROZZETTA CRAFT',\n",
       " 'phenomenal',\n",
       " 'Fastrack',\n",
       " 'PIRASO',\n",
       " 'Singco India',\n",
       " 'PIRASO',\n",
       " 'phenomenal',\n",
       " 'Fastrack',\n",
       " 'Singco India',\n",
       " 'Aislin',\n",
       " 'HIPPON',\n",
       " 'Fastrack',\n",
       " 'Fastrack',\n",
       " 'ROYAL SON',\n",
       " 'Fastrack',\n",
       " 'DEIXELS',\n",
       " 'PIRASO',\n",
       " 'ROZZETTA CRAFT',\n",
       " 'Singco India',\n",
       " 'Aislin',\n",
       " 'DEIXELS',\n",
       " 'Singco India',\n",
       " 'phenomenal',\n",
       " 'ROYAL SON',\n",
       " 'PIRASO',\n",
       " 'ROZZETTA CRAFT',\n",
       " 'Fastrack',\n",
       " 'ROYAL SON',\n",
       " 'ROYAL SON',\n",
       " 'ROYAL SON']"
      ]
     },
     "execution_count": 82,
     "metadata": {},
     "output_type": "execute_result"
    }
   ],
   "source": [
    "for i in brnd_tags:\n",
    "    brand=i.text\n",
    "    Brand.append(brand)\n",
    "Brand[0:100]"
   ]
  },
  {
   "cell_type": "markdown",
   "metadata": {},
   "source": [
    "Product_Description"
   ]
  },
  {
   "cell_type": "code",
   "execution_count": 83,
   "metadata": {},
   "outputs": [
    {
     "data": {
      "text/plain": [
       "[<selenium.webdriver.remote.webelement.WebElement (session=\"03d18b840cb8e1c31ff64d6976d0da9b\", element=\"6f1a378b-2c8b-45a8-a520-69c0f02003d2\")>,\n",
       " <selenium.webdriver.remote.webelement.WebElement (session=\"03d18b840cb8e1c31ff64d6976d0da9b\", element=\"a1e7a712-8909-48f1-88fc-f2da87251c2c\")>,\n",
       " <selenium.webdriver.remote.webelement.WebElement (session=\"03d18b840cb8e1c31ff64d6976d0da9b\", element=\"d5c32118-6924-4557-8d7a-c2b257d5c9fe\")>,\n",
       " <selenium.webdriver.remote.webelement.WebElement (session=\"03d18b840cb8e1c31ff64d6976d0da9b\", element=\"5857fbec-271c-472a-a4df-181095968671\")>,\n",
       " <selenium.webdriver.remote.webelement.WebElement (session=\"03d18b840cb8e1c31ff64d6976d0da9b\", element=\"98285a38-684e-4fca-aeea-d987df752f75\")>,\n",
       " <selenium.webdriver.remote.webelement.WebElement (session=\"03d18b840cb8e1c31ff64d6976d0da9b\", element=\"95bb477d-b2aa-49f8-b75c-eee4f91c0574\")>,\n",
       " <selenium.webdriver.remote.webelement.WebElement (session=\"03d18b840cb8e1c31ff64d6976d0da9b\", element=\"f7fd3732-093e-4fe3-8542-ac54c74355da\")>,\n",
       " <selenium.webdriver.remote.webelement.WebElement (session=\"03d18b840cb8e1c31ff64d6976d0da9b\", element=\"0465783d-bcb8-4e06-9001-be22bd561bc6\")>,\n",
       " <selenium.webdriver.remote.webelement.WebElement (session=\"03d18b840cb8e1c31ff64d6976d0da9b\", element=\"8b6b6ef5-807a-4e2b-9e50-f8423ae6f27f\")>,\n",
       " <selenium.webdriver.remote.webelement.WebElement (session=\"03d18b840cb8e1c31ff64d6976d0da9b\", element=\"04e0403c-fc0a-4593-a1ff-5c8aefe6de5f\")>,\n",
       " <selenium.webdriver.remote.webelement.WebElement (session=\"03d18b840cb8e1c31ff64d6976d0da9b\", element=\"ad4c0b0e-e9ac-4c0d-a727-c2301d90c286\")>,\n",
       " <selenium.webdriver.remote.webelement.WebElement (session=\"03d18b840cb8e1c31ff64d6976d0da9b\", element=\"5fab486e-fb85-402a-a9cc-7385f87c2b91\")>,\n",
       " <selenium.webdriver.remote.webelement.WebElement (session=\"03d18b840cb8e1c31ff64d6976d0da9b\", element=\"483350f0-0f2f-45a5-81c6-04bf74a22545\")>,\n",
       " <selenium.webdriver.remote.webelement.WebElement (session=\"03d18b840cb8e1c31ff64d6976d0da9b\", element=\"28384975-404a-4bb4-aba3-c689b03efed6\")>,\n",
       " <selenium.webdriver.remote.webelement.WebElement (session=\"03d18b840cb8e1c31ff64d6976d0da9b\", element=\"73372a86-4d63-4473-b623-457dc94330ed\")>,\n",
       " <selenium.webdriver.remote.webelement.WebElement (session=\"03d18b840cb8e1c31ff64d6976d0da9b\", element=\"7388eff6-4491-4d17-984c-2a333ea28aa4\")>,\n",
       " <selenium.webdriver.remote.webelement.WebElement (session=\"03d18b840cb8e1c31ff64d6976d0da9b\", element=\"76ee7223-49be-43b7-9a3b-75ee65f3467d\")>,\n",
       " <selenium.webdriver.remote.webelement.WebElement (session=\"03d18b840cb8e1c31ff64d6976d0da9b\", element=\"361530f5-8476-440d-a1cd-5dfa3e417c54\")>,\n",
       " <selenium.webdriver.remote.webelement.WebElement (session=\"03d18b840cb8e1c31ff64d6976d0da9b\", element=\"55d6f56a-e1d5-4b73-896f-d450241c9432\")>,\n",
       " <selenium.webdriver.remote.webelement.WebElement (session=\"03d18b840cb8e1c31ff64d6976d0da9b\", element=\"7d1e0983-8199-4520-be36-2f5e0e00e4d4\")>,\n",
       " <selenium.webdriver.remote.webelement.WebElement (session=\"03d18b840cb8e1c31ff64d6976d0da9b\", element=\"8ab7c079-d4f7-48db-a98b-264572335fbe\")>,\n",
       " <selenium.webdriver.remote.webelement.WebElement (session=\"03d18b840cb8e1c31ff64d6976d0da9b\", element=\"a3305891-1816-4b90-b715-8f038a763f92\")>,\n",
       " <selenium.webdriver.remote.webelement.WebElement (session=\"03d18b840cb8e1c31ff64d6976d0da9b\", element=\"ff16ae94-1fdc-4f23-be11-752ef1577b6f\")>,\n",
       " <selenium.webdriver.remote.webelement.WebElement (session=\"03d18b840cb8e1c31ff64d6976d0da9b\", element=\"43317a49-8d40-4609-bb15-3dee0ae43786\")>,\n",
       " <selenium.webdriver.remote.webelement.WebElement (session=\"03d18b840cb8e1c31ff64d6976d0da9b\", element=\"677bf112-d9ea-492e-b1f4-7ae7ac686793\")>,\n",
       " <selenium.webdriver.remote.webelement.WebElement (session=\"03d18b840cb8e1c31ff64d6976d0da9b\", element=\"4fbbfaab-6c8d-4c57-abc1-f6736b66d20b\")>,\n",
       " <selenium.webdriver.remote.webelement.WebElement (session=\"03d18b840cb8e1c31ff64d6976d0da9b\", element=\"54050836-0e29-4f08-805f-21f32b6d63ba\")>,\n",
       " <selenium.webdriver.remote.webelement.WebElement (session=\"03d18b840cb8e1c31ff64d6976d0da9b\", element=\"4cea4a8a-28ca-4644-aa19-d02ed4963e8d\")>,\n",
       " <selenium.webdriver.remote.webelement.WebElement (session=\"03d18b840cb8e1c31ff64d6976d0da9b\", element=\"afe6ff1b-3467-49c0-9dd8-2aa52cb20f87\")>,\n",
       " <selenium.webdriver.remote.webelement.WebElement (session=\"03d18b840cb8e1c31ff64d6976d0da9b\", element=\"b52f94a4-9986-4c62-99fa-87e4db5ee2dc\")>,\n",
       " <selenium.webdriver.remote.webelement.WebElement (session=\"03d18b840cb8e1c31ff64d6976d0da9b\", element=\"20308b26-c796-4e69-8c10-5c6d4b05215f\")>,\n",
       " <selenium.webdriver.remote.webelement.WebElement (session=\"03d18b840cb8e1c31ff64d6976d0da9b\", element=\"dc8e4a31-556c-4ccf-ae76-e0bae0619a66\")>,\n",
       " <selenium.webdriver.remote.webelement.WebElement (session=\"03d18b840cb8e1c31ff64d6976d0da9b\", element=\"721922b4-3a2c-44da-af4c-54ff1eadb864\")>,\n",
       " <selenium.webdriver.remote.webelement.WebElement (session=\"03d18b840cb8e1c31ff64d6976d0da9b\", element=\"d4286f20-64de-47ad-9366-2a97326fda0a\")>,\n",
       " <selenium.webdriver.remote.webelement.WebElement (session=\"03d18b840cb8e1c31ff64d6976d0da9b\", element=\"45767001-4a24-4df4-afc2-63ecc786e83c\")>,\n",
       " <selenium.webdriver.remote.webelement.WebElement (session=\"03d18b840cb8e1c31ff64d6976d0da9b\", element=\"0d269554-6474-47b6-9ac5-d0cf003e2162\")>,\n",
       " <selenium.webdriver.remote.webelement.WebElement (session=\"03d18b840cb8e1c31ff64d6976d0da9b\", element=\"8a7f12ce-1458-4d86-ad62-6d5c43ec86dd\")>,\n",
       " <selenium.webdriver.remote.webelement.WebElement (session=\"03d18b840cb8e1c31ff64d6976d0da9b\", element=\"be4a06d3-9fa5-4cb3-aa92-81e02ed23889\")>,\n",
       " <selenium.webdriver.remote.webelement.WebElement (session=\"03d18b840cb8e1c31ff64d6976d0da9b\", element=\"326cd961-baac-4699-8448-c5c1eaad246e\")>]"
      ]
     },
     "execution_count": 83,
     "metadata": {},
     "output_type": "execute_result"
    }
   ],
   "source": [
    "#so lets extract all the tags having the product description\n",
    "descrptn_tags=driver.find_elements_by_xpath(\"//a[@class='IRpwTa']\")\n",
    "descrptn_tags[0:100]"
   ]
  },
  {
   "cell_type": "code",
   "execution_count": 84,
   "metadata": {},
   "outputs": [
    {
     "data": {
      "text/plain": [
       "['Mirrored Wayfarer Sunglasses (55)',\n",
       " 'UV Protection Aviator Sunglasses (54)',\n",
       " 'UV Protection Rectangular Sunglasses (Free Size)',\n",
       " 'Mirrored, UV Protection Wayfarer Sunglasses (Free Size)',\n",
       " 'UV Protection Aviator Sunglasses (Free Size)',\n",
       " 'UV Protection Wayfarer Sunglasses (Free Size)',\n",
       " 'UV Protection Wayfarer Sunglasses (Free Size)',\n",
       " 'Gradient, UV Protection Wayfarer Sunglasses (Free Size)',\n",
       " 'UV Protection Retro Square Sunglasses (Free Size)',\n",
       " 'UV Protection, Gradient Rectangular Sunglasses (Free Si...',\n",
       " 'UV Protection Retro Square Sunglasses (Free Size)',\n",
       " 'UV Protection Aviator Sunglasses (58)',\n",
       " 'UV Protection Butterfly Sunglasses (55)',\n",
       " 'UV Protection, Polarized Aviator Sunglasses (Free Size)',\n",
       " 'UV Protection Aviator Sunglasses (54)',\n",
       " 'UV Protection, Mirrored Retro Square Sunglasses (53)',\n",
       " 'UV Protection Wayfarer Sunglasses (Free Size)',\n",
       " 'UV Protection Round Sunglasses (Free Size)',\n",
       " 'UV Protection, Gradient Cat-eye Sunglasses (58)',\n",
       " 'UV Protection Wayfarer Sunglasses (55)',\n",
       " 'Gradient, UV Protection Wayfarer Sunglasses (Free Size)',\n",
       " 'UV Protection Shield Sunglasses (Free Size)',\n",
       " 'Polarized, UV Protection Aviator Sunglasses (58)',\n",
       " 'UV Protection Wayfarer Sunglasses (56)',\n",
       " 'UV Protection Round Sunglasses (Free Size)',\n",
       " 'UV Protection Wayfarer Sunglasses (32)',\n",
       " 'UV Protection, Riding Glasses Rectangular Sunglasses (F...',\n",
       " 'UV Protection Aviator Sunglasses (Free Size)',\n",
       " 'UV Protection, Gradient Wayfarer Sunglasses (57)',\n",
       " 'UV Protection Wayfarer Sunglasses (Free Size)',\n",
       " 'Mirrored, Riding Glasses, Others Sports Sunglasses (50)',\n",
       " 'UV Protection Clubmaster Sunglasses (Free Size)',\n",
       " 'UV Protection Wayfarer Sunglasses (55)',\n",
       " 'UV Protection Aviator Sunglasses (54)',\n",
       " 'UV Protection Retro Square Sunglasses (Free Size)',\n",
       " 'UV Protection Aviator Sunglasses (Free Size)',\n",
       " 'Polarized Aviator Sunglasses (58)',\n",
       " 'UV Protection, Gradient Wayfarer Sunglasses (55)',\n",
       " 'Polarized Retro Square Sunglasses (52)']"
      ]
     },
     "execution_count": 84,
     "metadata": {},
     "output_type": "execute_result"
    }
   ],
   "source": [
    "for i in descrptn_tags:\n",
    "    product=i.text\n",
    "    Product_Description.append(product)\n",
    "Product_Description[0:100]"
   ]
  },
  {
   "cell_type": "markdown",
   "metadata": {},
   "source": [
    "Price"
   ]
  },
  {
   "cell_type": "code",
   "execution_count": 85,
   "metadata": {
    "scrolled": true
   },
   "outputs": [
    {
     "data": {
      "text/plain": [
       "[<selenium.webdriver.remote.webelement.WebElement (session=\"03d18b840cb8e1c31ff64d6976d0da9b\", element=\"9e43d919-7a90-46cd-aa24-e7d3a28c3a0f\")>,\n",
       " <selenium.webdriver.remote.webelement.WebElement (session=\"03d18b840cb8e1c31ff64d6976d0da9b\", element=\"16ea58ab-752f-4c1e-b75f-7fb993cbefae\")>,\n",
       " <selenium.webdriver.remote.webelement.WebElement (session=\"03d18b840cb8e1c31ff64d6976d0da9b\", element=\"5556e373-e82c-4933-b4f3-1c918701cab7\")>,\n",
       " <selenium.webdriver.remote.webelement.WebElement (session=\"03d18b840cb8e1c31ff64d6976d0da9b\", element=\"00f125ee-c3c1-4139-97f3-e127d7e7b205\")>,\n",
       " <selenium.webdriver.remote.webelement.WebElement (session=\"03d18b840cb8e1c31ff64d6976d0da9b\", element=\"2e738d44-83d9-40a6-8d06-06e1be759faa\")>,\n",
       " <selenium.webdriver.remote.webelement.WebElement (session=\"03d18b840cb8e1c31ff64d6976d0da9b\", element=\"103e309e-9408-46e1-94d4-f3bc5f624ecd\")>,\n",
       " <selenium.webdriver.remote.webelement.WebElement (session=\"03d18b840cb8e1c31ff64d6976d0da9b\", element=\"eed8b5ea-08be-49d3-beb6-20f687fe645a\")>,\n",
       " <selenium.webdriver.remote.webelement.WebElement (session=\"03d18b840cb8e1c31ff64d6976d0da9b\", element=\"d063ac26-0a66-403a-bb21-3a8faf2385cb\")>,\n",
       " <selenium.webdriver.remote.webelement.WebElement (session=\"03d18b840cb8e1c31ff64d6976d0da9b\", element=\"5f311207-d0ca-43db-8016-13d0b0fcfbb9\")>,\n",
       " <selenium.webdriver.remote.webelement.WebElement (session=\"03d18b840cb8e1c31ff64d6976d0da9b\", element=\"0e4cb7a1-2feb-4a61-bf5a-24dfe94b21fe\")>,\n",
       " <selenium.webdriver.remote.webelement.WebElement (session=\"03d18b840cb8e1c31ff64d6976d0da9b\", element=\"2254c0d4-9590-427f-b9d5-f8f6afbdaafa\")>,\n",
       " <selenium.webdriver.remote.webelement.WebElement (session=\"03d18b840cb8e1c31ff64d6976d0da9b\", element=\"7213ab9f-97a4-4d10-80d4-718d1dc84933\")>,\n",
       " <selenium.webdriver.remote.webelement.WebElement (session=\"03d18b840cb8e1c31ff64d6976d0da9b\", element=\"9ab77b3c-43b1-44fc-8503-b4b6a17b0934\")>,\n",
       " <selenium.webdriver.remote.webelement.WebElement (session=\"03d18b840cb8e1c31ff64d6976d0da9b\", element=\"cfbaed30-df5f-4576-a542-2a5265175525\")>,\n",
       " <selenium.webdriver.remote.webelement.WebElement (session=\"03d18b840cb8e1c31ff64d6976d0da9b\", element=\"679a9c54-463f-4cc9-9b79-68a2cb5d4d72\")>,\n",
       " <selenium.webdriver.remote.webelement.WebElement (session=\"03d18b840cb8e1c31ff64d6976d0da9b\", element=\"c601ba82-8d40-440e-aadc-fdcdab5ac990\")>,\n",
       " <selenium.webdriver.remote.webelement.WebElement (session=\"03d18b840cb8e1c31ff64d6976d0da9b\", element=\"87c62ed1-1f4f-495f-8fe8-1f005a2a488d\")>,\n",
       " <selenium.webdriver.remote.webelement.WebElement (session=\"03d18b840cb8e1c31ff64d6976d0da9b\", element=\"d96128f7-f4f7-4198-804e-0f56951d3aa7\")>,\n",
       " <selenium.webdriver.remote.webelement.WebElement (session=\"03d18b840cb8e1c31ff64d6976d0da9b\", element=\"99491a2c-0eab-4f4b-8381-d8eec27ae5e8\")>,\n",
       " <selenium.webdriver.remote.webelement.WebElement (session=\"03d18b840cb8e1c31ff64d6976d0da9b\", element=\"c3fee798-21d4-4c32-b909-9c309c4dfa34\")>,\n",
       " <selenium.webdriver.remote.webelement.WebElement (session=\"03d18b840cb8e1c31ff64d6976d0da9b\", element=\"3b75671f-337d-4c0e-8aa7-25f6f1a32a89\")>,\n",
       " <selenium.webdriver.remote.webelement.WebElement (session=\"03d18b840cb8e1c31ff64d6976d0da9b\", element=\"26e02957-2bf5-4b75-85a4-e3711dbfd361\")>,\n",
       " <selenium.webdriver.remote.webelement.WebElement (session=\"03d18b840cb8e1c31ff64d6976d0da9b\", element=\"10831cfb-ce2b-429c-964d-b2f495fa59af\")>,\n",
       " <selenium.webdriver.remote.webelement.WebElement (session=\"03d18b840cb8e1c31ff64d6976d0da9b\", element=\"38a69b1c-66d5-415a-a1e4-8325d04cd58d\")>,\n",
       " <selenium.webdriver.remote.webelement.WebElement (session=\"03d18b840cb8e1c31ff64d6976d0da9b\", element=\"6da05821-7db8-412d-9013-897dbd912e47\")>,\n",
       " <selenium.webdriver.remote.webelement.WebElement (session=\"03d18b840cb8e1c31ff64d6976d0da9b\", element=\"ccbdb65c-f533-49df-a08d-c6dc81bf3aeb\")>,\n",
       " <selenium.webdriver.remote.webelement.WebElement (session=\"03d18b840cb8e1c31ff64d6976d0da9b\", element=\"72597e45-28ed-4fcb-8f73-46ca717ee3c4\")>,\n",
       " <selenium.webdriver.remote.webelement.WebElement (session=\"03d18b840cb8e1c31ff64d6976d0da9b\", element=\"49a34587-6358-4049-bf35-d534163b43d6\")>,\n",
       " <selenium.webdriver.remote.webelement.WebElement (session=\"03d18b840cb8e1c31ff64d6976d0da9b\", element=\"6b57b3e6-2d35-4652-9bcf-3835c92b1f27\")>,\n",
       " <selenium.webdriver.remote.webelement.WebElement (session=\"03d18b840cb8e1c31ff64d6976d0da9b\", element=\"2e4bc61b-3d6f-4287-afa9-c8e45b8b298e\")>,\n",
       " <selenium.webdriver.remote.webelement.WebElement (session=\"03d18b840cb8e1c31ff64d6976d0da9b\", element=\"d7703cb3-7a4a-470c-85fa-88f0d93f962e\")>,\n",
       " <selenium.webdriver.remote.webelement.WebElement (session=\"03d18b840cb8e1c31ff64d6976d0da9b\", element=\"be61b523-7171-4285-a03a-99d9b0eda817\")>,\n",
       " <selenium.webdriver.remote.webelement.WebElement (session=\"03d18b840cb8e1c31ff64d6976d0da9b\", element=\"90f69fe4-5f02-4561-8f00-c6e04a3b45be\")>,\n",
       " <selenium.webdriver.remote.webelement.WebElement (session=\"03d18b840cb8e1c31ff64d6976d0da9b\", element=\"542ea1a7-179f-45df-b24a-358bb6ae86d0\")>,\n",
       " <selenium.webdriver.remote.webelement.WebElement (session=\"03d18b840cb8e1c31ff64d6976d0da9b\", element=\"8395f429-e688-420a-8d58-b95538b7f25e\")>,\n",
       " <selenium.webdriver.remote.webelement.WebElement (session=\"03d18b840cb8e1c31ff64d6976d0da9b\", element=\"3b517c12-caff-489b-b41e-3ad048ef3556\")>,\n",
       " <selenium.webdriver.remote.webelement.WebElement (session=\"03d18b840cb8e1c31ff64d6976d0da9b\", element=\"c30a8134-8241-43d8-8b77-0862666cf39c\")>,\n",
       " <selenium.webdriver.remote.webelement.WebElement (session=\"03d18b840cb8e1c31ff64d6976d0da9b\", element=\"85e504b5-0284-45a2-a583-13685e547293\")>,\n",
       " <selenium.webdriver.remote.webelement.WebElement (session=\"03d18b840cb8e1c31ff64d6976d0da9b\", element=\"a1629e22-88dd-4994-bd8f-fbbb3dc095ca\")>,\n",
       " <selenium.webdriver.remote.webelement.WebElement (session=\"03d18b840cb8e1c31ff64d6976d0da9b\", element=\"3049587e-84ec-4a3d-a8b8-9c225d44c7e6\")>]"
      ]
     },
     "execution_count": 85,
     "metadata": {},
     "output_type": "execute_result"
    }
   ],
   "source": [
    "#so lets extract all the tags having the job titles\n",
    "price_tags=driver.find_elements_by_xpath(\"//div[@class='_30jeq3']\")\n",
    "price_tags[0:100]"
   ]
  },
  {
   "cell_type": "code",
   "execution_count": 86,
   "metadata": {
    "scrolled": true
   },
   "outputs": [
    {
     "data": {
      "text/plain": [
       "['₹166',\n",
       " '₹219',\n",
       " '₹187',\n",
       " '₹570',\n",
       " '₹469',\n",
       " '₹296',\n",
       " '₹233',\n",
       " '₹685',\n",
       " '₹609',\n",
       " '₹499',\n",
       " '₹404',\n",
       " '₹399',\n",
       " '₹951',\n",
       " '₹209',\n",
       " '₹202',\n",
       " '₹212',\n",
       " '₹399',\n",
       " '₹684',\n",
       " '₹199',\n",
       " '₹459',\n",
       " '₹251',\n",
       " '₹609',\n",
       " '₹685',\n",
       " '₹679',\n",
       " '₹685',\n",
       " '₹189',\n",
       " '₹212',\n",
       " '₹426',\n",
       " '₹329',\n",
       " '₹625',\n",
       " '₹200',\n",
       " '₹236',\n",
       " '₹299',\n",
       " '₹237',\n",
       " '₹212',\n",
       " '₹499',\n",
       " '₹592',\n",
       " '₹636',\n",
       " '₹194',\n",
       " '₹509']"
      ]
     },
     "execution_count": 86,
     "metadata": {},
     "output_type": "execute_result"
    }
   ],
   "source": [
    "for i in price_tags:\n",
    "    price=i.text\n",
    "    Price.append(price)\n",
    "Price[0:100]  "
   ]
  },
  {
   "cell_type": "markdown",
   "metadata": {},
   "source": [
    "Discount"
   ]
  },
  {
   "cell_type": "code",
   "execution_count": 87,
   "metadata": {
    "scrolled": true
   },
   "outputs": [
    {
     "data": {
      "text/plain": [
       "[<selenium.webdriver.remote.webelement.WebElement (session=\"03d18b840cb8e1c31ff64d6976d0da9b\", element=\"ec331450-cf2b-4251-82e3-b9922a3d1d7c\")>,\n",
       " <selenium.webdriver.remote.webelement.WebElement (session=\"03d18b840cb8e1c31ff64d6976d0da9b\", element=\"ba75faaa-db90-4e02-8bb9-18f04413d1d8\")>,\n",
       " <selenium.webdriver.remote.webelement.WebElement (session=\"03d18b840cb8e1c31ff64d6976d0da9b\", element=\"18f83a93-9332-4f75-b862-634cdb3db836\")>,\n",
       " <selenium.webdriver.remote.webelement.WebElement (session=\"03d18b840cb8e1c31ff64d6976d0da9b\", element=\"de3e1c70-e53b-465c-b5d8-9f7b0bfdc3a4\")>,\n",
       " <selenium.webdriver.remote.webelement.WebElement (session=\"03d18b840cb8e1c31ff64d6976d0da9b\", element=\"d7a15826-1663-4c5e-a212-d8991f3bea96\")>,\n",
       " <selenium.webdriver.remote.webelement.WebElement (session=\"03d18b840cb8e1c31ff64d6976d0da9b\", element=\"631d6f0b-1a35-4118-a8e6-686e0b9d919e\")>,\n",
       " <selenium.webdriver.remote.webelement.WebElement (session=\"03d18b840cb8e1c31ff64d6976d0da9b\", element=\"424fa589-8b98-4a90-8146-0e1cad94696c\")>,\n",
       " <selenium.webdriver.remote.webelement.WebElement (session=\"03d18b840cb8e1c31ff64d6976d0da9b\", element=\"66e829d2-a00f-4c40-95cf-3ec3719ed45e\")>,\n",
       " <selenium.webdriver.remote.webelement.WebElement (session=\"03d18b840cb8e1c31ff64d6976d0da9b\", element=\"f9b48fe3-98dc-4d88-92a4-bdcc8e9c4b9f\")>,\n",
       " <selenium.webdriver.remote.webelement.WebElement (session=\"03d18b840cb8e1c31ff64d6976d0da9b\", element=\"f0b9fac3-3830-490a-8400-36369a73d4e6\")>,\n",
       " <selenium.webdriver.remote.webelement.WebElement (session=\"03d18b840cb8e1c31ff64d6976d0da9b\", element=\"914a3f4b-b599-496c-b1d8-90a3311322d7\")>,\n",
       " <selenium.webdriver.remote.webelement.WebElement (session=\"03d18b840cb8e1c31ff64d6976d0da9b\", element=\"e771d17d-9bf6-43c9-af44-94e16c9bd29f\")>,\n",
       " <selenium.webdriver.remote.webelement.WebElement (session=\"03d18b840cb8e1c31ff64d6976d0da9b\", element=\"0538cbcb-08fb-4aab-9048-52d41a24cdb5\")>,\n",
       " <selenium.webdriver.remote.webelement.WebElement (session=\"03d18b840cb8e1c31ff64d6976d0da9b\", element=\"1a99d88b-f1a6-4b5f-b900-0078690407a9\")>,\n",
       " <selenium.webdriver.remote.webelement.WebElement (session=\"03d18b840cb8e1c31ff64d6976d0da9b\", element=\"8afb2c87-93c5-4bac-9463-93eb09487b43\")>,\n",
       " <selenium.webdriver.remote.webelement.WebElement (session=\"03d18b840cb8e1c31ff64d6976d0da9b\", element=\"181f152f-8f0b-4b21-ad42-a2fed54bd287\")>,\n",
       " <selenium.webdriver.remote.webelement.WebElement (session=\"03d18b840cb8e1c31ff64d6976d0da9b\", element=\"26ac2e1c-e0ff-414f-81ee-50ad8f33ffd2\")>,\n",
       " <selenium.webdriver.remote.webelement.WebElement (session=\"03d18b840cb8e1c31ff64d6976d0da9b\", element=\"705e09f9-99ce-4856-8d09-8b594c52b79a\")>,\n",
       " <selenium.webdriver.remote.webelement.WebElement (session=\"03d18b840cb8e1c31ff64d6976d0da9b\", element=\"36c0b984-d71f-4a69-a238-086286c27ef7\")>,\n",
       " <selenium.webdriver.remote.webelement.WebElement (session=\"03d18b840cb8e1c31ff64d6976d0da9b\", element=\"05f17fe9-e407-44e2-ba63-1ac536695d41\")>,\n",
       " <selenium.webdriver.remote.webelement.WebElement (session=\"03d18b840cb8e1c31ff64d6976d0da9b\", element=\"68e4646d-358e-4a55-8873-f412c6f2c217\")>,\n",
       " <selenium.webdriver.remote.webelement.WebElement (session=\"03d18b840cb8e1c31ff64d6976d0da9b\", element=\"e1ae3b13-f66d-45c0-a53a-46033a9a59d9\")>,\n",
       " <selenium.webdriver.remote.webelement.WebElement (session=\"03d18b840cb8e1c31ff64d6976d0da9b\", element=\"1470bff7-c7f6-48ab-8369-45b49c7c385d\")>,\n",
       " <selenium.webdriver.remote.webelement.WebElement (session=\"03d18b840cb8e1c31ff64d6976d0da9b\", element=\"7172c2eb-3c12-4dc1-82d7-84ee865722b5\")>,\n",
       " <selenium.webdriver.remote.webelement.WebElement (session=\"03d18b840cb8e1c31ff64d6976d0da9b\", element=\"f51223e8-83a1-4641-88cd-ddf9173c4b29\")>,\n",
       " <selenium.webdriver.remote.webelement.WebElement (session=\"03d18b840cb8e1c31ff64d6976d0da9b\", element=\"e5d21c82-4add-4799-a686-ec85decacde3\")>,\n",
       " <selenium.webdriver.remote.webelement.WebElement (session=\"03d18b840cb8e1c31ff64d6976d0da9b\", element=\"01c7f123-213b-4784-917e-4beb0ab3f8f1\")>,\n",
       " <selenium.webdriver.remote.webelement.WebElement (session=\"03d18b840cb8e1c31ff64d6976d0da9b\", element=\"6fdf6868-7182-4ab5-a3fd-5cb60a8af9fe\")>,\n",
       " <selenium.webdriver.remote.webelement.WebElement (session=\"03d18b840cb8e1c31ff64d6976d0da9b\", element=\"47a3750a-00cb-4482-9190-5ce497698864\")>,\n",
       " <selenium.webdriver.remote.webelement.WebElement (session=\"03d18b840cb8e1c31ff64d6976d0da9b\", element=\"adad392d-a1e1-45a8-9b77-f4b1e8d10f55\")>,\n",
       " <selenium.webdriver.remote.webelement.WebElement (session=\"03d18b840cb8e1c31ff64d6976d0da9b\", element=\"c25cf6c0-97ec-4556-934d-ab62d5a73377\")>,\n",
       " <selenium.webdriver.remote.webelement.WebElement (session=\"03d18b840cb8e1c31ff64d6976d0da9b\", element=\"3b5d6c92-09e0-444f-a888-5bcf5c9a16e4\")>,\n",
       " <selenium.webdriver.remote.webelement.WebElement (session=\"03d18b840cb8e1c31ff64d6976d0da9b\", element=\"390ba275-004a-476e-bfb9-2e7ec8124e9c\")>,\n",
       " <selenium.webdriver.remote.webelement.WebElement (session=\"03d18b840cb8e1c31ff64d6976d0da9b\", element=\"60e9f196-d3bb-44bf-8d85-da1fb613a9f1\")>,\n",
       " <selenium.webdriver.remote.webelement.WebElement (session=\"03d18b840cb8e1c31ff64d6976d0da9b\", element=\"15cc2a3d-f668-4820-8c58-810667bcb21d\")>,\n",
       " <selenium.webdriver.remote.webelement.WebElement (session=\"03d18b840cb8e1c31ff64d6976d0da9b\", element=\"7d731d69-c839-497b-8f5b-66a66f554be1\")>,\n",
       " <selenium.webdriver.remote.webelement.WebElement (session=\"03d18b840cb8e1c31ff64d6976d0da9b\", element=\"7d4c7376-bc1c-4d56-9ec5-21af6584c51f\")>,\n",
       " <selenium.webdriver.remote.webelement.WebElement (session=\"03d18b840cb8e1c31ff64d6976d0da9b\", element=\"46358cd9-40ce-4aad-9b55-e96f2be05d90\")>,\n",
       " <selenium.webdriver.remote.webelement.WebElement (session=\"03d18b840cb8e1c31ff64d6976d0da9b\", element=\"4e169f2f-ca17-4f0f-b5d2-1040205be2b7\")>,\n",
       " <selenium.webdriver.remote.webelement.WebElement (session=\"03d18b840cb8e1c31ff64d6976d0da9b\", element=\"23f33dd6-27a9-45df-a48f-47305efd6e5e\")>]"
      ]
     },
     "execution_count": 87,
     "metadata": {},
     "output_type": "execute_result"
    }
   ],
   "source": [
    "#so lets extract all the tags having the Discount tags\n",
    "disc_tags=driver.find_elements_by_xpath(\"//div[@class='_3Ay6Sb']\")\n",
    "disc_tags[0:100]"
   ]
  },
  {
   "cell_type": "code",
   "execution_count": 88,
   "metadata": {
    "scrolled": true
   },
   "outputs": [
    {
     "data": {
      "text/plain": [
       "['87% off',\n",
       " '78% off',\n",
       " '88% off',\n",
       " '28% off',\n",
       " '53% off',\n",
       " '81% off',\n",
       " '84% off',\n",
       " '23% off',\n",
       " '23% off',\n",
       " '77% off',\n",
       " '79% off',\n",
       " '80% off',\n",
       " '26% off',\n",
       " '86% off',\n",
       " '71% off',\n",
       " '86% off',\n",
       " '80% off',\n",
       " '23% off',\n",
       " '80% off',\n",
       " '69% off',\n",
       " '79% off',\n",
       " '23% off',\n",
       " '23% off',\n",
       " '66% off',\n",
       " '23% off',\n",
       " '76% off',\n",
       " '86% off',\n",
       " '80% off',\n",
       " '72% off',\n",
       " '70% off',\n",
       " '59% off',\n",
       " '84% off',\n",
       " '85% off',\n",
       " '81% off',\n",
       " '86% off',\n",
       " '77% off',\n",
       " '34% off',\n",
       " '68% off',\n",
       " '80% off',\n",
       " '66% off']"
      ]
     },
     "execution_count": 88,
     "metadata": {},
     "output_type": "execute_result"
    }
   ],
   "source": [
    "for i in disc_tags:\n",
    "    DISC=i.text\n",
    "    Discount.append(DISC)\n",
    "Discount[0:100]  "
   ]
  },
  {
   "cell_type": "code",
   "execution_count": 89,
   "metadata": {},
   "outputs": [
    {
     "name": "stdout",
     "output_type": "stream",
     "text": [
      "40 39 40 40\n"
     ]
    }
   ],
   "source": [
    "print(len(Brand),len(Product_Description),len(Price),len(Discount))"
   ]
  },
  {
   "cell_type": "code",
   "execution_count": 90,
   "metadata": {},
   "outputs": [
    {
     "ename": "ValueError",
     "evalue": "Length of values (39) does not match length of index (40)",
     "output_type": "error",
     "traceback": [
      "\u001b[1;31m---------------------------------------------------------------------------\u001b[0m",
      "\u001b[1;31mValueError\u001b[0m                                Traceback (most recent call last)",
      "\u001b[1;32m<ipython-input-90-96579aa214a7>\u001b[0m in \u001b[0;36m<module>\u001b[1;34m\u001b[0m\n\u001b[0;32m      2\u001b[0m \u001b[0mjobs\u001b[0m\u001b[1;33m=\u001b[0m\u001b[0mpd\u001b[0m\u001b[1;33m.\u001b[0m\u001b[0mDataFrame\u001b[0m\u001b[1;33m(\u001b[0m\u001b[1;33m{\u001b[0m\u001b[1;33m}\u001b[0m\u001b[1;33m)\u001b[0m\u001b[1;33m\u001b[0m\u001b[1;33m\u001b[0m\u001b[0m\n\u001b[0;32m      3\u001b[0m \u001b[0mjobs\u001b[0m\u001b[1;33m[\u001b[0m\u001b[1;34m'brand'\u001b[0m\u001b[1;33m]\u001b[0m\u001b[1;33m=\u001b[0m\u001b[0mBrand\u001b[0m\u001b[1;33m\u001b[0m\u001b[1;33m\u001b[0m\u001b[0m\n\u001b[1;32m----> 4\u001b[1;33m \u001b[0mjobs\u001b[0m\u001b[1;33m[\u001b[0m\u001b[1;34m'product'\u001b[0m\u001b[1;33m]\u001b[0m\u001b[1;33m=\u001b[0m\u001b[0mProduct_Description\u001b[0m\u001b[1;33m\u001b[0m\u001b[1;33m\u001b[0m\u001b[0m\n\u001b[0m\u001b[0;32m      5\u001b[0m \u001b[0mjobs\u001b[0m\u001b[1;33m[\u001b[0m\u001b[1;34m'price'\u001b[0m\u001b[1;33m]\u001b[0m\u001b[1;33m=\u001b[0m\u001b[0mPrice\u001b[0m\u001b[1;33m\u001b[0m\u001b[1;33m\u001b[0m\u001b[0m\n\u001b[0;32m      6\u001b[0m \u001b[0mjobs\u001b[0m\u001b[1;33m[\u001b[0m\u001b[1;34m'DISC'\u001b[0m\u001b[1;33m]\u001b[0m\u001b[1;33m=\u001b[0m\u001b[0mDiscount\u001b[0m\u001b[1;33m\u001b[0m\u001b[1;33m\u001b[0m\u001b[0m\n",
      "\u001b[1;32m~\\anaconda3\\lib\\site-packages\\pandas\\core\\frame.py\u001b[0m in \u001b[0;36m__setitem__\u001b[1;34m(self, key, value)\u001b[0m\n\u001b[0;32m   3038\u001b[0m         \u001b[1;32melse\u001b[0m\u001b[1;33m:\u001b[0m\u001b[1;33m\u001b[0m\u001b[1;33m\u001b[0m\u001b[0m\n\u001b[0;32m   3039\u001b[0m             \u001b[1;31m# set column\u001b[0m\u001b[1;33m\u001b[0m\u001b[1;33m\u001b[0m\u001b[1;33m\u001b[0m\u001b[0m\n\u001b[1;32m-> 3040\u001b[1;33m             \u001b[0mself\u001b[0m\u001b[1;33m.\u001b[0m\u001b[0m_set_item\u001b[0m\u001b[1;33m(\u001b[0m\u001b[0mkey\u001b[0m\u001b[1;33m,\u001b[0m \u001b[0mvalue\u001b[0m\u001b[1;33m)\u001b[0m\u001b[1;33m\u001b[0m\u001b[1;33m\u001b[0m\u001b[0m\n\u001b[0m\u001b[0;32m   3041\u001b[0m \u001b[1;33m\u001b[0m\u001b[0m\n\u001b[0;32m   3042\u001b[0m     \u001b[1;32mdef\u001b[0m \u001b[0m_setitem_slice\u001b[0m\u001b[1;33m(\u001b[0m\u001b[0mself\u001b[0m\u001b[1;33m,\u001b[0m \u001b[0mkey\u001b[0m\u001b[1;33m:\u001b[0m \u001b[0mslice\u001b[0m\u001b[1;33m,\u001b[0m \u001b[0mvalue\u001b[0m\u001b[1;33m)\u001b[0m\u001b[1;33m:\u001b[0m\u001b[1;33m\u001b[0m\u001b[1;33m\u001b[0m\u001b[0m\n",
      "\u001b[1;32m~\\anaconda3\\lib\\site-packages\\pandas\\core\\frame.py\u001b[0m in \u001b[0;36m_set_item\u001b[1;34m(self, key, value)\u001b[0m\n\u001b[0;32m   3114\u001b[0m         \"\"\"\n\u001b[0;32m   3115\u001b[0m         \u001b[0mself\u001b[0m\u001b[1;33m.\u001b[0m\u001b[0m_ensure_valid_index\u001b[0m\u001b[1;33m(\u001b[0m\u001b[0mvalue\u001b[0m\u001b[1;33m)\u001b[0m\u001b[1;33m\u001b[0m\u001b[1;33m\u001b[0m\u001b[0m\n\u001b[1;32m-> 3116\u001b[1;33m         \u001b[0mvalue\u001b[0m \u001b[1;33m=\u001b[0m \u001b[0mself\u001b[0m\u001b[1;33m.\u001b[0m\u001b[0m_sanitize_column\u001b[0m\u001b[1;33m(\u001b[0m\u001b[0mkey\u001b[0m\u001b[1;33m,\u001b[0m \u001b[0mvalue\u001b[0m\u001b[1;33m)\u001b[0m\u001b[1;33m\u001b[0m\u001b[1;33m\u001b[0m\u001b[0m\n\u001b[0m\u001b[0;32m   3117\u001b[0m         \u001b[0mNDFrame\u001b[0m\u001b[1;33m.\u001b[0m\u001b[0m_set_item\u001b[0m\u001b[1;33m(\u001b[0m\u001b[0mself\u001b[0m\u001b[1;33m,\u001b[0m \u001b[0mkey\u001b[0m\u001b[1;33m,\u001b[0m \u001b[0mvalue\u001b[0m\u001b[1;33m)\u001b[0m\u001b[1;33m\u001b[0m\u001b[1;33m\u001b[0m\u001b[0m\n\u001b[0;32m   3118\u001b[0m \u001b[1;33m\u001b[0m\u001b[0m\n",
      "\u001b[1;32m~\\anaconda3\\lib\\site-packages\\pandas\\core\\frame.py\u001b[0m in \u001b[0;36m_sanitize_column\u001b[1;34m(self, key, value, broadcast)\u001b[0m\n\u001b[0;32m   3762\u001b[0m \u001b[1;33m\u001b[0m\u001b[0m\n\u001b[0;32m   3763\u001b[0m             \u001b[1;31m# turn me into an ndarray\u001b[0m\u001b[1;33m\u001b[0m\u001b[1;33m\u001b[0m\u001b[1;33m\u001b[0m\u001b[0m\n\u001b[1;32m-> 3764\u001b[1;33m             \u001b[0mvalue\u001b[0m \u001b[1;33m=\u001b[0m \u001b[0msanitize_index\u001b[0m\u001b[1;33m(\u001b[0m\u001b[0mvalue\u001b[0m\u001b[1;33m,\u001b[0m \u001b[0mself\u001b[0m\u001b[1;33m.\u001b[0m\u001b[0mindex\u001b[0m\u001b[1;33m)\u001b[0m\u001b[1;33m\u001b[0m\u001b[1;33m\u001b[0m\u001b[0m\n\u001b[0m\u001b[0;32m   3765\u001b[0m             \u001b[1;32mif\u001b[0m \u001b[1;32mnot\u001b[0m \u001b[0misinstance\u001b[0m\u001b[1;33m(\u001b[0m\u001b[0mvalue\u001b[0m\u001b[1;33m,\u001b[0m \u001b[1;33m(\u001b[0m\u001b[0mnp\u001b[0m\u001b[1;33m.\u001b[0m\u001b[0mndarray\u001b[0m\u001b[1;33m,\u001b[0m \u001b[0mIndex\u001b[0m\u001b[1;33m)\u001b[0m\u001b[1;33m)\u001b[0m\u001b[1;33m:\u001b[0m\u001b[1;33m\u001b[0m\u001b[1;33m\u001b[0m\u001b[0m\n\u001b[0;32m   3766\u001b[0m                 \u001b[1;32mif\u001b[0m \u001b[0misinstance\u001b[0m\u001b[1;33m(\u001b[0m\u001b[0mvalue\u001b[0m\u001b[1;33m,\u001b[0m \u001b[0mlist\u001b[0m\u001b[1;33m)\u001b[0m \u001b[1;32mand\u001b[0m \u001b[0mlen\u001b[0m\u001b[1;33m(\u001b[0m\u001b[0mvalue\u001b[0m\u001b[1;33m)\u001b[0m \u001b[1;33m>\u001b[0m \u001b[1;36m0\u001b[0m\u001b[1;33m:\u001b[0m\u001b[1;33m\u001b[0m\u001b[1;33m\u001b[0m\u001b[0m\n",
      "\u001b[1;32m~\\anaconda3\\lib\\site-packages\\pandas\\core\\internals\\construction.py\u001b[0m in \u001b[0;36msanitize_index\u001b[1;34m(data, index)\u001b[0m\n\u001b[0;32m    745\u001b[0m     \"\"\"\n\u001b[0;32m    746\u001b[0m     \u001b[1;32mif\u001b[0m \u001b[0mlen\u001b[0m\u001b[1;33m(\u001b[0m\u001b[0mdata\u001b[0m\u001b[1;33m)\u001b[0m \u001b[1;33m!=\u001b[0m \u001b[0mlen\u001b[0m\u001b[1;33m(\u001b[0m\u001b[0mindex\u001b[0m\u001b[1;33m)\u001b[0m\u001b[1;33m:\u001b[0m\u001b[1;33m\u001b[0m\u001b[1;33m\u001b[0m\u001b[0m\n\u001b[1;32m--> 747\u001b[1;33m         raise ValueError(\n\u001b[0m\u001b[0;32m    748\u001b[0m             \u001b[1;34m\"Length of values \"\u001b[0m\u001b[1;33m\u001b[0m\u001b[1;33m\u001b[0m\u001b[0m\n\u001b[0;32m    749\u001b[0m             \u001b[1;34mf\"({len(data)}) \"\u001b[0m\u001b[1;33m\u001b[0m\u001b[1;33m\u001b[0m\u001b[0m\n",
      "\u001b[1;31mValueError\u001b[0m: Length of values (39) does not match length of index (40)"
     ]
    }
   ],
   "source": [
    "#import pandas as pd\n",
    "jobs=pd.DataFrame({})\n",
    "jobs['brand']=Brand\n",
    "jobs['product']=Product_Description\n",
    "jobs['price']=Price\n",
    "jobs['DISC']=Discount"
   ]
  },
  {
   "cell_type": "code",
   "execution_count": 91,
   "metadata": {},
   "outputs": [
    {
     "data": {
      "text/html": [
       "<div>\n",
       "<style scoped>\n",
       "    .dataframe tbody tr th:only-of-type {\n",
       "        vertical-align: middle;\n",
       "    }\n",
       "\n",
       "    .dataframe tbody tr th {\n",
       "        vertical-align: top;\n",
       "    }\n",
       "\n",
       "    .dataframe thead th {\n",
       "        text-align: right;\n",
       "    }\n",
       "</style>\n",
       "<table border=\"1\" class=\"dataframe\">\n",
       "  <thead>\n",
       "    <tr style=\"text-align: right;\">\n",
       "      <th></th>\n",
       "      <th>brand</th>\n",
       "    </tr>\n",
       "  </thead>\n",
       "  <tbody>\n",
       "    <tr>\n",
       "      <th>0</th>\n",
       "      <td>shadz</td>\n",
       "    </tr>\n",
       "    <tr>\n",
       "      <th>1</th>\n",
       "      <td>hipe</td>\n",
       "    </tr>\n",
       "    <tr>\n",
       "      <th>2</th>\n",
       "      <td>PIRASO</td>\n",
       "    </tr>\n",
       "    <tr>\n",
       "      <th>3</th>\n",
       "      <td>Fastrack</td>\n",
       "    </tr>\n",
       "    <tr>\n",
       "      <th>4</th>\n",
       "      <td>Fastrack</td>\n",
       "    </tr>\n",
       "    <tr>\n",
       "      <th>5</th>\n",
       "      <td>PIRASO</td>\n",
       "    </tr>\n",
       "    <tr>\n",
       "      <th>6</th>\n",
       "      <td>Silver Kartz</td>\n",
       "    </tr>\n",
       "    <tr>\n",
       "      <th>7</th>\n",
       "      <td>Fastrack</td>\n",
       "    </tr>\n",
       "    <tr>\n",
       "      <th>8</th>\n",
       "      <td>Fastrack</td>\n",
       "    </tr>\n",
       "    <tr>\n",
       "      <th>9</th>\n",
       "      <td>ROZZETTA CRAFT</td>\n",
       "    </tr>\n",
       "    <tr>\n",
       "      <th>10</th>\n",
       "      <td>ROZZETTA CRAFT</td>\n",
       "    </tr>\n",
       "    <tr>\n",
       "      <th>11</th>\n",
       "      <td>phenomenal</td>\n",
       "    </tr>\n",
       "    <tr>\n",
       "      <th>12</th>\n",
       "      <td>Fastrack</td>\n",
       "    </tr>\n",
       "    <tr>\n",
       "      <th>13</th>\n",
       "      <td>PIRASO</td>\n",
       "    </tr>\n",
       "    <tr>\n",
       "      <th>14</th>\n",
       "      <td>Singco India</td>\n",
       "    </tr>\n",
       "    <tr>\n",
       "      <th>15</th>\n",
       "      <td>PIRASO</td>\n",
       "    </tr>\n",
       "    <tr>\n",
       "      <th>16</th>\n",
       "      <td>phenomenal</td>\n",
       "    </tr>\n",
       "    <tr>\n",
       "      <th>17</th>\n",
       "      <td>Fastrack</td>\n",
       "    </tr>\n",
       "    <tr>\n",
       "      <th>18</th>\n",
       "      <td>Singco India</td>\n",
       "    </tr>\n",
       "    <tr>\n",
       "      <th>19</th>\n",
       "      <td>Aislin</td>\n",
       "    </tr>\n",
       "    <tr>\n",
       "      <th>20</th>\n",
       "      <td>HIPPON</td>\n",
       "    </tr>\n",
       "    <tr>\n",
       "      <th>21</th>\n",
       "      <td>Fastrack</td>\n",
       "    </tr>\n",
       "    <tr>\n",
       "      <th>22</th>\n",
       "      <td>Fastrack</td>\n",
       "    </tr>\n",
       "    <tr>\n",
       "      <th>23</th>\n",
       "      <td>ROYAL SON</td>\n",
       "    </tr>\n",
       "    <tr>\n",
       "      <th>24</th>\n",
       "      <td>Fastrack</td>\n",
       "    </tr>\n",
       "    <tr>\n",
       "      <th>25</th>\n",
       "      <td>DEIXELS</td>\n",
       "    </tr>\n",
       "    <tr>\n",
       "      <th>26</th>\n",
       "      <td>PIRASO</td>\n",
       "    </tr>\n",
       "    <tr>\n",
       "      <th>27</th>\n",
       "      <td>ROZZETTA CRAFT</td>\n",
       "    </tr>\n",
       "    <tr>\n",
       "      <th>28</th>\n",
       "      <td>Singco India</td>\n",
       "    </tr>\n",
       "    <tr>\n",
       "      <th>29</th>\n",
       "      <td>Aislin</td>\n",
       "    </tr>\n",
       "    <tr>\n",
       "      <th>30</th>\n",
       "      <td>DEIXELS</td>\n",
       "    </tr>\n",
       "    <tr>\n",
       "      <th>31</th>\n",
       "      <td>Singco India</td>\n",
       "    </tr>\n",
       "    <tr>\n",
       "      <th>32</th>\n",
       "      <td>phenomenal</td>\n",
       "    </tr>\n",
       "    <tr>\n",
       "      <th>33</th>\n",
       "      <td>ROYAL SON</td>\n",
       "    </tr>\n",
       "    <tr>\n",
       "      <th>34</th>\n",
       "      <td>PIRASO</td>\n",
       "    </tr>\n",
       "    <tr>\n",
       "      <th>35</th>\n",
       "      <td>ROZZETTA CRAFT</td>\n",
       "    </tr>\n",
       "    <tr>\n",
       "      <th>36</th>\n",
       "      <td>Fastrack</td>\n",
       "    </tr>\n",
       "    <tr>\n",
       "      <th>37</th>\n",
       "      <td>ROYAL SON</td>\n",
       "    </tr>\n",
       "    <tr>\n",
       "      <th>38</th>\n",
       "      <td>ROYAL SON</td>\n",
       "    </tr>\n",
       "    <tr>\n",
       "      <th>39</th>\n",
       "      <td>ROYAL SON</td>\n",
       "    </tr>\n",
       "  </tbody>\n",
       "</table>\n",
       "</div>"
      ],
      "text/plain": [
       "             brand\n",
       "0            shadz\n",
       "1             hipe\n",
       "2           PIRASO\n",
       "3         Fastrack\n",
       "4         Fastrack\n",
       "5           PIRASO\n",
       "6     Silver Kartz\n",
       "7         Fastrack\n",
       "8         Fastrack\n",
       "9   ROZZETTA CRAFT\n",
       "10  ROZZETTA CRAFT\n",
       "11      phenomenal\n",
       "12        Fastrack\n",
       "13          PIRASO\n",
       "14    Singco India\n",
       "15          PIRASO\n",
       "16      phenomenal\n",
       "17        Fastrack\n",
       "18    Singco India\n",
       "19          Aislin\n",
       "20          HIPPON\n",
       "21        Fastrack\n",
       "22        Fastrack\n",
       "23       ROYAL SON\n",
       "24        Fastrack\n",
       "25         DEIXELS\n",
       "26          PIRASO\n",
       "27  ROZZETTA CRAFT\n",
       "28    Singco India\n",
       "29          Aislin\n",
       "30         DEIXELS\n",
       "31    Singco India\n",
       "32      phenomenal\n",
       "33       ROYAL SON\n",
       "34          PIRASO\n",
       "35  ROZZETTA CRAFT\n",
       "36        Fastrack\n",
       "37       ROYAL SON\n",
       "38       ROYAL SON\n",
       "39       ROYAL SON"
      ]
     },
     "execution_count": 91,
     "metadata": {},
     "output_type": "execute_result"
    }
   ],
   "source": [
    "jobs"
   ]
  },
  {
   "cell_type": "markdown",
   "metadata": {},
   "source": [
    "# Q7:"
   ]
  },
  {
   "cell_type": "code",
   "execution_count": 92,
   "metadata": {},
   "outputs": [],
   "source": [
    "#lets now import all the required libraries\n",
    "import selenium\n",
    "import pandas as pd\n",
    "from selenium import webdriver"
   ]
  },
  {
   "cell_type": "code",
   "execution_count": 136,
   "metadata": {},
   "outputs": [],
   "source": [
    "#lets first connect to the web driver\n",
    "driver= webdriver.Chrome(r\"c:\\chromedriver.exe\")"
   ]
  },
  {
   "cell_type": "code",
   "execution_count": 94,
   "metadata": {},
   "outputs": [],
   "source": [
    "#specifying the url of the webpage to be scraped\n",
    "url=\"https://www.flipkart.com/apple-iphone-11-black-64-gb-includes-earpods-power-adapter/p/itm0f37c2240b217?pid=MOBFKCTSVZAXUHGR&lid=LSTMOBFKCTSVZAXUHGREPBFGI&marketplace\""
   ]
  },
  {
   "cell_type": "code",
   "execution_count": 95,
   "metadata": {},
   "outputs": [],
   "source": [
    "#lets open the webpage through our web driver\n",
    "driver.get(url)"
   ]
  },
  {
   "cell_type": "code",
   "execution_count": 96,
   "metadata": {},
   "outputs": [],
   "source": [
    "Rating=[]\n",
    "Review_summary=[]\n",
    "Full_review=[]"
   ]
  },
  {
   "cell_type": "markdown",
   "metadata": {},
   "source": [
    "Rating"
   ]
  },
  {
   "cell_type": "code",
   "execution_count": 97,
   "metadata": {},
   "outputs": [
    {
     "data": {
      "text/plain": [
       "[<selenium.webdriver.remote.webelement.WebElement (session=\"20c618025649b1330602d657b514bcfe\", element=\"d948418a-b654-466b-ac61-6d5045c3163b\")>,\n",
       " <selenium.webdriver.remote.webelement.WebElement (session=\"20c618025649b1330602d657b514bcfe\", element=\"2d96d840-75ed-48a7-a855-82f7b575cd15\")>,\n",
       " <selenium.webdriver.remote.webelement.WebElement (session=\"20c618025649b1330602d657b514bcfe\", element=\"a9bf9777-0561-4b7e-a464-60eb19425288\")>,\n",
       " <selenium.webdriver.remote.webelement.WebElement (session=\"20c618025649b1330602d657b514bcfe\", element=\"d8ad2722-8046-468e-9d5e-2463a2c053d5\")>,\n",
       " <selenium.webdriver.remote.webelement.WebElement (session=\"20c618025649b1330602d657b514bcfe\", element=\"9eb6747d-810b-4298-9f7d-6cdcb4ab21b8\")>,\n",
       " <selenium.webdriver.remote.webelement.WebElement (session=\"20c618025649b1330602d657b514bcfe\", element=\"ec1a5135-ea45-411a-ba48-6ac05b79ae28\")>,\n",
       " <selenium.webdriver.remote.webelement.WebElement (session=\"20c618025649b1330602d657b514bcfe\", element=\"93090a20-9f9a-47e6-9eaa-90dacb492aed\")>,\n",
       " <selenium.webdriver.remote.webelement.WebElement (session=\"20c618025649b1330602d657b514bcfe\", element=\"b7b5893f-8612-40e7-a024-b1eb2d0b3220\")>,\n",
       " <selenium.webdriver.remote.webelement.WebElement (session=\"20c618025649b1330602d657b514bcfe\", element=\"3593409c-15af-431c-9655-2a28aee63c81\")>,\n",
       " <selenium.webdriver.remote.webelement.WebElement (session=\"20c618025649b1330602d657b514bcfe\", element=\"59a09660-6060-440e-a67b-2b513a87a381\")>]"
      ]
     },
     "execution_count": 97,
     "metadata": {},
     "output_type": "execute_result"
    }
   ],
   "source": [
    "#so lets extract all the tags having the ratings\n",
    "rating_tags=driver.find_elements_by_xpath(\"//div[@class='_3LWZlK _1BLPMq']\")\n",
    "rating_tags[0:100]"
   ]
  },
  {
   "cell_type": "code",
   "execution_count": 98,
   "metadata": {},
   "outputs": [
    {
     "data": {
      "text/plain": [
       "['5', '5', '5', '', '', '', '', '', '', '']"
      ]
     },
     "execution_count": 98,
     "metadata": {},
     "output_type": "execute_result"
    }
   ],
   "source": [
    "for i in rating_tags:\n",
    "    rating=i.text\n",
    "    Rating.append(rating)\n",
    "Rating[0:100]"
   ]
  },
  {
   "cell_type": "markdown",
   "metadata": {},
   "source": [
    "Review_summary"
   ]
  },
  {
   "cell_type": "code",
   "execution_count": 99,
   "metadata": {},
   "outputs": [
    {
     "data": {
      "text/plain": [
       "[<selenium.webdriver.remote.webelement.WebElement (session=\"20c618025649b1330602d657b514bcfe\", element=\"43d0d7cc-dbc4-40b1-9c68-81b066efe5e5\")>,\n",
       " <selenium.webdriver.remote.webelement.WebElement (session=\"20c618025649b1330602d657b514bcfe\", element=\"23b2c61f-b075-4937-b1c4-767d1ab6c75f\")>,\n",
       " <selenium.webdriver.remote.webelement.WebElement (session=\"20c618025649b1330602d657b514bcfe\", element=\"0244384c-09ab-456a-b7ba-ef17817bd08f\")>,\n",
       " <selenium.webdriver.remote.webelement.WebElement (session=\"20c618025649b1330602d657b514bcfe\", element=\"6c763c90-7ea0-44e3-a1e0-c7654517c77b\")>,\n",
       " <selenium.webdriver.remote.webelement.WebElement (session=\"20c618025649b1330602d657b514bcfe\", element=\"b937cda1-8564-4af6-8a19-307fbadc592e\")>,\n",
       " <selenium.webdriver.remote.webelement.WebElement (session=\"20c618025649b1330602d657b514bcfe\", element=\"96bbefdc-7c03-4266-b6d1-1a657c41b62b\")>,\n",
       " <selenium.webdriver.remote.webelement.WebElement (session=\"20c618025649b1330602d657b514bcfe\", element=\"6daa6479-4e08-4d65-ae12-2b50fe114ed7\")>,\n",
       " <selenium.webdriver.remote.webelement.WebElement (session=\"20c618025649b1330602d657b514bcfe\", element=\"574f5ecf-8be9-437f-b46a-49504ca01f84\")>,\n",
       " <selenium.webdriver.remote.webelement.WebElement (session=\"20c618025649b1330602d657b514bcfe\", element=\"8ca5ea97-cdb2-466b-a345-ae854f79219f\")>,\n",
       " <selenium.webdriver.remote.webelement.WebElement (session=\"20c618025649b1330602d657b514bcfe\", element=\"0bb51d54-fa40-4e52-8fa5-85d54526fc0a\")>]"
      ]
     },
     "execution_count": 99,
     "metadata": {},
     "output_type": "execute_result"
    }
   ],
   "source": [
    "#so lets extract all the tags having the summary review\n",
    "rev_tags=driver.find_elements_by_xpath(\"//p[@class='_2-N8zT']\")\n",
    "rev_tags[0:100]"
   ]
  },
  {
   "cell_type": "code",
   "execution_count": 100,
   "metadata": {},
   "outputs": [
    {
     "data": {
      "text/plain": [
       "['Brilliant',\n",
       " 'Perfect product!',\n",
       " 'Worth every penny',\n",
       " '',\n",
       " '',\n",
       " '',\n",
       " '',\n",
       " '',\n",
       " '',\n",
       " '']"
      ]
     },
     "execution_count": 100,
     "metadata": {},
     "output_type": "execute_result"
    }
   ],
   "source": [
    "for i in rev_tags:\n",
    "    Review=i.text\n",
    "    Review_summary.append(Review)\n",
    "Review_summary[0:100]"
   ]
  },
  {
   "cell_type": "markdown",
   "metadata": {},
   "source": [
    "Full_review"
   ]
  },
  {
   "cell_type": "code",
   "execution_count": 101,
   "metadata": {},
   "outputs": [
    {
     "data": {
      "text/plain": [
       "[<selenium.webdriver.remote.webelement.WebElement (session=\"20c618025649b1330602d657b514bcfe\", element=\"2a1f771c-5f6c-4962-8126-fbec3af5ef02\")>,\n",
       " <selenium.webdriver.remote.webelement.WebElement (session=\"20c618025649b1330602d657b514bcfe\", element=\"819805aa-5ec6-4f21-9edf-6372621c8ede\")>,\n",
       " <selenium.webdriver.remote.webelement.WebElement (session=\"20c618025649b1330602d657b514bcfe\", element=\"c819fec3-9788-48eb-a81f-0dbe7ce96669\")>,\n",
       " <selenium.webdriver.remote.webelement.WebElement (session=\"20c618025649b1330602d657b514bcfe\", element=\"6100a3b7-3f58-4dc4-a918-f5083b28a5cf\")>,\n",
       " <selenium.webdriver.remote.webelement.WebElement (session=\"20c618025649b1330602d657b514bcfe\", element=\"512439d6-1151-4b09-ae05-ce78eddb3e36\")>,\n",
       " <selenium.webdriver.remote.webelement.WebElement (session=\"20c618025649b1330602d657b514bcfe\", element=\"bd77e12e-a38d-4fb4-958f-66b99e7c8c4a\")>,\n",
       " <selenium.webdriver.remote.webelement.WebElement (session=\"20c618025649b1330602d657b514bcfe\", element=\"f88f43ad-2dc9-40cf-a3cb-595017b7106f\")>,\n",
       " <selenium.webdriver.remote.webelement.WebElement (session=\"20c618025649b1330602d657b514bcfe\", element=\"867b8bcf-9ef1-4d08-8b84-ae9859598a82\")>,\n",
       " <selenium.webdriver.remote.webelement.WebElement (session=\"20c618025649b1330602d657b514bcfe\", element=\"b225cfda-180c-4ff1-937f-8f51daf422fa\")>,\n",
       " <selenium.webdriver.remote.webelement.WebElement (session=\"20c618025649b1330602d657b514bcfe\", element=\"48a3b03f-da14-4cf9-bc64-6805e48790f1\")>]"
      ]
     },
     "execution_count": 101,
     "metadata": {},
     "output_type": "execute_result"
    }
   ],
   "source": [
    "#so lets extract all the tags having the full review\n",
    "fr_tags=driver.find_elements_by_xpath(\"//div[@class='t-ZTKy']\")\n",
    "fr_tags[0:100]\n"
   ]
  },
  {
   "cell_type": "code",
   "execution_count": 102,
   "metadata": {},
   "outputs": [
    {
     "data": {
      "text/plain": [
       "['The Best Phone for the Money\\n\\nThe iPhone 11 offers superb cameras, a more durable design and excellent battery life for an affordable price.\\n\\nCompelling ultra-wide camera\\nNew Night mode is excellent\\nLong battery life',\n",
       " 'Amazing phone with great cameras and better battery which gives you the best performance. I just love the camera .',\n",
       " 'Previously I was using one plus 3t it was a great phone\\nAnd then I decided to upgrade I am stuck between Samsung s10 plus or iPhone 11\\nI have seen the specs and everything were good except the display it’s somewhere between 720-1080 and it’s not even an amoled it’s an LCD display\\nBut I decided to go with iPhone because I have never used an IOS device I have Been an android user from the past 9 years I ordered IPhone 11 (128gb) product red\\nMy experience after using 3 weeks\\n1. The delivery ...\\nREAD MORE',\n",
       " '',\n",
       " '',\n",
       " '',\n",
       " '',\n",
       " '',\n",
       " '',\n",
       " '']"
      ]
     },
     "execution_count": 102,
     "metadata": {},
     "output_type": "execute_result"
    }
   ],
   "source": [
    "for i in fr_tags:\n",
    "    fullreview=i.text\n",
    "    Full_review.append(fullreview)\n",
    "Full_review[0:100]"
   ]
  },
  {
   "cell_type": "markdown",
   "metadata": {},
   "source": [
    "# Q8:"
   ]
  },
  {
   "cell_type": "code",
   "execution_count": 103,
   "metadata": {},
   "outputs": [],
   "source": [
    "driver.get('https://www.flipkart.com/')"
   ]
  },
  {
   "cell_type": "code",
   "execution_count": 104,
   "metadata": {},
   "outputs": [],
   "source": [
    "#specifying the url of the webpage to be scraped\n",
    "url=\"https://www.flipkart.com/search?q=sneakers&otracker=search&otracker1=search&marketplace=FLIPKART&as-show=on&as=off\""
   ]
  },
  {
   "cell_type": "code",
   "execution_count": 105,
   "metadata": {},
   "outputs": [],
   "source": [
    "#lets open the webpage through our web driver\n",
    "driver.get(url)"
   ]
  },
  {
   "cell_type": "code",
   "execution_count": 106,
   "metadata": {},
   "outputs": [],
   "source": [
    "Brand=[]\n",
    "Product_Description=[]\n",
    "Price=[]\n",
    "discount=[]"
   ]
  },
  {
   "cell_type": "code",
   "execution_count": 107,
   "metadata": {
    "scrolled": true
   },
   "outputs": [
    {
     "data": {
      "text/plain": [
       "[<selenium.webdriver.remote.webelement.WebElement (session=\"20c618025649b1330602d657b514bcfe\", element=\"b51d9ff8-e177-4901-be15-c00b64c79e7f\")>,\n",
       " <selenium.webdriver.remote.webelement.WebElement (session=\"20c618025649b1330602d657b514bcfe\", element=\"93ecd001-2421-4422-9520-02734d86abf3\")>,\n",
       " <selenium.webdriver.remote.webelement.WebElement (session=\"20c618025649b1330602d657b514bcfe\", element=\"f27179af-20a5-48ca-90d4-e4359ba12547\")>,\n",
       " <selenium.webdriver.remote.webelement.WebElement (session=\"20c618025649b1330602d657b514bcfe\", element=\"ef9924a2-abb2-45d9-ba52-ca2e1bd08279\")>,\n",
       " <selenium.webdriver.remote.webelement.WebElement (session=\"20c618025649b1330602d657b514bcfe\", element=\"997bae68-c0de-430f-a3f9-944b9c89b1ce\")>,\n",
       " <selenium.webdriver.remote.webelement.WebElement (session=\"20c618025649b1330602d657b514bcfe\", element=\"caf3e1c5-7b7d-4e20-a570-bf4b9c72bbde\")>,\n",
       " <selenium.webdriver.remote.webelement.WebElement (session=\"20c618025649b1330602d657b514bcfe\", element=\"fa0306bb-3535-411e-a8b1-54347281b20f\")>,\n",
       " <selenium.webdriver.remote.webelement.WebElement (session=\"20c618025649b1330602d657b514bcfe\", element=\"c5d4ff39-955e-4914-9ad8-4037333692e7\")>,\n",
       " <selenium.webdriver.remote.webelement.WebElement (session=\"20c618025649b1330602d657b514bcfe\", element=\"52bdcba7-3bb7-42f8-99e0-6e46b1d95b14\")>,\n",
       " <selenium.webdriver.remote.webelement.WebElement (session=\"20c618025649b1330602d657b514bcfe\", element=\"084f9a9c-95cd-4c46-bb74-da94a5c97bb3\")>,\n",
       " <selenium.webdriver.remote.webelement.WebElement (session=\"20c618025649b1330602d657b514bcfe\", element=\"346743a0-908f-4ac5-b86b-5124519db835\")>,\n",
       " <selenium.webdriver.remote.webelement.WebElement (session=\"20c618025649b1330602d657b514bcfe\", element=\"06ac9d21-140f-491d-b522-5ccef9587652\")>,\n",
       " <selenium.webdriver.remote.webelement.WebElement (session=\"20c618025649b1330602d657b514bcfe\", element=\"bee76c9d-271d-4a42-9eee-0549b583c90c\")>,\n",
       " <selenium.webdriver.remote.webelement.WebElement (session=\"20c618025649b1330602d657b514bcfe\", element=\"8a349143-e60e-4142-ad9c-8f1c92d4b49e\")>,\n",
       " <selenium.webdriver.remote.webelement.WebElement (session=\"20c618025649b1330602d657b514bcfe\", element=\"f61cd527-c9e1-4d9b-8b3c-001d1f6f50ec\")>,\n",
       " <selenium.webdriver.remote.webelement.WebElement (session=\"20c618025649b1330602d657b514bcfe\", element=\"a4b0bcb2-e590-4921-8e0e-a5f4f96050c0\")>,\n",
       " <selenium.webdriver.remote.webelement.WebElement (session=\"20c618025649b1330602d657b514bcfe\", element=\"02962a03-0a9f-4149-be3d-dd5e1a6a18df\")>,\n",
       " <selenium.webdriver.remote.webelement.WebElement (session=\"20c618025649b1330602d657b514bcfe\", element=\"c439d06d-dbc3-46e2-9058-df0b83b20b59\")>,\n",
       " <selenium.webdriver.remote.webelement.WebElement (session=\"20c618025649b1330602d657b514bcfe\", element=\"26dd89e0-cef1-4c5e-84f5-a600027c413b\")>,\n",
       " <selenium.webdriver.remote.webelement.WebElement (session=\"20c618025649b1330602d657b514bcfe\", element=\"5bbe1fd7-bc4e-482c-b043-8e9c4c777d61\")>,\n",
       " <selenium.webdriver.remote.webelement.WebElement (session=\"20c618025649b1330602d657b514bcfe\", element=\"b90c38f3-40fa-4e52-a2fa-3a5f0e4634d4\")>,\n",
       " <selenium.webdriver.remote.webelement.WebElement (session=\"20c618025649b1330602d657b514bcfe\", element=\"7834344e-7a4a-455c-8982-4518a5808a1a\")>,\n",
       " <selenium.webdriver.remote.webelement.WebElement (session=\"20c618025649b1330602d657b514bcfe\", element=\"28a9e03a-96f2-45b0-b4f6-85e9c6aee1b0\")>,\n",
       " <selenium.webdriver.remote.webelement.WebElement (session=\"20c618025649b1330602d657b514bcfe\", element=\"d2151546-ebc1-4d1e-8eec-e265245cd1d4\")>,\n",
       " <selenium.webdriver.remote.webelement.WebElement (session=\"20c618025649b1330602d657b514bcfe\", element=\"4322be80-c9b9-46e5-80f8-2b57cdbe3b48\")>,\n",
       " <selenium.webdriver.remote.webelement.WebElement (session=\"20c618025649b1330602d657b514bcfe\", element=\"0541f033-c1b8-4fde-94ec-a74385060dff\")>,\n",
       " <selenium.webdriver.remote.webelement.WebElement (session=\"20c618025649b1330602d657b514bcfe\", element=\"e2744914-2744-4f90-be03-046e85fd03a5\")>,\n",
       " <selenium.webdriver.remote.webelement.WebElement (session=\"20c618025649b1330602d657b514bcfe\", element=\"861976b0-953d-40e2-8191-06d39825df51\")>,\n",
       " <selenium.webdriver.remote.webelement.WebElement (session=\"20c618025649b1330602d657b514bcfe\", element=\"1bca7924-2673-487f-be5b-e128940184b8\")>,\n",
       " <selenium.webdriver.remote.webelement.WebElement (session=\"20c618025649b1330602d657b514bcfe\", element=\"40df0969-995e-4fbf-9624-c5e743029601\")>,\n",
       " <selenium.webdriver.remote.webelement.WebElement (session=\"20c618025649b1330602d657b514bcfe\", element=\"9a6fb696-fd5b-48a1-98dc-2e8871da0cab\")>,\n",
       " <selenium.webdriver.remote.webelement.WebElement (session=\"20c618025649b1330602d657b514bcfe\", element=\"9797e8df-dff3-40ce-945d-02f01f8beb04\")>,\n",
       " <selenium.webdriver.remote.webelement.WebElement (session=\"20c618025649b1330602d657b514bcfe\", element=\"0d15a551-ed16-43cf-af78-03f48dd5e71d\")>,\n",
       " <selenium.webdriver.remote.webelement.WebElement (session=\"20c618025649b1330602d657b514bcfe\", element=\"4115c878-b8e5-4ded-810b-a94136a61847\")>,\n",
       " <selenium.webdriver.remote.webelement.WebElement (session=\"20c618025649b1330602d657b514bcfe\", element=\"3efa0bfd-7606-4604-8227-b838c4f1fcce\")>,\n",
       " <selenium.webdriver.remote.webelement.WebElement (session=\"20c618025649b1330602d657b514bcfe\", element=\"e4e4f70d-6379-47bd-bd21-132486ad4f24\")>,\n",
       " <selenium.webdriver.remote.webelement.WebElement (session=\"20c618025649b1330602d657b514bcfe\", element=\"779c8a4c-38c6-4e97-9eda-c27be2406bb8\")>,\n",
       " <selenium.webdriver.remote.webelement.WebElement (session=\"20c618025649b1330602d657b514bcfe\", element=\"666e7107-887d-483d-bb59-8ca426b968fe\")>,\n",
       " <selenium.webdriver.remote.webelement.WebElement (session=\"20c618025649b1330602d657b514bcfe\", element=\"1d62c999-9fec-41d6-af6d-69331fc8f157\")>,\n",
       " <selenium.webdriver.remote.webelement.WebElement (session=\"20c618025649b1330602d657b514bcfe\", element=\"60e98e78-248e-4aff-a3cb-1084d4a16513\")>]"
      ]
     },
     "execution_count": 107,
     "metadata": {},
     "output_type": "execute_result"
    }
   ],
   "source": [
    "#so lets extract all the tags having the brand\n",
    "brnd_tags=driver.find_elements_by_xpath(\"//div[@class='_2WkVRV']\")\n",
    "brnd_tags[0:100]"
   ]
  },
  {
   "cell_type": "code",
   "execution_count": 108,
   "metadata": {
    "scrolled": true
   },
   "outputs": [
    {
     "data": {
      "text/plain": [
       "['French Connection',\n",
       " 'DUCATI',\n",
       " 'Chevit',\n",
       " 'Extoes',\n",
       " 'Robbie jones',\n",
       " 'Chevit',\n",
       " 'Robbie jones',\n",
       " 'ORICUM',\n",
       " 'Chevit',\n",
       " 'Shoes Bank',\n",
       " 'aadi',\n",
       " 'Chevit',\n",
       " 'Chevit',\n",
       " 'DUCATI',\n",
       " 'Red Rose',\n",
       " 'Numenzo',\n",
       " 'believe',\n",
       " '\"trend\"',\n",
       " 'Raftar',\n",
       " 'DUCATI',\n",
       " 'T-ROCK',\n",
       " 'Magnolia',\n",
       " 'Chevit',\n",
       " 'French Connection',\n",
       " 'Chevit',\n",
       " 'Chevit',\n",
       " 'HOTSTYLE',\n",
       " 'HOTSTYLE',\n",
       " 'Birde',\n",
       " 'DUCATI',\n",
       " 'Bonexy',\n",
       " 'SCATCHITE',\n",
       " 'Magnolia',\n",
       " 'BRUTON',\n",
       " 'Echor',\n",
       " 'SPARX',\n",
       " 'TR',\n",
       " 'Stefano Rads',\n",
       " 'ESSENCE',\n",
       " 'oxpeo']"
      ]
     },
     "execution_count": 108,
     "metadata": {},
     "output_type": "execute_result"
    }
   ],
   "source": [
    "for i in brnd_tags:\n",
    "    brand=i.text\n",
    "    Brand.append(brand)\n",
    "Brand[0:100]\n"
   ]
  },
  {
   "cell_type": "markdown",
   "metadata": {},
   "source": [
    "Product_Description"
   ]
  },
  {
   "cell_type": "code",
   "execution_count": 109,
   "metadata": {
    "scrolled": true
   },
   "outputs": [
    {
     "data": {
      "text/plain": [
       "[<selenium.webdriver.remote.webelement.WebElement (session=\"20c618025649b1330602d657b514bcfe\", element=\"11ed0af4-758e-4242-bc81-179b8a61270c\")>,\n",
       " <selenium.webdriver.remote.webelement.WebElement (session=\"20c618025649b1330602d657b514bcfe\", element=\"c2f72b12-0dca-4664-9a23-118d7c8fb98f\")>,\n",
       " <selenium.webdriver.remote.webelement.WebElement (session=\"20c618025649b1330602d657b514bcfe\", element=\"e98a9a23-598d-42a6-adfe-b885f56f5293\")>,\n",
       " <selenium.webdriver.remote.webelement.WebElement (session=\"20c618025649b1330602d657b514bcfe\", element=\"bc7fd46a-aedd-4cc4-99e9-eef8214bf733\")>,\n",
       " <selenium.webdriver.remote.webelement.WebElement (session=\"20c618025649b1330602d657b514bcfe\", element=\"f9cf7eeb-ff88-41b5-94d0-2c31e1f588ed\")>,\n",
       " <selenium.webdriver.remote.webelement.WebElement (session=\"20c618025649b1330602d657b514bcfe\", element=\"5623e317-ac63-4dc6-8b0c-213ca9c1b662\")>,\n",
       " <selenium.webdriver.remote.webelement.WebElement (session=\"20c618025649b1330602d657b514bcfe\", element=\"80a7d9a6-843c-49ea-a7d1-091b7d9af033\")>,\n",
       " <selenium.webdriver.remote.webelement.WebElement (session=\"20c618025649b1330602d657b514bcfe\", element=\"284a24d9-b740-4a7f-a092-a0924ef18349\")>,\n",
       " <selenium.webdriver.remote.webelement.WebElement (session=\"20c618025649b1330602d657b514bcfe\", element=\"d4d32b6d-4853-4ac7-a9af-31e46654cd38\")>,\n",
       " <selenium.webdriver.remote.webelement.WebElement (session=\"20c618025649b1330602d657b514bcfe\", element=\"5d7ad4cb-49a5-4c2d-b269-1c4f0c19a0bc\")>,\n",
       " <selenium.webdriver.remote.webelement.WebElement (session=\"20c618025649b1330602d657b514bcfe\", element=\"c0118116-af39-4486-9716-19d6170d5423\")>,\n",
       " <selenium.webdriver.remote.webelement.WebElement (session=\"20c618025649b1330602d657b514bcfe\", element=\"9c4ae073-c2e9-4457-9f3d-0e944f6bf259\")>,\n",
       " <selenium.webdriver.remote.webelement.WebElement (session=\"20c618025649b1330602d657b514bcfe\", element=\"daccad01-8f26-40c1-a891-a2c856ff9619\")>,\n",
       " <selenium.webdriver.remote.webelement.WebElement (session=\"20c618025649b1330602d657b514bcfe\", element=\"36fe3206-ee35-40ee-9fbd-bafac99dbfb8\")>,\n",
       " <selenium.webdriver.remote.webelement.WebElement (session=\"20c618025649b1330602d657b514bcfe\", element=\"6d0fb9a1-c14d-4290-bc7a-88d29bf6349d\")>,\n",
       " <selenium.webdriver.remote.webelement.WebElement (session=\"20c618025649b1330602d657b514bcfe\", element=\"13a14f64-8b62-49e8-a77e-a8711a0909c1\")>,\n",
       " <selenium.webdriver.remote.webelement.WebElement (session=\"20c618025649b1330602d657b514bcfe\", element=\"11fd4d1b-e66b-4a3e-a7ee-29e22cdd95b7\")>,\n",
       " <selenium.webdriver.remote.webelement.WebElement (session=\"20c618025649b1330602d657b514bcfe\", element=\"b8fbdf99-ac96-4892-964c-ae7de5be60bc\")>,\n",
       " <selenium.webdriver.remote.webelement.WebElement (session=\"20c618025649b1330602d657b514bcfe\", element=\"cb55c537-d37e-425f-8c55-b0d455eaeb13\")>,\n",
       " <selenium.webdriver.remote.webelement.WebElement (session=\"20c618025649b1330602d657b514bcfe\", element=\"231cf179-6aaf-4f30-9b8f-2efbf595dc95\")>,\n",
       " <selenium.webdriver.remote.webelement.WebElement (session=\"20c618025649b1330602d657b514bcfe\", element=\"87530361-03d4-45cc-985b-838c7027aaea\")>,\n",
       " <selenium.webdriver.remote.webelement.WebElement (session=\"20c618025649b1330602d657b514bcfe\", element=\"312243ad-af5c-4e87-a31f-862fba93ae36\")>,\n",
       " <selenium.webdriver.remote.webelement.WebElement (session=\"20c618025649b1330602d657b514bcfe\", element=\"f60c0757-e454-4c00-89ad-02caca257a92\")>,\n",
       " <selenium.webdriver.remote.webelement.WebElement (session=\"20c618025649b1330602d657b514bcfe\", element=\"f8ad0575-713d-4343-9bd9-39bccae8778b\")>,\n",
       " <selenium.webdriver.remote.webelement.WebElement (session=\"20c618025649b1330602d657b514bcfe\", element=\"9ad26734-1ac5-40d5-a9be-02b09e48b0aa\")>,\n",
       " <selenium.webdriver.remote.webelement.WebElement (session=\"20c618025649b1330602d657b514bcfe\", element=\"b8553cfe-99d0-48a7-a904-d8d5b82dae6a\")>,\n",
       " <selenium.webdriver.remote.webelement.WebElement (session=\"20c618025649b1330602d657b514bcfe\", element=\"6b7eadf7-81f7-4e18-b38e-d4ef40f4c961\")>,\n",
       " <selenium.webdriver.remote.webelement.WebElement (session=\"20c618025649b1330602d657b514bcfe\", element=\"2f5bfa1b-5b2c-43ed-84aa-eae03672cd76\")>,\n",
       " <selenium.webdriver.remote.webelement.WebElement (session=\"20c618025649b1330602d657b514bcfe\", element=\"d169844c-4d29-44e4-94c0-a3bf81f2a869\")>,\n",
       " <selenium.webdriver.remote.webelement.WebElement (session=\"20c618025649b1330602d657b514bcfe\", element=\"c8debfe5-156d-4c42-b07d-633b59ee9463\")>,\n",
       " <selenium.webdriver.remote.webelement.WebElement (session=\"20c618025649b1330602d657b514bcfe\", element=\"a5ee2f7a-cfdf-41e1-b4ab-53c250136fde\")>,\n",
       " <selenium.webdriver.remote.webelement.WebElement (session=\"20c618025649b1330602d657b514bcfe\", element=\"7c26ee0f-0a90-4997-9371-f920fba52d41\")>,\n",
       " <selenium.webdriver.remote.webelement.WebElement (session=\"20c618025649b1330602d657b514bcfe\", element=\"4ce5df37-05b3-4a68-8067-34fb59e17c99\")>,\n",
       " <selenium.webdriver.remote.webelement.WebElement (session=\"20c618025649b1330602d657b514bcfe\", element=\"b409a1e0-d19c-480b-8b11-9b91b4fa4648\")>,\n",
       " <selenium.webdriver.remote.webelement.WebElement (session=\"20c618025649b1330602d657b514bcfe\", element=\"8892a75b-3af2-47db-9b14-0e1b15170e0a\")>]"
      ]
     },
     "execution_count": 109,
     "metadata": {},
     "output_type": "execute_result"
    }
   ],
   "source": [
    "#so lets extract all the tags having the description of product\n",
    "desc_tags=driver.find_elements_by_xpath(\"//a[@class='IRpwTa']\")\n",
    "desc_tags[0:100]\n"
   ]
  },
  {
   "cell_type": "code",
   "execution_count": 110,
   "metadata": {
    "scrolled": true
   },
   "outputs": [
    {
     "data": {
      "text/plain": [
       "['Sneakers For Men',\n",
       " 'Sneakers For Men',\n",
       " 'Perfect & Affordable Combo Pack of 02 Pairs Sneakers Ou...',\n",
       " 'Modern Trendy Shoes Combo pack of 4 Sneakers For Men',\n",
       " 'Casual Sneakers Shoes For Men Sneakers For Men',\n",
       " 'Combo Pack of 4 Casual Sneakers With Sneakers For Men',\n",
       " 'Sneakers For Men',\n",
       " 'Combo pack of 2 casual sneaker shoes for men Sneakers F...',\n",
       " '494 Perfect Sports Shoes for Running Training Hikking &...',\n",
       " \"White Sneaker For Men's/Boy's Sneakers For Men\",\n",
       " 'Sneakers For Men',\n",
       " 'Smart Casuals Canvas Shoes Combo pack of 2 Sneakers For...',\n",
       " \"Super & Trendy Men's Pack of 02 Pair Shoes for Boys Cas...\",\n",
       " 'Sneakers For Men',\n",
       " 'Sneakers For Men',\n",
       " 'Sneakers For Men',\n",
       " 'Sneakers for men(black_6) Sneakers For Men',\n",
       " 'Fashionable casual sneakers shoes for men Sneakers For ...',\n",
       " 'Sneakers For Men',\n",
       " 'Synthetic Leather Casual Partywear Wedding Sneakers Sho...',\n",
       " 'White Sneakers Sneakers For Men',\n",
       " '516 Trendy Star Perfect Sneakers For Men',\n",
       " 'Sneakers For Men',\n",
       " '170 Smart Grey Lace-Ups Casuals for Men Sneakers For Me...',\n",
       " '171 Smart Tan Lace-Ups Casuals for Men Sneakers For Men',\n",
       " 'Sneakers Sneakers For Men',\n",
       " \"Men's Stylish Casual Shoes Sneakers For Men\",\n",
       " 'Sneakers For Men',\n",
       " 'Sneakers Sneakers For Men',\n",
       " 'Sneakers For Men',\n",
       " 'Combo Pack Of 5 Casual Sneakers For Men',\n",
       " 'shoes for boys Sneakers For Men',\n",
       " 'Sneakers For Men',\n",
       " 'Sneakers For Men',\n",
       " 'Colourblocked Trending Multicolor Ultralight canvas Spo...']"
      ]
     },
     "execution_count": 110,
     "metadata": {},
     "output_type": "execute_result"
    }
   ],
   "source": [
    "for i in desc_tags:\n",
    "    description=i.text\n",
    "    Product_Description.append(description)\n",
    "Product_Description[0:100]\n"
   ]
  },
  {
   "cell_type": "markdown",
   "metadata": {},
   "source": [
    "Price"
   ]
  },
  {
   "cell_type": "code",
   "execution_count": 111,
   "metadata": {
    "scrolled": true
   },
   "outputs": [
    {
     "data": {
      "text/plain": [
       "[<selenium.webdriver.remote.webelement.WebElement (session=\"20c618025649b1330602d657b514bcfe\", element=\"1f6456e1-32eb-4202-8c8b-e66271f8db6b\")>,\n",
       " <selenium.webdriver.remote.webelement.WebElement (session=\"20c618025649b1330602d657b514bcfe\", element=\"9ff8438c-77f8-4fa1-92bc-15dc199fc417\")>,\n",
       " <selenium.webdriver.remote.webelement.WebElement (session=\"20c618025649b1330602d657b514bcfe\", element=\"e9c9f70c-9f28-4221-b192-69c5eddc57ff\")>,\n",
       " <selenium.webdriver.remote.webelement.WebElement (session=\"20c618025649b1330602d657b514bcfe\", element=\"ac587d5d-8f52-473d-b842-0406b46bc6fd\")>,\n",
       " <selenium.webdriver.remote.webelement.WebElement (session=\"20c618025649b1330602d657b514bcfe\", element=\"d421a28e-4a1e-4cca-8c76-58cf957616fe\")>,\n",
       " <selenium.webdriver.remote.webelement.WebElement (session=\"20c618025649b1330602d657b514bcfe\", element=\"3fe5de90-375f-4d86-bec6-73753d9485e6\")>,\n",
       " <selenium.webdriver.remote.webelement.WebElement (session=\"20c618025649b1330602d657b514bcfe\", element=\"8a263743-b641-4541-863a-15e1a18a5c4f\")>,\n",
       " <selenium.webdriver.remote.webelement.WebElement (session=\"20c618025649b1330602d657b514bcfe\", element=\"4bbf4ebd-f7a1-4dc7-a120-f8560e2d2b43\")>,\n",
       " <selenium.webdriver.remote.webelement.WebElement (session=\"20c618025649b1330602d657b514bcfe\", element=\"a149257f-83f9-44a2-92b1-2c5b93c1865f\")>,\n",
       " <selenium.webdriver.remote.webelement.WebElement (session=\"20c618025649b1330602d657b514bcfe\", element=\"227eca92-fd1e-4c69-b2b6-b563711e8a3c\")>,\n",
       " <selenium.webdriver.remote.webelement.WebElement (session=\"20c618025649b1330602d657b514bcfe\", element=\"70b04f19-f561-48d0-8c1b-994703806e51\")>,\n",
       " <selenium.webdriver.remote.webelement.WebElement (session=\"20c618025649b1330602d657b514bcfe\", element=\"117a759f-5582-4497-a3f9-3ae6bff9b884\")>,\n",
       " <selenium.webdriver.remote.webelement.WebElement (session=\"20c618025649b1330602d657b514bcfe\", element=\"5ec0147e-6bf6-4c0e-90dc-00d728cbc5cf\")>,\n",
       " <selenium.webdriver.remote.webelement.WebElement (session=\"20c618025649b1330602d657b514bcfe\", element=\"59674e4e-ad36-47da-84d7-f96e6dc07e43\")>,\n",
       " <selenium.webdriver.remote.webelement.WebElement (session=\"20c618025649b1330602d657b514bcfe\", element=\"1432b1a0-1bb6-4e0a-8eda-b065b1415609\")>,\n",
       " <selenium.webdriver.remote.webelement.WebElement (session=\"20c618025649b1330602d657b514bcfe\", element=\"3faac689-9d2b-4b38-8877-ad99ccac4019\")>,\n",
       " <selenium.webdriver.remote.webelement.WebElement (session=\"20c618025649b1330602d657b514bcfe\", element=\"0d0a49e3-7fff-496d-b905-6bef4c4d8005\")>,\n",
       " <selenium.webdriver.remote.webelement.WebElement (session=\"20c618025649b1330602d657b514bcfe\", element=\"0b12b432-5042-4b63-bd51-9575961df57b\")>,\n",
       " <selenium.webdriver.remote.webelement.WebElement (session=\"20c618025649b1330602d657b514bcfe\", element=\"dfc0a709-099b-4df3-a8e6-7f02ef82545e\")>,\n",
       " <selenium.webdriver.remote.webelement.WebElement (session=\"20c618025649b1330602d657b514bcfe\", element=\"999a7948-4b88-4dcb-ae4e-8d4830226c10\")>,\n",
       " <selenium.webdriver.remote.webelement.WebElement (session=\"20c618025649b1330602d657b514bcfe\", element=\"0c22e8dc-55a2-489a-ae15-1c67570edca1\")>,\n",
       " <selenium.webdriver.remote.webelement.WebElement (session=\"20c618025649b1330602d657b514bcfe\", element=\"0877edbc-a06e-4b27-83cc-db4bcabb5764\")>,\n",
       " <selenium.webdriver.remote.webelement.WebElement (session=\"20c618025649b1330602d657b514bcfe\", element=\"a308153f-62a3-43d5-a3e8-585cc587862c\")>,\n",
       " <selenium.webdriver.remote.webelement.WebElement (session=\"20c618025649b1330602d657b514bcfe\", element=\"0d5defab-4d67-435c-9bdc-36127f079607\")>,\n",
       " <selenium.webdriver.remote.webelement.WebElement (session=\"20c618025649b1330602d657b514bcfe\", element=\"3cc06ed9-62ac-4454-8a51-8beaddecbb1a\")>,\n",
       " <selenium.webdriver.remote.webelement.WebElement (session=\"20c618025649b1330602d657b514bcfe\", element=\"c321c7d2-44ae-4448-a516-76a64a04a1f3\")>,\n",
       " <selenium.webdriver.remote.webelement.WebElement (session=\"20c618025649b1330602d657b514bcfe\", element=\"02a13297-9080-4aaa-84d3-1157c1321fa8\")>,\n",
       " <selenium.webdriver.remote.webelement.WebElement (session=\"20c618025649b1330602d657b514bcfe\", element=\"b45edf1c-dcde-494d-a7ce-4e566f3d0524\")>,\n",
       " <selenium.webdriver.remote.webelement.WebElement (session=\"20c618025649b1330602d657b514bcfe\", element=\"0e98031b-9f6c-47b2-bdf2-30e9a997464f\")>,\n",
       " <selenium.webdriver.remote.webelement.WebElement (session=\"20c618025649b1330602d657b514bcfe\", element=\"2c0ddd69-7fa9-49eb-815f-6833c3da065b\")>,\n",
       " <selenium.webdriver.remote.webelement.WebElement (session=\"20c618025649b1330602d657b514bcfe\", element=\"2b864278-5305-4e65-8d35-46c3f7af4f28\")>,\n",
       " <selenium.webdriver.remote.webelement.WebElement (session=\"20c618025649b1330602d657b514bcfe\", element=\"308682b5-3b88-43b1-b3ca-cc4998dbe2a4\")>,\n",
       " <selenium.webdriver.remote.webelement.WebElement (session=\"20c618025649b1330602d657b514bcfe\", element=\"e591d3af-a4e5-4300-9b6e-fd2b97c446ba\")>,\n",
       " <selenium.webdriver.remote.webelement.WebElement (session=\"20c618025649b1330602d657b514bcfe\", element=\"80d941dd-fb97-4ac3-9c9b-c4b433b3a7bd\")>,\n",
       " <selenium.webdriver.remote.webelement.WebElement (session=\"20c618025649b1330602d657b514bcfe\", element=\"75b309f0-f7b7-4381-97e3-85daa0b0707a\")>,\n",
       " <selenium.webdriver.remote.webelement.WebElement (session=\"20c618025649b1330602d657b514bcfe\", element=\"028299fb-3944-43ad-bc25-0bf74243198c\")>,\n",
       " <selenium.webdriver.remote.webelement.WebElement (session=\"20c618025649b1330602d657b514bcfe\", element=\"4e34c227-933f-4e4f-8d6d-a47641eda52a\")>,\n",
       " <selenium.webdriver.remote.webelement.WebElement (session=\"20c618025649b1330602d657b514bcfe\", element=\"445c06ff-1b1d-4fdc-999d-0b9357eb5856\")>,\n",
       " <selenium.webdriver.remote.webelement.WebElement (session=\"20c618025649b1330602d657b514bcfe\", element=\"b9d3f5f2-93ad-4b4a-8751-5050c6c29af5\")>,\n",
       " <selenium.webdriver.remote.webelement.WebElement (session=\"20c618025649b1330602d657b514bcfe\", element=\"db59d793-dbdb-40e9-a87f-e36a02bf0f97\")>]"
      ]
     },
     "execution_count": 111,
     "metadata": {},
     "output_type": "execute_result"
    }
   ],
   "source": [
    "#so lets extract all the tags having the price\n",
    "prc_tags=driver.find_elements_by_xpath(\"//div[@class='_30jeq3']\")\n",
    "prc_tags[0:100]\n"
   ]
  },
  {
   "cell_type": "code",
   "execution_count": 112,
   "metadata": {
    "scrolled": true
   },
   "outputs": [
    {
     "data": {
      "text/plain": [
       "['₹680',\n",
       " '₹1,296',\n",
       " '₹499',\n",
       " '₹795',\n",
       " '₹379',\n",
       " '₹474',\n",
       " '₹474',\n",
       " '₹398',\n",
       " '₹254',\n",
       " '₹349',\n",
       " '₹298',\n",
       " '₹322',\n",
       " '₹420',\n",
       " '₹1,296',\n",
       " '₹379',\n",
       " '₹398',\n",
       " '₹423',\n",
       " '₹479',\n",
       " '₹311',\n",
       " '₹923',\n",
       " '₹386',\n",
       " '₹330',\n",
       " '₹339',\n",
       " '₹3,599',\n",
       " '₹211',\n",
       " '₹211',\n",
       " '₹255',\n",
       " '₹172',\n",
       " '₹299',\n",
       " '₹1,506',\n",
       " '₹450',\n",
       " '₹398',\n",
       " '₹377',\n",
       " '₹799',\n",
       " '₹570',\n",
       " '₹699',\n",
       " '₹539',\n",
       " '₹217',\n",
       " '₹442',\n",
       " '₹419']"
      ]
     },
     "execution_count": 112,
     "metadata": {},
     "output_type": "execute_result"
    }
   ],
   "source": [
    "for i in prc_tags:\n",
    "    price=i.text\n",
    "    Price.append(price)\n",
    "Price[0:100]\n"
   ]
  },
  {
   "cell_type": "code",
   "execution_count": 113,
   "metadata": {
    "scrolled": true
   },
   "outputs": [
    {
     "data": {
      "text/plain": [
       "[<selenium.webdriver.remote.webelement.WebElement (session=\"20c618025649b1330602d657b514bcfe\", element=\"1f6456e1-32eb-4202-8c8b-e66271f8db6b\")>,\n",
       " <selenium.webdriver.remote.webelement.WebElement (session=\"20c618025649b1330602d657b514bcfe\", element=\"9ff8438c-77f8-4fa1-92bc-15dc199fc417\")>,\n",
       " <selenium.webdriver.remote.webelement.WebElement (session=\"20c618025649b1330602d657b514bcfe\", element=\"e9c9f70c-9f28-4221-b192-69c5eddc57ff\")>,\n",
       " <selenium.webdriver.remote.webelement.WebElement (session=\"20c618025649b1330602d657b514bcfe\", element=\"ac587d5d-8f52-473d-b842-0406b46bc6fd\")>,\n",
       " <selenium.webdriver.remote.webelement.WebElement (session=\"20c618025649b1330602d657b514bcfe\", element=\"d421a28e-4a1e-4cca-8c76-58cf957616fe\")>,\n",
       " <selenium.webdriver.remote.webelement.WebElement (session=\"20c618025649b1330602d657b514bcfe\", element=\"3fe5de90-375f-4d86-bec6-73753d9485e6\")>,\n",
       " <selenium.webdriver.remote.webelement.WebElement (session=\"20c618025649b1330602d657b514bcfe\", element=\"8a263743-b641-4541-863a-15e1a18a5c4f\")>,\n",
       " <selenium.webdriver.remote.webelement.WebElement (session=\"20c618025649b1330602d657b514bcfe\", element=\"4bbf4ebd-f7a1-4dc7-a120-f8560e2d2b43\")>,\n",
       " <selenium.webdriver.remote.webelement.WebElement (session=\"20c618025649b1330602d657b514bcfe\", element=\"a149257f-83f9-44a2-92b1-2c5b93c1865f\")>,\n",
       " <selenium.webdriver.remote.webelement.WebElement (session=\"20c618025649b1330602d657b514bcfe\", element=\"227eca92-fd1e-4c69-b2b6-b563711e8a3c\")>,\n",
       " <selenium.webdriver.remote.webelement.WebElement (session=\"20c618025649b1330602d657b514bcfe\", element=\"70b04f19-f561-48d0-8c1b-994703806e51\")>,\n",
       " <selenium.webdriver.remote.webelement.WebElement (session=\"20c618025649b1330602d657b514bcfe\", element=\"117a759f-5582-4497-a3f9-3ae6bff9b884\")>,\n",
       " <selenium.webdriver.remote.webelement.WebElement (session=\"20c618025649b1330602d657b514bcfe\", element=\"5ec0147e-6bf6-4c0e-90dc-00d728cbc5cf\")>,\n",
       " <selenium.webdriver.remote.webelement.WebElement (session=\"20c618025649b1330602d657b514bcfe\", element=\"59674e4e-ad36-47da-84d7-f96e6dc07e43\")>,\n",
       " <selenium.webdriver.remote.webelement.WebElement (session=\"20c618025649b1330602d657b514bcfe\", element=\"1432b1a0-1bb6-4e0a-8eda-b065b1415609\")>,\n",
       " <selenium.webdriver.remote.webelement.WebElement (session=\"20c618025649b1330602d657b514bcfe\", element=\"3faac689-9d2b-4b38-8877-ad99ccac4019\")>,\n",
       " <selenium.webdriver.remote.webelement.WebElement (session=\"20c618025649b1330602d657b514bcfe\", element=\"0d0a49e3-7fff-496d-b905-6bef4c4d8005\")>,\n",
       " <selenium.webdriver.remote.webelement.WebElement (session=\"20c618025649b1330602d657b514bcfe\", element=\"0b12b432-5042-4b63-bd51-9575961df57b\")>,\n",
       " <selenium.webdriver.remote.webelement.WebElement (session=\"20c618025649b1330602d657b514bcfe\", element=\"dfc0a709-099b-4df3-a8e6-7f02ef82545e\")>,\n",
       " <selenium.webdriver.remote.webelement.WebElement (session=\"20c618025649b1330602d657b514bcfe\", element=\"999a7948-4b88-4dcb-ae4e-8d4830226c10\")>,\n",
       " <selenium.webdriver.remote.webelement.WebElement (session=\"20c618025649b1330602d657b514bcfe\", element=\"0c22e8dc-55a2-489a-ae15-1c67570edca1\")>,\n",
       " <selenium.webdriver.remote.webelement.WebElement (session=\"20c618025649b1330602d657b514bcfe\", element=\"0877edbc-a06e-4b27-83cc-db4bcabb5764\")>,\n",
       " <selenium.webdriver.remote.webelement.WebElement (session=\"20c618025649b1330602d657b514bcfe\", element=\"a308153f-62a3-43d5-a3e8-585cc587862c\")>,\n",
       " <selenium.webdriver.remote.webelement.WebElement (session=\"20c618025649b1330602d657b514bcfe\", element=\"0d5defab-4d67-435c-9bdc-36127f079607\")>,\n",
       " <selenium.webdriver.remote.webelement.WebElement (session=\"20c618025649b1330602d657b514bcfe\", element=\"3cc06ed9-62ac-4454-8a51-8beaddecbb1a\")>,\n",
       " <selenium.webdriver.remote.webelement.WebElement (session=\"20c618025649b1330602d657b514bcfe\", element=\"c321c7d2-44ae-4448-a516-76a64a04a1f3\")>,\n",
       " <selenium.webdriver.remote.webelement.WebElement (session=\"20c618025649b1330602d657b514bcfe\", element=\"02a13297-9080-4aaa-84d3-1157c1321fa8\")>,\n",
       " <selenium.webdriver.remote.webelement.WebElement (session=\"20c618025649b1330602d657b514bcfe\", element=\"b45edf1c-dcde-494d-a7ce-4e566f3d0524\")>,\n",
       " <selenium.webdriver.remote.webelement.WebElement (session=\"20c618025649b1330602d657b514bcfe\", element=\"0e98031b-9f6c-47b2-bdf2-30e9a997464f\")>,\n",
       " <selenium.webdriver.remote.webelement.WebElement (session=\"20c618025649b1330602d657b514bcfe\", element=\"2c0ddd69-7fa9-49eb-815f-6833c3da065b\")>,\n",
       " <selenium.webdriver.remote.webelement.WebElement (session=\"20c618025649b1330602d657b514bcfe\", element=\"2b864278-5305-4e65-8d35-46c3f7af4f28\")>,\n",
       " <selenium.webdriver.remote.webelement.WebElement (session=\"20c618025649b1330602d657b514bcfe\", element=\"308682b5-3b88-43b1-b3ca-cc4998dbe2a4\")>,\n",
       " <selenium.webdriver.remote.webelement.WebElement (session=\"20c618025649b1330602d657b514bcfe\", element=\"e591d3af-a4e5-4300-9b6e-fd2b97c446ba\")>,\n",
       " <selenium.webdriver.remote.webelement.WebElement (session=\"20c618025649b1330602d657b514bcfe\", element=\"80d941dd-fb97-4ac3-9c9b-c4b433b3a7bd\")>,\n",
       " <selenium.webdriver.remote.webelement.WebElement (session=\"20c618025649b1330602d657b514bcfe\", element=\"75b309f0-f7b7-4381-97e3-85daa0b0707a\")>,\n",
       " <selenium.webdriver.remote.webelement.WebElement (session=\"20c618025649b1330602d657b514bcfe\", element=\"028299fb-3944-43ad-bc25-0bf74243198c\")>,\n",
       " <selenium.webdriver.remote.webelement.WebElement (session=\"20c618025649b1330602d657b514bcfe\", element=\"4e34c227-933f-4e4f-8d6d-a47641eda52a\")>,\n",
       " <selenium.webdriver.remote.webelement.WebElement (session=\"20c618025649b1330602d657b514bcfe\", element=\"445c06ff-1b1d-4fdc-999d-0b9357eb5856\")>,\n",
       " <selenium.webdriver.remote.webelement.WebElement (session=\"20c618025649b1330602d657b514bcfe\", element=\"b9d3f5f2-93ad-4b4a-8751-5050c6c29af5\")>,\n",
       " <selenium.webdriver.remote.webelement.WebElement (session=\"20c618025649b1330602d657b514bcfe\", element=\"db59d793-dbdb-40e9-a87f-e36a02bf0f97\")>]"
      ]
     },
     "execution_count": 113,
     "metadata": {},
     "output_type": "execute_result"
    }
   ],
   "source": [
    "#so lets extract all the tags having the price\n",
    "prc_tags=driver.find_elements_by_xpath(\"//div[@class='_30jeq3']\")\n",
    "prc_tags[0:100]\n"
   ]
  },
  {
   "cell_type": "code",
   "execution_count": 114,
   "metadata": {
    "scrolled": true
   },
   "outputs": [
    {
     "data": {
      "text/plain": [
       "['₹680',\n",
       " '₹1,296',\n",
       " '₹499',\n",
       " '₹795',\n",
       " '₹379',\n",
       " '₹474',\n",
       " '₹474',\n",
       " '₹398',\n",
       " '₹254',\n",
       " '₹349',\n",
       " '₹298',\n",
       " '₹322',\n",
       " '₹420',\n",
       " '₹1,296',\n",
       " '₹379',\n",
       " '₹398',\n",
       " '₹423',\n",
       " '₹479',\n",
       " '₹311',\n",
       " '₹923',\n",
       " '₹386',\n",
       " '₹330',\n",
       " '₹339',\n",
       " '₹3,599',\n",
       " '₹211',\n",
       " '₹211',\n",
       " '₹255',\n",
       " '₹172',\n",
       " '₹299',\n",
       " '₹1,506',\n",
       " '₹450',\n",
       " '₹398',\n",
       " '₹377',\n",
       " '₹799',\n",
       " '₹570',\n",
       " '₹699',\n",
       " '₹539',\n",
       " '₹217',\n",
       " '₹442',\n",
       " '₹419',\n",
       " '₹680',\n",
       " '₹1,296',\n",
       " '₹499',\n",
       " '₹795',\n",
       " '₹379',\n",
       " '₹474',\n",
       " '₹474',\n",
       " '₹398',\n",
       " '₹254',\n",
       " '₹349',\n",
       " '₹298',\n",
       " '₹322',\n",
       " '₹420',\n",
       " '₹1,296',\n",
       " '₹379',\n",
       " '₹398',\n",
       " '₹423',\n",
       " '₹479',\n",
       " '₹311',\n",
       " '₹923',\n",
       " '₹386',\n",
       " '₹330',\n",
       " '₹339',\n",
       " '₹3,599',\n",
       " '₹211',\n",
       " '₹211',\n",
       " '₹255',\n",
       " '₹172',\n",
       " '₹299',\n",
       " '₹1,506',\n",
       " '₹450',\n",
       " '₹398',\n",
       " '₹377',\n",
       " '₹799',\n",
       " '₹570',\n",
       " '₹699',\n",
       " '₹539',\n",
       " '₹217',\n",
       " '₹442',\n",
       " '₹419']"
      ]
     },
     "execution_count": 114,
     "metadata": {},
     "output_type": "execute_result"
    }
   ],
   "source": [
    "for i in prc_tags:\n",
    "    price=i.text\n",
    "    Price.append(price)\n",
    "Price[0:100]\n"
   ]
  },
  {
   "cell_type": "markdown",
   "metadata": {},
   "source": [
    "discount"
   ]
  },
  {
   "cell_type": "code",
   "execution_count": 115,
   "metadata": {
    "scrolled": true
   },
   "outputs": [
    {
     "data": {
      "text/plain": [
       "[<selenium.webdriver.remote.webelement.WebElement (session=\"20c618025649b1330602d657b514bcfe\", element=\"8b03264f-5d9e-4bba-8d29-5d11ea113172\")>,\n",
       " <selenium.webdriver.remote.webelement.WebElement (session=\"20c618025649b1330602d657b514bcfe\", element=\"1127190f-1c13-4a9e-9c0d-69cceb48019d\")>,\n",
       " <selenium.webdriver.remote.webelement.WebElement (session=\"20c618025649b1330602d657b514bcfe\", element=\"2e10b7fb-ec9c-4072-a39b-f8adb2bdc390\")>,\n",
       " <selenium.webdriver.remote.webelement.WebElement (session=\"20c618025649b1330602d657b514bcfe\", element=\"076570a1-663b-40b3-82b7-591143097180\")>,\n",
       " <selenium.webdriver.remote.webelement.WebElement (session=\"20c618025649b1330602d657b514bcfe\", element=\"b43ea56c-2f5d-44ec-8f98-6a8f0d9dada5\")>,\n",
       " <selenium.webdriver.remote.webelement.WebElement (session=\"20c618025649b1330602d657b514bcfe\", element=\"865f9a22-9d0d-4cfe-a74c-467727e18d40\")>,\n",
       " <selenium.webdriver.remote.webelement.WebElement (session=\"20c618025649b1330602d657b514bcfe\", element=\"970984c3-182f-4254-9f0f-84801889b667\")>,\n",
       " <selenium.webdriver.remote.webelement.WebElement (session=\"20c618025649b1330602d657b514bcfe\", element=\"38d97e89-f21c-46bf-b61f-e8a6c6386933\")>,\n",
       " <selenium.webdriver.remote.webelement.WebElement (session=\"20c618025649b1330602d657b514bcfe\", element=\"0a5ce0ef-ed40-4711-a0c1-12488b246369\")>,\n",
       " <selenium.webdriver.remote.webelement.WebElement (session=\"20c618025649b1330602d657b514bcfe\", element=\"a01cf3f4-12bd-4474-b434-5f924156cc4c\")>,\n",
       " <selenium.webdriver.remote.webelement.WebElement (session=\"20c618025649b1330602d657b514bcfe\", element=\"480e1ab2-1456-4cfa-b4db-5619dc6ca036\")>,\n",
       " <selenium.webdriver.remote.webelement.WebElement (session=\"20c618025649b1330602d657b514bcfe\", element=\"6ac6ac70-ad86-414a-8575-c3f74f302ed2\")>,\n",
       " <selenium.webdriver.remote.webelement.WebElement (session=\"20c618025649b1330602d657b514bcfe\", element=\"4cc74c02-0635-4ee1-ab60-20d5217bbe3e\")>,\n",
       " <selenium.webdriver.remote.webelement.WebElement (session=\"20c618025649b1330602d657b514bcfe\", element=\"d17c95d2-0477-42dd-8b30-f564a7a0dd12\")>,\n",
       " <selenium.webdriver.remote.webelement.WebElement (session=\"20c618025649b1330602d657b514bcfe\", element=\"c15ccd9c-3d6b-445a-b3e5-d01c88b6c68f\")>,\n",
       " <selenium.webdriver.remote.webelement.WebElement (session=\"20c618025649b1330602d657b514bcfe\", element=\"1fd0a473-885b-4b64-87fd-4e182bba364a\")>,\n",
       " <selenium.webdriver.remote.webelement.WebElement (session=\"20c618025649b1330602d657b514bcfe\", element=\"a791018d-6bfb-424f-aeda-61bb77704eb8\")>,\n",
       " <selenium.webdriver.remote.webelement.WebElement (session=\"20c618025649b1330602d657b514bcfe\", element=\"6f0c4920-6479-4587-bbe0-044c87a35823\")>,\n",
       " <selenium.webdriver.remote.webelement.WebElement (session=\"20c618025649b1330602d657b514bcfe\", element=\"98eb5d54-e0b9-44d9-9b70-2bbd849cc8a7\")>,\n",
       " <selenium.webdriver.remote.webelement.WebElement (session=\"20c618025649b1330602d657b514bcfe\", element=\"494c6b53-3d54-49c1-be31-cfe2baf45092\")>,\n",
       " <selenium.webdriver.remote.webelement.WebElement (session=\"20c618025649b1330602d657b514bcfe\", element=\"caa4b1e3-75c7-4a41-91ce-272514c1be37\")>,\n",
       " <selenium.webdriver.remote.webelement.WebElement (session=\"20c618025649b1330602d657b514bcfe\", element=\"97310178-c16c-441b-9210-3678da9f3f8a\")>,\n",
       " <selenium.webdriver.remote.webelement.WebElement (session=\"20c618025649b1330602d657b514bcfe\", element=\"ed5e34db-ed96-4f8a-a027-475ecc523274\")>,\n",
       " <selenium.webdriver.remote.webelement.WebElement (session=\"20c618025649b1330602d657b514bcfe\", element=\"e3f0c69e-f1b3-473e-8c7b-746c6d6a0f28\")>,\n",
       " <selenium.webdriver.remote.webelement.WebElement (session=\"20c618025649b1330602d657b514bcfe\", element=\"01064020-1e13-4573-ba36-4a18cd8f83bd\")>,\n",
       " <selenium.webdriver.remote.webelement.WebElement (session=\"20c618025649b1330602d657b514bcfe\", element=\"361b490a-21fa-4012-9fb3-3b1fbdf934de\")>,\n",
       " <selenium.webdriver.remote.webelement.WebElement (session=\"20c618025649b1330602d657b514bcfe\", element=\"071d9bfa-8e4b-4c0c-8a41-d4ff705349b0\")>,\n",
       " <selenium.webdriver.remote.webelement.WebElement (session=\"20c618025649b1330602d657b514bcfe\", element=\"6b1ec3a8-ca5f-41ae-9a0b-2b689363b3de\")>,\n",
       " <selenium.webdriver.remote.webelement.WebElement (session=\"20c618025649b1330602d657b514bcfe\", element=\"531c0f1b-71d8-4029-829c-0bf101f75444\")>,\n",
       " <selenium.webdriver.remote.webelement.WebElement (session=\"20c618025649b1330602d657b514bcfe\", element=\"678dd40b-e52f-4bcb-87c9-f2f542b306e4\")>,\n",
       " <selenium.webdriver.remote.webelement.WebElement (session=\"20c618025649b1330602d657b514bcfe\", element=\"1ec143b8-3363-4f89-9406-3fed0d48a9c0\")>,\n",
       " <selenium.webdriver.remote.webelement.WebElement (session=\"20c618025649b1330602d657b514bcfe\", element=\"5f3ad48f-e5e8-4d62-a47e-84cff5d2ad86\")>,\n",
       " <selenium.webdriver.remote.webelement.WebElement (session=\"20c618025649b1330602d657b514bcfe\", element=\"52e99bd7-ee6f-41ec-b09e-532393b05837\")>,\n",
       " <selenium.webdriver.remote.webelement.WebElement (session=\"20c618025649b1330602d657b514bcfe\", element=\"549dac76-ae2c-4190-96ff-ae1b21588363\")>,\n",
       " <selenium.webdriver.remote.webelement.WebElement (session=\"20c618025649b1330602d657b514bcfe\", element=\"69d6924b-f189-4f94-886e-d8919e775552\")>,\n",
       " <selenium.webdriver.remote.webelement.WebElement (session=\"20c618025649b1330602d657b514bcfe\", element=\"3fca12fc-7026-4ece-a4a8-2854d4e6f104\")>,\n",
       " <selenium.webdriver.remote.webelement.WebElement (session=\"20c618025649b1330602d657b514bcfe\", element=\"88f95d84-97b4-47e9-acec-35fbc36a1e3c\")>,\n",
       " <selenium.webdriver.remote.webelement.WebElement (session=\"20c618025649b1330602d657b514bcfe\", element=\"dece3153-4568-4923-b4ee-ae76bcb8fa1c\")>]"
      ]
     },
     "execution_count": 115,
     "metadata": {},
     "output_type": "execute_result"
    }
   ],
   "source": [
    "#so lets extract all the tags having the Discount\n",
    "Disc_tags=driver.find_elements_by_xpath(\"//div[@class='_3Ay6Sb']/span[1]\")\n",
    "Disc_tags[0:100]"
   ]
  },
  {
   "cell_type": "code",
   "execution_count": 116,
   "metadata": {
    "scrolled": true
   },
   "outputs": [
    {
     "data": {
      "text/plain": [
       "['65% off',\n",
       " '63% off',\n",
       " '72% off',\n",
       " '46% off',\n",
       " '62% off',\n",
       " '76% off',\n",
       " '52% off',\n",
       " '60% off',\n",
       " '74% off',\n",
       " '65% off',\n",
       " '70% off',\n",
       " '67% off',\n",
       " '78% off',\n",
       " '63% off',\n",
       " '62% off',\n",
       " '60% off',\n",
       " '57% off',\n",
       " '88% off',\n",
       " '68% off',\n",
       " '75% off',\n",
       " '61% off',\n",
       " '66% off',\n",
       " '57% off',\n",
       " '57% off',\n",
       " '57% off',\n",
       " '48% off',\n",
       " '65% off',\n",
       " '40% off',\n",
       " '58% off',\n",
       " '54% off',\n",
       " '60% off',\n",
       " '62% off',\n",
       " '80% off',\n",
       " '42% off',\n",
       " '73% off',\n",
       " '68% off',\n",
       " '55% off',\n",
       " '58% off']"
      ]
     },
     "execution_count": 116,
     "metadata": {},
     "output_type": "execute_result"
    }
   ],
   "source": [
    "for i in Disc_tags:\n",
    "    DISC=i.text\n",
    "    discount.append(DISC)\n",
    "discount[0:100]"
   ]
  },
  {
   "cell_type": "code",
   "execution_count": 117,
   "metadata": {},
   "outputs": [
    {
     "name": "stdout",
     "output_type": "stream",
     "text": [
      "40 35 80 38\n"
     ]
    }
   ],
   "source": [
    "print(len(Brand),len(Product_Description),len(Price),len(discount))"
   ]
  },
  {
   "cell_type": "code",
   "execution_count": 118,
   "metadata": {},
   "outputs": [
    {
     "ename": "ValueError",
     "evalue": "Length of values (35) does not match length of index (40)",
     "output_type": "error",
     "traceback": [
      "\u001b[1;31m---------------------------------------------------------------------------\u001b[0m",
      "\u001b[1;31mValueError\u001b[0m                                Traceback (most recent call last)",
      "\u001b[1;32m<ipython-input-118-d0df76f2052e>\u001b[0m in \u001b[0;36m<module>\u001b[1;34m\u001b[0m\n\u001b[0;32m      2\u001b[0m \u001b[0mjobs\u001b[0m\u001b[1;33m=\u001b[0m\u001b[0mpd\u001b[0m\u001b[1;33m.\u001b[0m\u001b[0mDataFrame\u001b[0m\u001b[1;33m(\u001b[0m\u001b[1;33m{\u001b[0m\u001b[1;33m}\u001b[0m\u001b[1;33m)\u001b[0m\u001b[1;33m\u001b[0m\u001b[1;33m\u001b[0m\u001b[0m\n\u001b[0;32m      3\u001b[0m \u001b[0mjobs\u001b[0m\u001b[1;33m[\u001b[0m\u001b[1;34m'brand'\u001b[0m\u001b[1;33m]\u001b[0m\u001b[1;33m=\u001b[0m\u001b[0mBrand\u001b[0m\u001b[1;33m\u001b[0m\u001b[1;33m\u001b[0m\u001b[0m\n\u001b[1;32m----> 4\u001b[1;33m \u001b[0mjobs\u001b[0m\u001b[1;33m[\u001b[0m\u001b[1;34m'description'\u001b[0m\u001b[1;33m]\u001b[0m\u001b[1;33m=\u001b[0m\u001b[0mProduct_Description\u001b[0m\u001b[1;33m\u001b[0m\u001b[1;33m\u001b[0m\u001b[0m\n\u001b[0m\u001b[0;32m      5\u001b[0m \u001b[0mjobs\u001b[0m\u001b[1;33m[\u001b[0m\u001b[1;34m'price'\u001b[0m\u001b[1;33m]\u001b[0m\u001b[1;33m=\u001b[0m\u001b[0mPrice\u001b[0m\u001b[1;33m\u001b[0m\u001b[1;33m\u001b[0m\u001b[0m\n\u001b[0;32m      6\u001b[0m \u001b[0mjobs\u001b[0m\u001b[1;33m[\u001b[0m\u001b[1;34m'DISC'\u001b[0m\u001b[1;33m]\u001b[0m\u001b[1;33m=\u001b[0m\u001b[0mdiscount\u001b[0m\u001b[1;33m\u001b[0m\u001b[1;33m\u001b[0m\u001b[0m\n",
      "\u001b[1;32m~\\anaconda3\\lib\\site-packages\\pandas\\core\\frame.py\u001b[0m in \u001b[0;36m__setitem__\u001b[1;34m(self, key, value)\u001b[0m\n\u001b[0;32m   3038\u001b[0m         \u001b[1;32melse\u001b[0m\u001b[1;33m:\u001b[0m\u001b[1;33m\u001b[0m\u001b[1;33m\u001b[0m\u001b[0m\n\u001b[0;32m   3039\u001b[0m             \u001b[1;31m# set column\u001b[0m\u001b[1;33m\u001b[0m\u001b[1;33m\u001b[0m\u001b[1;33m\u001b[0m\u001b[0m\n\u001b[1;32m-> 3040\u001b[1;33m             \u001b[0mself\u001b[0m\u001b[1;33m.\u001b[0m\u001b[0m_set_item\u001b[0m\u001b[1;33m(\u001b[0m\u001b[0mkey\u001b[0m\u001b[1;33m,\u001b[0m \u001b[0mvalue\u001b[0m\u001b[1;33m)\u001b[0m\u001b[1;33m\u001b[0m\u001b[1;33m\u001b[0m\u001b[0m\n\u001b[0m\u001b[0;32m   3041\u001b[0m \u001b[1;33m\u001b[0m\u001b[0m\n\u001b[0;32m   3042\u001b[0m     \u001b[1;32mdef\u001b[0m \u001b[0m_setitem_slice\u001b[0m\u001b[1;33m(\u001b[0m\u001b[0mself\u001b[0m\u001b[1;33m,\u001b[0m \u001b[0mkey\u001b[0m\u001b[1;33m:\u001b[0m \u001b[0mslice\u001b[0m\u001b[1;33m,\u001b[0m \u001b[0mvalue\u001b[0m\u001b[1;33m)\u001b[0m\u001b[1;33m:\u001b[0m\u001b[1;33m\u001b[0m\u001b[1;33m\u001b[0m\u001b[0m\n",
      "\u001b[1;32m~\\anaconda3\\lib\\site-packages\\pandas\\core\\frame.py\u001b[0m in \u001b[0;36m_set_item\u001b[1;34m(self, key, value)\u001b[0m\n\u001b[0;32m   3114\u001b[0m         \"\"\"\n\u001b[0;32m   3115\u001b[0m         \u001b[0mself\u001b[0m\u001b[1;33m.\u001b[0m\u001b[0m_ensure_valid_index\u001b[0m\u001b[1;33m(\u001b[0m\u001b[0mvalue\u001b[0m\u001b[1;33m)\u001b[0m\u001b[1;33m\u001b[0m\u001b[1;33m\u001b[0m\u001b[0m\n\u001b[1;32m-> 3116\u001b[1;33m         \u001b[0mvalue\u001b[0m \u001b[1;33m=\u001b[0m \u001b[0mself\u001b[0m\u001b[1;33m.\u001b[0m\u001b[0m_sanitize_column\u001b[0m\u001b[1;33m(\u001b[0m\u001b[0mkey\u001b[0m\u001b[1;33m,\u001b[0m \u001b[0mvalue\u001b[0m\u001b[1;33m)\u001b[0m\u001b[1;33m\u001b[0m\u001b[1;33m\u001b[0m\u001b[0m\n\u001b[0m\u001b[0;32m   3117\u001b[0m         \u001b[0mNDFrame\u001b[0m\u001b[1;33m.\u001b[0m\u001b[0m_set_item\u001b[0m\u001b[1;33m(\u001b[0m\u001b[0mself\u001b[0m\u001b[1;33m,\u001b[0m \u001b[0mkey\u001b[0m\u001b[1;33m,\u001b[0m \u001b[0mvalue\u001b[0m\u001b[1;33m)\u001b[0m\u001b[1;33m\u001b[0m\u001b[1;33m\u001b[0m\u001b[0m\n\u001b[0;32m   3118\u001b[0m \u001b[1;33m\u001b[0m\u001b[0m\n",
      "\u001b[1;32m~\\anaconda3\\lib\\site-packages\\pandas\\core\\frame.py\u001b[0m in \u001b[0;36m_sanitize_column\u001b[1;34m(self, key, value, broadcast)\u001b[0m\n\u001b[0;32m   3762\u001b[0m \u001b[1;33m\u001b[0m\u001b[0m\n\u001b[0;32m   3763\u001b[0m             \u001b[1;31m# turn me into an ndarray\u001b[0m\u001b[1;33m\u001b[0m\u001b[1;33m\u001b[0m\u001b[1;33m\u001b[0m\u001b[0m\n\u001b[1;32m-> 3764\u001b[1;33m             \u001b[0mvalue\u001b[0m \u001b[1;33m=\u001b[0m \u001b[0msanitize_index\u001b[0m\u001b[1;33m(\u001b[0m\u001b[0mvalue\u001b[0m\u001b[1;33m,\u001b[0m \u001b[0mself\u001b[0m\u001b[1;33m.\u001b[0m\u001b[0mindex\u001b[0m\u001b[1;33m)\u001b[0m\u001b[1;33m\u001b[0m\u001b[1;33m\u001b[0m\u001b[0m\n\u001b[0m\u001b[0;32m   3765\u001b[0m             \u001b[1;32mif\u001b[0m \u001b[1;32mnot\u001b[0m \u001b[0misinstance\u001b[0m\u001b[1;33m(\u001b[0m\u001b[0mvalue\u001b[0m\u001b[1;33m,\u001b[0m \u001b[1;33m(\u001b[0m\u001b[0mnp\u001b[0m\u001b[1;33m.\u001b[0m\u001b[0mndarray\u001b[0m\u001b[1;33m,\u001b[0m \u001b[0mIndex\u001b[0m\u001b[1;33m)\u001b[0m\u001b[1;33m)\u001b[0m\u001b[1;33m:\u001b[0m\u001b[1;33m\u001b[0m\u001b[1;33m\u001b[0m\u001b[0m\n\u001b[0;32m   3766\u001b[0m                 \u001b[1;32mif\u001b[0m \u001b[0misinstance\u001b[0m\u001b[1;33m(\u001b[0m\u001b[0mvalue\u001b[0m\u001b[1;33m,\u001b[0m \u001b[0mlist\u001b[0m\u001b[1;33m)\u001b[0m \u001b[1;32mand\u001b[0m \u001b[0mlen\u001b[0m\u001b[1;33m(\u001b[0m\u001b[0mvalue\u001b[0m\u001b[1;33m)\u001b[0m \u001b[1;33m>\u001b[0m \u001b[1;36m0\u001b[0m\u001b[1;33m:\u001b[0m\u001b[1;33m\u001b[0m\u001b[1;33m\u001b[0m\u001b[0m\n",
      "\u001b[1;32m~\\anaconda3\\lib\\site-packages\\pandas\\core\\internals\\construction.py\u001b[0m in \u001b[0;36msanitize_index\u001b[1;34m(data, index)\u001b[0m\n\u001b[0;32m    745\u001b[0m     \"\"\"\n\u001b[0;32m    746\u001b[0m     \u001b[1;32mif\u001b[0m \u001b[0mlen\u001b[0m\u001b[1;33m(\u001b[0m\u001b[0mdata\u001b[0m\u001b[1;33m)\u001b[0m \u001b[1;33m!=\u001b[0m \u001b[0mlen\u001b[0m\u001b[1;33m(\u001b[0m\u001b[0mindex\u001b[0m\u001b[1;33m)\u001b[0m\u001b[1;33m:\u001b[0m\u001b[1;33m\u001b[0m\u001b[1;33m\u001b[0m\u001b[0m\n\u001b[1;32m--> 747\u001b[1;33m         raise ValueError(\n\u001b[0m\u001b[0;32m    748\u001b[0m             \u001b[1;34m\"Length of values \"\u001b[0m\u001b[1;33m\u001b[0m\u001b[1;33m\u001b[0m\u001b[0m\n\u001b[0;32m    749\u001b[0m             \u001b[1;34mf\"({len(data)}) \"\u001b[0m\u001b[1;33m\u001b[0m\u001b[1;33m\u001b[0m\u001b[0m\n",
      "\u001b[1;31mValueError\u001b[0m: Length of values (35) does not match length of index (40)"
     ]
    }
   ],
   "source": [
    "#import pandas as pd\n",
    "jobs=pd.DataFrame({})\n",
    "jobs['brand']=Brand\n",
    "jobs['description']=Product_Description\n",
    "jobs['price']=Price\n",
    "jobs['DISC']=discount"
   ]
  },
  {
   "cell_type": "code",
   "execution_count": 119,
   "metadata": {},
   "outputs": [
    {
     "data": {
      "text/html": [
       "<div>\n",
       "<style scoped>\n",
       "    .dataframe tbody tr th:only-of-type {\n",
       "        vertical-align: middle;\n",
       "    }\n",
       "\n",
       "    .dataframe tbody tr th {\n",
       "        vertical-align: top;\n",
       "    }\n",
       "\n",
       "    .dataframe thead th {\n",
       "        text-align: right;\n",
       "    }\n",
       "</style>\n",
       "<table border=\"1\" class=\"dataframe\">\n",
       "  <thead>\n",
       "    <tr style=\"text-align: right;\">\n",
       "      <th></th>\n",
       "      <th>brand</th>\n",
       "    </tr>\n",
       "  </thead>\n",
       "  <tbody>\n",
       "    <tr>\n",
       "      <th>0</th>\n",
       "      <td>French Connection</td>\n",
       "    </tr>\n",
       "    <tr>\n",
       "      <th>1</th>\n",
       "      <td>DUCATI</td>\n",
       "    </tr>\n",
       "    <tr>\n",
       "      <th>2</th>\n",
       "      <td>Chevit</td>\n",
       "    </tr>\n",
       "    <tr>\n",
       "      <th>3</th>\n",
       "      <td>Extoes</td>\n",
       "    </tr>\n",
       "    <tr>\n",
       "      <th>4</th>\n",
       "      <td>Robbie jones</td>\n",
       "    </tr>\n",
       "    <tr>\n",
       "      <th>5</th>\n",
       "      <td>Chevit</td>\n",
       "    </tr>\n",
       "    <tr>\n",
       "      <th>6</th>\n",
       "      <td>Robbie jones</td>\n",
       "    </tr>\n",
       "    <tr>\n",
       "      <th>7</th>\n",
       "      <td>ORICUM</td>\n",
       "    </tr>\n",
       "    <tr>\n",
       "      <th>8</th>\n",
       "      <td>Chevit</td>\n",
       "    </tr>\n",
       "    <tr>\n",
       "      <th>9</th>\n",
       "      <td>Shoes Bank</td>\n",
       "    </tr>\n",
       "    <tr>\n",
       "      <th>10</th>\n",
       "      <td>aadi</td>\n",
       "    </tr>\n",
       "    <tr>\n",
       "      <th>11</th>\n",
       "      <td>Chevit</td>\n",
       "    </tr>\n",
       "    <tr>\n",
       "      <th>12</th>\n",
       "      <td>Chevit</td>\n",
       "    </tr>\n",
       "    <tr>\n",
       "      <th>13</th>\n",
       "      <td>DUCATI</td>\n",
       "    </tr>\n",
       "    <tr>\n",
       "      <th>14</th>\n",
       "      <td>Red Rose</td>\n",
       "    </tr>\n",
       "    <tr>\n",
       "      <th>15</th>\n",
       "      <td>Numenzo</td>\n",
       "    </tr>\n",
       "    <tr>\n",
       "      <th>16</th>\n",
       "      <td>believe</td>\n",
       "    </tr>\n",
       "    <tr>\n",
       "      <th>17</th>\n",
       "      <td>\"trend\"</td>\n",
       "    </tr>\n",
       "    <tr>\n",
       "      <th>18</th>\n",
       "      <td>Raftar</td>\n",
       "    </tr>\n",
       "    <tr>\n",
       "      <th>19</th>\n",
       "      <td>DUCATI</td>\n",
       "    </tr>\n",
       "    <tr>\n",
       "      <th>20</th>\n",
       "      <td>T-ROCK</td>\n",
       "    </tr>\n",
       "    <tr>\n",
       "      <th>21</th>\n",
       "      <td>Magnolia</td>\n",
       "    </tr>\n",
       "    <tr>\n",
       "      <th>22</th>\n",
       "      <td>Chevit</td>\n",
       "    </tr>\n",
       "    <tr>\n",
       "      <th>23</th>\n",
       "      <td>French Connection</td>\n",
       "    </tr>\n",
       "    <tr>\n",
       "      <th>24</th>\n",
       "      <td>Chevit</td>\n",
       "    </tr>\n",
       "    <tr>\n",
       "      <th>25</th>\n",
       "      <td>Chevit</td>\n",
       "    </tr>\n",
       "    <tr>\n",
       "      <th>26</th>\n",
       "      <td>HOTSTYLE</td>\n",
       "    </tr>\n",
       "    <tr>\n",
       "      <th>27</th>\n",
       "      <td>HOTSTYLE</td>\n",
       "    </tr>\n",
       "    <tr>\n",
       "      <th>28</th>\n",
       "      <td>Birde</td>\n",
       "    </tr>\n",
       "    <tr>\n",
       "      <th>29</th>\n",
       "      <td>DUCATI</td>\n",
       "    </tr>\n",
       "    <tr>\n",
       "      <th>30</th>\n",
       "      <td>Bonexy</td>\n",
       "    </tr>\n",
       "    <tr>\n",
       "      <th>31</th>\n",
       "      <td>SCATCHITE</td>\n",
       "    </tr>\n",
       "    <tr>\n",
       "      <th>32</th>\n",
       "      <td>Magnolia</td>\n",
       "    </tr>\n",
       "    <tr>\n",
       "      <th>33</th>\n",
       "      <td>BRUTON</td>\n",
       "    </tr>\n",
       "    <tr>\n",
       "      <th>34</th>\n",
       "      <td>Echor</td>\n",
       "    </tr>\n",
       "    <tr>\n",
       "      <th>35</th>\n",
       "      <td>SPARX</td>\n",
       "    </tr>\n",
       "    <tr>\n",
       "      <th>36</th>\n",
       "      <td>TR</td>\n",
       "    </tr>\n",
       "    <tr>\n",
       "      <th>37</th>\n",
       "      <td>Stefano Rads</td>\n",
       "    </tr>\n",
       "    <tr>\n",
       "      <th>38</th>\n",
       "      <td>ESSENCE</td>\n",
       "    </tr>\n",
       "    <tr>\n",
       "      <th>39</th>\n",
       "      <td>oxpeo</td>\n",
       "    </tr>\n",
       "  </tbody>\n",
       "</table>\n",
       "</div>"
      ],
      "text/plain": [
       "                brand\n",
       "0   French Connection\n",
       "1              DUCATI\n",
       "2              Chevit\n",
       "3              Extoes\n",
       "4        Robbie jones\n",
       "5              Chevit\n",
       "6        Robbie jones\n",
       "7              ORICUM\n",
       "8              Chevit\n",
       "9          Shoes Bank\n",
       "10               aadi\n",
       "11             Chevit\n",
       "12             Chevit\n",
       "13             DUCATI\n",
       "14           Red Rose\n",
       "15            Numenzo\n",
       "16            believe\n",
       "17            \"trend\"\n",
       "18             Raftar\n",
       "19             DUCATI\n",
       "20             T-ROCK\n",
       "21           Magnolia\n",
       "22             Chevit\n",
       "23  French Connection\n",
       "24             Chevit\n",
       "25             Chevit\n",
       "26           HOTSTYLE\n",
       "27           HOTSTYLE\n",
       "28              Birde\n",
       "29             DUCATI\n",
       "30             Bonexy\n",
       "31          SCATCHITE\n",
       "32           Magnolia\n",
       "33             BRUTON\n",
       "34              Echor\n",
       "35              SPARX\n",
       "36                 TR\n",
       "37       Stefano Rads\n",
       "38            ESSENCE\n",
       "39              oxpeo"
      ]
     },
     "execution_count": 119,
     "metadata": {},
     "output_type": "execute_result"
    }
   ],
   "source": [
    "jobs"
   ]
  },
  {
   "cell_type": "markdown",
   "metadata": {},
   "source": [
    "# Q9:"
   ]
  },
  {
   "cell_type": "code",
   "execution_count": 120,
   "metadata": {},
   "outputs": [],
   "source": [
    "driver.get('https://www.myntra.com/shoes')"
   ]
  },
  {
   "cell_type": "code",
   "execution_count": 121,
   "metadata": {},
   "outputs": [
    {
     "ename": "NoSuchElementException",
     "evalue": "Message: no such element: Unable to locate element: {\"method\":\"css selector\",\"selector\":\"[id=\"common-customCheckbox vertical-filters-label\"]\"}\n  (Session info: chrome=89.0.4389.114)\n",
     "output_type": "error",
     "traceback": [
      "\u001b[1;31m---------------------------------------------------------------------------\u001b[0m",
      "\u001b[1;31mNoSuchElementException\u001b[0m                    Traceback (most recent call last)",
      "\u001b[1;32m<ipython-input-121-bcff5161e1b0>\u001b[0m in \u001b[0;36m<module>\u001b[1;34m\u001b[0m\n\u001b[1;32m----> 1\u001b[1;33m \u001b[0msearch_job\u001b[0m\u001b[1;33m=\u001b[0m \u001b[0mdriver\u001b[0m\u001b[1;33m.\u001b[0m\u001b[0mfind_element_by_id\u001b[0m\u001b[1;33m(\u001b[0m\u001b[1;34m'common-customCheckbox vertical-filters-label'\u001b[0m\u001b[1;33m)\u001b[0m\u001b[1;33m\u001b[0m\u001b[1;33m\u001b[0m\u001b[0m\n\u001b[0m\u001b[0;32m      2\u001b[0m \u001b[0msearch_job\u001b[0m\u001b[1;33m.\u001b[0m\u001b[0msend_keys\u001b[0m\u001b[1;33m(\u001b[0m\u001b[1;34m\"\"\u001b[0m\u001b[1;33m)\u001b[0m\u001b[1;33m\u001b[0m\u001b[1;33m\u001b[0m\u001b[0m\n",
      "\u001b[1;32m~\\anaconda3\\lib\\site-packages\\selenium\\webdriver\\remote\\webdriver.py\u001b[0m in \u001b[0;36mfind_element_by_id\u001b[1;34m(self, id_)\u001b[0m\n\u001b[0;32m    358\u001b[0m             \u001b[0melement\u001b[0m \u001b[1;33m=\u001b[0m \u001b[0mdriver\u001b[0m\u001b[1;33m.\u001b[0m\u001b[0mfind_element_by_id\u001b[0m\u001b[1;33m(\u001b[0m\u001b[1;34m'foo'\u001b[0m\u001b[1;33m)\u001b[0m\u001b[1;33m\u001b[0m\u001b[1;33m\u001b[0m\u001b[0m\n\u001b[0;32m    359\u001b[0m         \"\"\"\n\u001b[1;32m--> 360\u001b[1;33m         \u001b[1;32mreturn\u001b[0m \u001b[0mself\u001b[0m\u001b[1;33m.\u001b[0m\u001b[0mfind_element\u001b[0m\u001b[1;33m(\u001b[0m\u001b[0mby\u001b[0m\u001b[1;33m=\u001b[0m\u001b[0mBy\u001b[0m\u001b[1;33m.\u001b[0m\u001b[0mID\u001b[0m\u001b[1;33m,\u001b[0m \u001b[0mvalue\u001b[0m\u001b[1;33m=\u001b[0m\u001b[0mid_\u001b[0m\u001b[1;33m)\u001b[0m\u001b[1;33m\u001b[0m\u001b[1;33m\u001b[0m\u001b[0m\n\u001b[0m\u001b[0;32m    361\u001b[0m \u001b[1;33m\u001b[0m\u001b[0m\n\u001b[0;32m    362\u001b[0m     \u001b[1;32mdef\u001b[0m \u001b[0mfind_elements_by_id\u001b[0m\u001b[1;33m(\u001b[0m\u001b[0mself\u001b[0m\u001b[1;33m,\u001b[0m \u001b[0mid_\u001b[0m\u001b[1;33m)\u001b[0m\u001b[1;33m:\u001b[0m\u001b[1;33m\u001b[0m\u001b[1;33m\u001b[0m\u001b[0m\n",
      "\u001b[1;32m~\\anaconda3\\lib\\site-packages\\selenium\\webdriver\\remote\\webdriver.py\u001b[0m in \u001b[0;36mfind_element\u001b[1;34m(self, by, value)\u001b[0m\n\u001b[0;32m    974\u001b[0m                 \u001b[0mby\u001b[0m \u001b[1;33m=\u001b[0m \u001b[0mBy\u001b[0m\u001b[1;33m.\u001b[0m\u001b[0mCSS_SELECTOR\u001b[0m\u001b[1;33m\u001b[0m\u001b[1;33m\u001b[0m\u001b[0m\n\u001b[0;32m    975\u001b[0m                 \u001b[0mvalue\u001b[0m \u001b[1;33m=\u001b[0m \u001b[1;34m'[name=\"%s\"]'\u001b[0m \u001b[1;33m%\u001b[0m \u001b[0mvalue\u001b[0m\u001b[1;33m\u001b[0m\u001b[1;33m\u001b[0m\u001b[0m\n\u001b[1;32m--> 976\u001b[1;33m         return self.execute(Command.FIND_ELEMENT, {\n\u001b[0m\u001b[0;32m    977\u001b[0m             \u001b[1;34m'using'\u001b[0m\u001b[1;33m:\u001b[0m \u001b[0mby\u001b[0m\u001b[1;33m,\u001b[0m\u001b[1;33m\u001b[0m\u001b[1;33m\u001b[0m\u001b[0m\n\u001b[0;32m    978\u001b[0m             'value': value})['value']\n",
      "\u001b[1;32m~\\anaconda3\\lib\\site-packages\\selenium\\webdriver\\remote\\webdriver.py\u001b[0m in \u001b[0;36mexecute\u001b[1;34m(self, driver_command, params)\u001b[0m\n\u001b[0;32m    319\u001b[0m         \u001b[0mresponse\u001b[0m \u001b[1;33m=\u001b[0m \u001b[0mself\u001b[0m\u001b[1;33m.\u001b[0m\u001b[0mcommand_executor\u001b[0m\u001b[1;33m.\u001b[0m\u001b[0mexecute\u001b[0m\u001b[1;33m(\u001b[0m\u001b[0mdriver_command\u001b[0m\u001b[1;33m,\u001b[0m \u001b[0mparams\u001b[0m\u001b[1;33m)\u001b[0m\u001b[1;33m\u001b[0m\u001b[1;33m\u001b[0m\u001b[0m\n\u001b[0;32m    320\u001b[0m         \u001b[1;32mif\u001b[0m \u001b[0mresponse\u001b[0m\u001b[1;33m:\u001b[0m\u001b[1;33m\u001b[0m\u001b[1;33m\u001b[0m\u001b[0m\n\u001b[1;32m--> 321\u001b[1;33m             \u001b[0mself\u001b[0m\u001b[1;33m.\u001b[0m\u001b[0merror_handler\u001b[0m\u001b[1;33m.\u001b[0m\u001b[0mcheck_response\u001b[0m\u001b[1;33m(\u001b[0m\u001b[0mresponse\u001b[0m\u001b[1;33m)\u001b[0m\u001b[1;33m\u001b[0m\u001b[1;33m\u001b[0m\u001b[0m\n\u001b[0m\u001b[0;32m    322\u001b[0m             response['value'] = self._unwrap_value(\n\u001b[0;32m    323\u001b[0m                 response.get('value', None))\n",
      "\u001b[1;32m~\\anaconda3\\lib\\site-packages\\selenium\\webdriver\\remote\\errorhandler.py\u001b[0m in \u001b[0;36mcheck_response\u001b[1;34m(self, response)\u001b[0m\n\u001b[0;32m    240\u001b[0m                 \u001b[0malert_text\u001b[0m \u001b[1;33m=\u001b[0m \u001b[0mvalue\u001b[0m\u001b[1;33m[\u001b[0m\u001b[1;34m'alert'\u001b[0m\u001b[1;33m]\u001b[0m\u001b[1;33m.\u001b[0m\u001b[0mget\u001b[0m\u001b[1;33m(\u001b[0m\u001b[1;34m'text'\u001b[0m\u001b[1;33m)\u001b[0m\u001b[1;33m\u001b[0m\u001b[1;33m\u001b[0m\u001b[0m\n\u001b[0;32m    241\u001b[0m             \u001b[1;32mraise\u001b[0m \u001b[0mexception_class\u001b[0m\u001b[1;33m(\u001b[0m\u001b[0mmessage\u001b[0m\u001b[1;33m,\u001b[0m \u001b[0mscreen\u001b[0m\u001b[1;33m,\u001b[0m \u001b[0mstacktrace\u001b[0m\u001b[1;33m,\u001b[0m \u001b[0malert_text\u001b[0m\u001b[1;33m)\u001b[0m\u001b[1;33m\u001b[0m\u001b[1;33m\u001b[0m\u001b[0m\n\u001b[1;32m--> 242\u001b[1;33m         \u001b[1;32mraise\u001b[0m \u001b[0mexception_class\u001b[0m\u001b[1;33m(\u001b[0m\u001b[0mmessage\u001b[0m\u001b[1;33m,\u001b[0m \u001b[0mscreen\u001b[0m\u001b[1;33m,\u001b[0m \u001b[0mstacktrace\u001b[0m\u001b[1;33m)\u001b[0m\u001b[1;33m\u001b[0m\u001b[1;33m\u001b[0m\u001b[0m\n\u001b[0m\u001b[0;32m    243\u001b[0m \u001b[1;33m\u001b[0m\u001b[0m\n\u001b[0;32m    244\u001b[0m     \u001b[1;32mdef\u001b[0m \u001b[0m_value_or_default\u001b[0m\u001b[1;33m(\u001b[0m\u001b[0mself\u001b[0m\u001b[1;33m,\u001b[0m \u001b[0mobj\u001b[0m\u001b[1;33m,\u001b[0m \u001b[0mkey\u001b[0m\u001b[1;33m,\u001b[0m \u001b[0mdefault\u001b[0m\u001b[1;33m)\u001b[0m\u001b[1;33m:\u001b[0m\u001b[1;33m\u001b[0m\u001b[1;33m\u001b[0m\u001b[0m\n",
      "\u001b[1;31mNoSuchElementException\u001b[0m: Message: no such element: Unable to locate element: {\"method\":\"css selector\",\"selector\":\"[id=\"common-customCheckbox vertical-filters-label\"]\"}\n  (Session info: chrome=89.0.4389.114)\n"
     ]
    }
   ],
   "source": [
    "search_job= driver.find_element_by_id('common-customCheckbox vertical-filters-label')\n",
    "search_job.send_keys(\"\")"
   ]
  },
  {
   "cell_type": "code",
   "execution_count": 122,
   "metadata": {},
   "outputs": [],
   "source": [
    "search_btn=driver.find_element_by_xpath(\"//label[@class='common-customCheckbox vertical-filters-label']\")\n",
    "search_btn.click()"
   ]
  },
  {
   "cell_type": "code",
   "execution_count": 123,
   "metadata": {},
   "outputs": [],
   "source": [
    "Brand=[]\n",
    "Shoe_Description=[]\n",
    "Price=[]"
   ]
  },
  {
   "cell_type": "markdown",
   "metadata": {},
   "source": [
    "# Q10:"
   ]
  },
  {
   "cell_type": "code",
   "execution_count": 137,
   "metadata": {},
   "outputs": [],
   "source": [
    "driver.get('https://www.amazon.in/')"
   ]
  },
  {
   "cell_type": "code",
   "execution_count": 138,
   "metadata": {},
   "outputs": [],
   "source": [
    "#finding element for search bar\n",
    "search_a= driver.find_element_by_id('twotabsearchtextbox')\n",
    "search_a.send_keys(\"Laptop\")"
   ]
  },
  {
   "cell_type": "code",
   "execution_count": 140,
   "metadata": {},
   "outputs": [],
   "source": [
    "search_btn=driver.find_element_by_xpath(\"//div[@class='nav-search-submit nav-sprite']\")\n",
    "search_btn.click()"
   ]
  },
  {
   "cell_type": "code",
   "execution_count": 141,
   "metadata": {},
   "outputs": [],
   "source": [
    "search_F2=driver.find_element_by_xpath(\"//span[@class='a-list-item']\")\n",
    "search_F2.click()"
   ]
  },
  {
   "cell_type": "code",
   "execution_count": 142,
   "metadata": {},
   "outputs": [
    {
     "ename": "NoSuchElementException",
     "evalue": "Message: no such element: Unable to locate element: {\"method\":\"xpath\",\"selector\":\"//a[@class='a-link-normal s-navigation-item']\"}\n  (Session info: chrome=89.0.4389.114)\n",
     "output_type": "error",
     "traceback": [
      "\u001b[1;31m---------------------------------------------------------------------------\u001b[0m",
      "\u001b[1;31mNoSuchElementException\u001b[0m                    Traceback (most recent call last)",
      "\u001b[1;32m<ipython-input-142-b5a79be3b798>\u001b[0m in \u001b[0;36m<module>\u001b[1;34m\u001b[0m\n\u001b[1;32m----> 1\u001b[1;33m \u001b[0msearch_F2\u001b[0m\u001b[1;33m=\u001b[0m\u001b[0mdriver\u001b[0m\u001b[1;33m.\u001b[0m\u001b[0mfind_element_by_xpath\u001b[0m\u001b[1;33m(\u001b[0m\u001b[1;34m\"//a[@class='a-link-normal s-navigation-item']\"\u001b[0m\u001b[1;33m)\u001b[0m\u001b[1;33m\u001b[0m\u001b[1;33m\u001b[0m\u001b[0m\n\u001b[0m\u001b[0;32m      2\u001b[0m \u001b[0msearch_F2\u001b[0m\u001b[1;33m.\u001b[0m\u001b[0mclick\u001b[0m\u001b[1;33m(\u001b[0m\u001b[1;33m)\u001b[0m\u001b[1;33m\u001b[0m\u001b[1;33m\u001b[0m\u001b[0m\n",
      "\u001b[1;32m~\\anaconda3\\lib\\site-packages\\selenium\\webdriver\\remote\\webdriver.py\u001b[0m in \u001b[0;36mfind_element_by_xpath\u001b[1;34m(self, xpath)\u001b[0m\n\u001b[0;32m    392\u001b[0m             \u001b[0melement\u001b[0m \u001b[1;33m=\u001b[0m \u001b[0mdriver\u001b[0m\u001b[1;33m.\u001b[0m\u001b[0mfind_element_by_xpath\u001b[0m\u001b[1;33m(\u001b[0m\u001b[1;34m'//div/td[1]'\u001b[0m\u001b[1;33m)\u001b[0m\u001b[1;33m\u001b[0m\u001b[1;33m\u001b[0m\u001b[0m\n\u001b[0;32m    393\u001b[0m         \"\"\"\n\u001b[1;32m--> 394\u001b[1;33m         \u001b[1;32mreturn\u001b[0m \u001b[0mself\u001b[0m\u001b[1;33m.\u001b[0m\u001b[0mfind_element\u001b[0m\u001b[1;33m(\u001b[0m\u001b[0mby\u001b[0m\u001b[1;33m=\u001b[0m\u001b[0mBy\u001b[0m\u001b[1;33m.\u001b[0m\u001b[0mXPATH\u001b[0m\u001b[1;33m,\u001b[0m \u001b[0mvalue\u001b[0m\u001b[1;33m=\u001b[0m\u001b[0mxpath\u001b[0m\u001b[1;33m)\u001b[0m\u001b[1;33m\u001b[0m\u001b[1;33m\u001b[0m\u001b[0m\n\u001b[0m\u001b[0;32m    395\u001b[0m \u001b[1;33m\u001b[0m\u001b[0m\n\u001b[0;32m    396\u001b[0m     \u001b[1;32mdef\u001b[0m \u001b[0mfind_elements_by_xpath\u001b[0m\u001b[1;33m(\u001b[0m\u001b[0mself\u001b[0m\u001b[1;33m,\u001b[0m \u001b[0mxpath\u001b[0m\u001b[1;33m)\u001b[0m\u001b[1;33m:\u001b[0m\u001b[1;33m\u001b[0m\u001b[1;33m\u001b[0m\u001b[0m\n",
      "\u001b[1;32m~\\anaconda3\\lib\\site-packages\\selenium\\webdriver\\remote\\webdriver.py\u001b[0m in \u001b[0;36mfind_element\u001b[1;34m(self, by, value)\u001b[0m\n\u001b[0;32m    974\u001b[0m                 \u001b[0mby\u001b[0m \u001b[1;33m=\u001b[0m \u001b[0mBy\u001b[0m\u001b[1;33m.\u001b[0m\u001b[0mCSS_SELECTOR\u001b[0m\u001b[1;33m\u001b[0m\u001b[1;33m\u001b[0m\u001b[0m\n\u001b[0;32m    975\u001b[0m                 \u001b[0mvalue\u001b[0m \u001b[1;33m=\u001b[0m \u001b[1;34m'[name=\"%s\"]'\u001b[0m \u001b[1;33m%\u001b[0m \u001b[0mvalue\u001b[0m\u001b[1;33m\u001b[0m\u001b[1;33m\u001b[0m\u001b[0m\n\u001b[1;32m--> 976\u001b[1;33m         return self.execute(Command.FIND_ELEMENT, {\n\u001b[0m\u001b[0;32m    977\u001b[0m             \u001b[1;34m'using'\u001b[0m\u001b[1;33m:\u001b[0m \u001b[0mby\u001b[0m\u001b[1;33m,\u001b[0m\u001b[1;33m\u001b[0m\u001b[1;33m\u001b[0m\u001b[0m\n\u001b[0;32m    978\u001b[0m             'value': value})['value']\n",
      "\u001b[1;32m~\\anaconda3\\lib\\site-packages\\selenium\\webdriver\\remote\\webdriver.py\u001b[0m in \u001b[0;36mexecute\u001b[1;34m(self, driver_command, params)\u001b[0m\n\u001b[0;32m    319\u001b[0m         \u001b[0mresponse\u001b[0m \u001b[1;33m=\u001b[0m \u001b[0mself\u001b[0m\u001b[1;33m.\u001b[0m\u001b[0mcommand_executor\u001b[0m\u001b[1;33m.\u001b[0m\u001b[0mexecute\u001b[0m\u001b[1;33m(\u001b[0m\u001b[0mdriver_command\u001b[0m\u001b[1;33m,\u001b[0m \u001b[0mparams\u001b[0m\u001b[1;33m)\u001b[0m\u001b[1;33m\u001b[0m\u001b[1;33m\u001b[0m\u001b[0m\n\u001b[0;32m    320\u001b[0m         \u001b[1;32mif\u001b[0m \u001b[0mresponse\u001b[0m\u001b[1;33m:\u001b[0m\u001b[1;33m\u001b[0m\u001b[1;33m\u001b[0m\u001b[0m\n\u001b[1;32m--> 321\u001b[1;33m             \u001b[0mself\u001b[0m\u001b[1;33m.\u001b[0m\u001b[0merror_handler\u001b[0m\u001b[1;33m.\u001b[0m\u001b[0mcheck_response\u001b[0m\u001b[1;33m(\u001b[0m\u001b[0mresponse\u001b[0m\u001b[1;33m)\u001b[0m\u001b[1;33m\u001b[0m\u001b[1;33m\u001b[0m\u001b[0m\n\u001b[0m\u001b[0;32m    322\u001b[0m             response['value'] = self._unwrap_value(\n\u001b[0;32m    323\u001b[0m                 response.get('value', None))\n",
      "\u001b[1;32m~\\anaconda3\\lib\\site-packages\\selenium\\webdriver\\remote\\errorhandler.py\u001b[0m in \u001b[0;36mcheck_response\u001b[1;34m(self, response)\u001b[0m\n\u001b[0;32m    240\u001b[0m                 \u001b[0malert_text\u001b[0m \u001b[1;33m=\u001b[0m \u001b[0mvalue\u001b[0m\u001b[1;33m[\u001b[0m\u001b[1;34m'alert'\u001b[0m\u001b[1;33m]\u001b[0m\u001b[1;33m.\u001b[0m\u001b[0mget\u001b[0m\u001b[1;33m(\u001b[0m\u001b[1;34m'text'\u001b[0m\u001b[1;33m)\u001b[0m\u001b[1;33m\u001b[0m\u001b[1;33m\u001b[0m\u001b[0m\n\u001b[0;32m    241\u001b[0m             \u001b[1;32mraise\u001b[0m \u001b[0mexception_class\u001b[0m\u001b[1;33m(\u001b[0m\u001b[0mmessage\u001b[0m\u001b[1;33m,\u001b[0m \u001b[0mscreen\u001b[0m\u001b[1;33m,\u001b[0m \u001b[0mstacktrace\u001b[0m\u001b[1;33m,\u001b[0m \u001b[0malert_text\u001b[0m\u001b[1;33m)\u001b[0m\u001b[1;33m\u001b[0m\u001b[1;33m\u001b[0m\u001b[0m\n\u001b[1;32m--> 242\u001b[1;33m         \u001b[1;32mraise\u001b[0m \u001b[0mexception_class\u001b[0m\u001b[1;33m(\u001b[0m\u001b[0mmessage\u001b[0m\u001b[1;33m,\u001b[0m \u001b[0mscreen\u001b[0m\u001b[1;33m,\u001b[0m \u001b[0mstacktrace\u001b[0m\u001b[1;33m)\u001b[0m\u001b[1;33m\u001b[0m\u001b[1;33m\u001b[0m\u001b[0m\n\u001b[0m\u001b[0;32m    243\u001b[0m \u001b[1;33m\u001b[0m\u001b[0m\n\u001b[0;32m    244\u001b[0m     \u001b[1;32mdef\u001b[0m \u001b[0m_value_or_default\u001b[0m\u001b[1;33m(\u001b[0m\u001b[0mself\u001b[0m\u001b[1;33m,\u001b[0m \u001b[0mobj\u001b[0m\u001b[1;33m,\u001b[0m \u001b[0mkey\u001b[0m\u001b[1;33m,\u001b[0m \u001b[0mdefault\u001b[0m\u001b[1;33m)\u001b[0m\u001b[1;33m:\u001b[0m\u001b[1;33m\u001b[0m\u001b[1;33m\u001b[0m\u001b[0m\n",
      "\u001b[1;31mNoSuchElementException\u001b[0m: Message: no such element: Unable to locate element: {\"method\":\"xpath\",\"selector\":\"//a[@class='a-link-normal s-navigation-item']\"}\n  (Session info: chrome=89.0.4389.114)\n"
     ]
    }
   ],
   "source": [
    "search_F2=driver.find_element_by_xpath(\"//a[@class='a-link-normal s-navigation-item']\")\n",
    "search_F2.click()"
   ]
  },
  {
   "cell_type": "code",
   "execution_count": 143,
   "metadata": {},
   "outputs": [],
   "source": [
    "Titles=[]\n",
    "Ratings=[]\n",
    "Price=[]"
   ]
  },
  {
   "cell_type": "code",
   "execution_count": 144,
   "metadata": {},
   "outputs": [
    {
     "data": {
      "text/plain": [
       "[<selenium.webdriver.remote.webelement.WebElement (session=\"3b55533e8bcca8c2dd839b7e9b7f122c\", element=\"d3bcd0c8-6fbc-47c1-bd79-67d180d18088\")>,\n",
       " <selenium.webdriver.remote.webelement.WebElement (session=\"3b55533e8bcca8c2dd839b7e9b7f122c\", element=\"ec0619d3-6013-41a3-aa53-df3fd5a57910\")>,\n",
       " <selenium.webdriver.remote.webelement.WebElement (session=\"3b55533e8bcca8c2dd839b7e9b7f122c\", element=\"4d7367e2-dfa3-4028-af1a-5fcba67c5428\")>,\n",
       " <selenium.webdriver.remote.webelement.WebElement (session=\"3b55533e8bcca8c2dd839b7e9b7f122c\", element=\"f8cdc8c9-f448-4439-9a8d-3fb096fbb61f\")>,\n",
       " <selenium.webdriver.remote.webelement.WebElement (session=\"3b55533e8bcca8c2dd839b7e9b7f122c\", element=\"02908cec-dc8d-4b0b-a489-be9453ee627a\")>,\n",
       " <selenium.webdriver.remote.webelement.WebElement (session=\"3b55533e8bcca8c2dd839b7e9b7f122c\", element=\"7b362d3c-f4d5-4281-8cf0-0e1e2f918db3\")>,\n",
       " <selenium.webdriver.remote.webelement.WebElement (session=\"3b55533e8bcca8c2dd839b7e9b7f122c\", element=\"6f444648-f0e5-42cb-b715-62789543f9b1\")>,\n",
       " <selenium.webdriver.remote.webelement.WebElement (session=\"3b55533e8bcca8c2dd839b7e9b7f122c\", element=\"1fbdfb64-9007-4681-b38e-bf21489e8097\")>,\n",
       " <selenium.webdriver.remote.webelement.WebElement (session=\"3b55533e8bcca8c2dd839b7e9b7f122c\", element=\"0ff8d0f7-f0cb-4c74-8e6b-4fb5ea98781d\")>,\n",
       " <selenium.webdriver.remote.webelement.WebElement (session=\"3b55533e8bcca8c2dd839b7e9b7f122c\", element=\"58ac4bed-354e-49b8-a137-ab0adfec443b\")>]"
      ]
     },
     "execution_count": 144,
     "metadata": {},
     "output_type": "execute_result"
    }
   ],
   "source": [
    "#so lets extract all the tags having the titles\n",
    "titles_tags=driver.find_elements_by_xpath(\"//h2[@class='a-size-mini a-spacing-none a-color-base s-line-clamp-2']\")\n",
    "titles_tags[0:10]"
   ]
  },
  {
   "cell_type": "code",
   "execution_count": 145,
   "metadata": {},
   "outputs": [
    {
     "data": {
      "text/plain": [
       "['AVITA Essential NE14A2INC433-MB 14-inch Laptop (Celeron N4000/4GB/128GB SSD/Window 10 Home in S Mode/Integrated Graphics), Matt Black',\n",
       " 'Asus X509MA-BR270T/ Silver/ Intel Celeron N4020/ RAM 4GB/ SSD 256GB/ 15.6 inch HD/ FP/ 2Cell/ Win 10SL',\n",
       " 'HP 14 (2021) Thin & Light 11th Gen Core i3 Laptop, 8 GB RAM, 256GB SSD, 14-inch FHD Screen, Windows 10, MS Office, Alexa Built-in (14s-dy2500TU)',\n",
       " 'Acer Aspire 3 Intel Core i3-10th Gen 15.6 - inch 1920 x 1080 Thin and Light Laptop (4GB Ram/1TB HDD/Window 10/Integrated Graphics/Shale Black/1.9 kgs), A315-56',\n",
       " 'Lenovo V145-AMD-A6 15.6 inch HD Laptop (4GB RAM/ 1TB HDD/ Windows 10 Home/ Black/ 2.1 kg), 81MTA000IH',\n",
       " 'AVITA PURA NS14A6INT441-SGGYB 14-inch Laptop (8th Gen Intel Core i3-8145U / 4 GB RAM / 256 GB SSD/Windows 10 Home/FHD/Intel® UHD Graphics 620/1.34Kg), Space Grey with 3-in-1 Grey Sleeve',\n",
       " 'Acer One 14 Pentium Dual Core - (4 GB/1 TB HDD/Windows 10 Home) Z2-485 Thin and Light Laptop (14 inch, Silver, 1.8 kg)',\n",
       " 'Lenovo IdeaPad Slim 3 10th Gen Intel Core i5 15.6-inch Full HD IPS Thin and Light Laptop (8GB/512GB SSD/Windows 10/MS Office 2019/Fingerprint Reader/Platinum Grey/1.85Kg), 81WE018TIN',\n",
       " 'ASUS ZenBook Pro Duo Intel Core i9-10980HK 10th Gen 15.6\" 4K UHD OLED Touchscreen Laptop (32GB RAM/1TB NVMe SSD/Windows 10/6GB NVIDIA GeForce RTX 2060 Graphics/Celestial Blue/2.5 Kg), UX581LV-H2035T',\n",
       " 'MI Notebook 14 (IC) Intel Core i5-10210U 10th Gen Thin and Light Laptop(8GB/256GB SSD/Windows 10/Intel UHD Graphics/Silver/1.5Kg), XMA1901-FL']"
      ]
     },
     "execution_count": 145,
     "metadata": {},
     "output_type": "execute_result"
    }
   ],
   "source": [
    "for i in titles_tags:\n",
    "    comp=i.text\n",
    "    Titles.append(comp)\n",
    "Titles[0:10]"
   ]
  },
  {
   "cell_type": "markdown",
   "metadata": {},
   "source": [
    "Ratings"
   ]
  },
  {
   "cell_type": "code",
   "execution_count": 146,
   "metadata": {},
   "outputs": [
    {
     "data": {
      "text/plain": [
       "[<selenium.webdriver.remote.webelement.WebElement (session=\"3b55533e8bcca8c2dd839b7e9b7f122c\", element=\"59dea758-120f-4ef0-80eb-2a535b3263ac\")>,\n",
       " <selenium.webdriver.remote.webelement.WebElement (session=\"3b55533e8bcca8c2dd839b7e9b7f122c\", element=\"9ce83d6b-1b92-407d-8f80-941a4166ad95\")>,\n",
       " <selenium.webdriver.remote.webelement.WebElement (session=\"3b55533e8bcca8c2dd839b7e9b7f122c\", element=\"9fdb6560-bac7-418c-b92d-37cb6010c231\")>,\n",
       " <selenium.webdriver.remote.webelement.WebElement (session=\"3b55533e8bcca8c2dd839b7e9b7f122c\", element=\"c96bb87e-fae3-455c-b2cd-c0d978197f2d\")>,\n",
       " <selenium.webdriver.remote.webelement.WebElement (session=\"3b55533e8bcca8c2dd839b7e9b7f122c\", element=\"82cc0261-8120-444e-920e-ffcd8d974434\")>,\n",
       " <selenium.webdriver.remote.webelement.WebElement (session=\"3b55533e8bcca8c2dd839b7e9b7f122c\", element=\"054bb2d0-2dab-4147-9b8a-259adf57acfc\")>,\n",
       " <selenium.webdriver.remote.webelement.WebElement (session=\"3b55533e8bcca8c2dd839b7e9b7f122c\", element=\"0fdfd1d2-664a-40ec-b613-d9faf630ad32\")>,\n",
       " <selenium.webdriver.remote.webelement.WebElement (session=\"3b55533e8bcca8c2dd839b7e9b7f122c\", element=\"50775646-29af-42f4-bab1-237399a10065\")>,\n",
       " <selenium.webdriver.remote.webelement.WebElement (session=\"3b55533e8bcca8c2dd839b7e9b7f122c\", element=\"7d0873f7-1c4a-4ccd-94f1-999d58140d7d\")>,\n",
       " <selenium.webdriver.remote.webelement.WebElement (session=\"3b55533e8bcca8c2dd839b7e9b7f122c\", element=\"d9ba30c0-1933-4922-9323-db8032712610\")>]"
      ]
     },
     "execution_count": 146,
     "metadata": {},
     "output_type": "execute_result"
    }
   ],
   "source": [
    "#so lets extract all the tags having the titles\n",
    "rating_tags=driver.find_elements_by_xpath(\"//div[@class='a-row a-size-small']\")\n",
    "rating_tags[0:10]"
   ]
  },
  {
   "cell_type": "code",
   "execution_count": 147,
   "metadata": {},
   "outputs": [
    {
     "data": {
      "text/plain": [
       "['397', '624', '305', '105', '63', '21', '97', '3', '781', '390']"
      ]
     },
     "execution_count": 147,
     "metadata": {},
     "output_type": "execute_result"
    }
   ],
   "source": [
    "for i in rating_tags:\n",
    "    Rating=i.text\n",
    "    Ratings.append(Rating)\n",
    "Ratings[0:10]"
   ]
  },
  {
   "cell_type": "markdown",
   "metadata": {},
   "source": [
    "Price"
   ]
  },
  {
   "cell_type": "code",
   "execution_count": 148,
   "metadata": {},
   "outputs": [
    {
     "data": {
      "text/plain": [
       "[<selenium.webdriver.remote.webelement.WebElement (session=\"3b55533e8bcca8c2dd839b7e9b7f122c\", element=\"aa9f31b5-934a-4764-befa-521b6c12e386\")>,\n",
       " <selenium.webdriver.remote.webelement.WebElement (session=\"3b55533e8bcca8c2dd839b7e9b7f122c\", element=\"065cd3ec-20a9-424c-9111-4f10f93abba8\")>,\n",
       " <selenium.webdriver.remote.webelement.WebElement (session=\"3b55533e8bcca8c2dd839b7e9b7f122c\", element=\"04613ec4-0650-4ec8-b816-212418d2abe8\")>,\n",
       " <selenium.webdriver.remote.webelement.WebElement (session=\"3b55533e8bcca8c2dd839b7e9b7f122c\", element=\"e7f3eb2e-fb50-4c1e-8b6f-e7711d939f26\")>,\n",
       " <selenium.webdriver.remote.webelement.WebElement (session=\"3b55533e8bcca8c2dd839b7e9b7f122c\", element=\"110fed93-c84f-4367-9f23-a44d24d39467\")>,\n",
       " <selenium.webdriver.remote.webelement.WebElement (session=\"3b55533e8bcca8c2dd839b7e9b7f122c\", element=\"29343675-20ec-43fe-b0fb-ec5130514c23\")>,\n",
       " <selenium.webdriver.remote.webelement.WebElement (session=\"3b55533e8bcca8c2dd839b7e9b7f122c\", element=\"226e9262-74ba-4628-9d81-1a017457976e\")>,\n",
       " <selenium.webdriver.remote.webelement.WebElement (session=\"3b55533e8bcca8c2dd839b7e9b7f122c\", element=\"64d1730e-122e-4dc7-8fe1-437e2e80a881\")>,\n",
       " <selenium.webdriver.remote.webelement.WebElement (session=\"3b55533e8bcca8c2dd839b7e9b7f122c\", element=\"a0d65e37-559f-4ef1-8e2a-7db3d1269743\")>,\n",
       " <selenium.webdriver.remote.webelement.WebElement (session=\"3b55533e8bcca8c2dd839b7e9b7f122c\", element=\"396f07c4-7462-4874-a773-a79f971b0033\")>]"
      ]
     },
     "execution_count": 148,
     "metadata": {},
     "output_type": "execute_result"
    }
   ],
   "source": [
    "#so lets extract all the tags having the titles\n",
    "price_tags=driver.find_elements_by_xpath(\"//span[@class='a-price-whole']\")\n",
    "price_tags[0:10]"
   ]
  },
  {
   "cell_type": "code",
   "execution_count": 149,
   "metadata": {},
   "outputs": [
    {
     "data": {
      "text/plain": [
       "['18,990',\n",
       " '23,650',\n",
       " '37,990',\n",
       " '30,990',\n",
       " '26,990',\n",
       " '28,990',\n",
       " '23,990',\n",
       " '53,400',\n",
       " '2,69,990',\n",
       " '43,999']"
      ]
     },
     "execution_count": 149,
     "metadata": {},
     "output_type": "execute_result"
    }
   ],
   "source": [
    "\n",
    "for i in price_tags:\n",
    "    price=i.text\n",
    "    Price.append(price)\n",
    "Price[0:10]"
   ]
  }
 ],
 "metadata": {
  "kernelspec": {
   "display_name": "Python 3",
   "language": "python",
   "name": "python3"
  },
  "language_info": {
   "codemirror_mode": {
    "name": "ipython",
    "version": 3
   },
   "file_extension": ".py",
   "mimetype": "text/x-python",
   "name": "python",
   "nbconvert_exporter": "python",
   "pygments_lexer": "ipython3",
   "version": "3.8.5"
  }
 },
 "nbformat": 4,
 "nbformat_minor": 4
}
